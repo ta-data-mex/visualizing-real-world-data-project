{
 "cells": [
  {
   "cell_type": "code",
   "execution_count": 1,
   "metadata": {},
   "outputs": [],
   "source": [
    "import pandas as pd\n",
    "import numpy as np"
   ]
  },
  {
   "cell_type": "code",
   "execution_count": 11,
   "metadata": {},
   "outputs": [],
   "source": [
    "import plotly.express as px\n",
    "import cufflinks"
   ]
  },
  {
   "cell_type": "code",
   "execution_count": 2,
   "metadata": {},
   "outputs": [
    {
     "data": {
      "text/html": [
       "<div>\n",
       "<style scoped>\n",
       "    .dataframe tbody tr th:only-of-type {\n",
       "        vertical-align: middle;\n",
       "    }\n",
       "\n",
       "    .dataframe tbody tr th {\n",
       "        vertical-align: top;\n",
       "    }\n",
       "\n",
       "    .dataframe thead th {\n",
       "        text-align: right;\n",
       "    }\n",
       "</style>\n",
       "<table border=\"1\" class=\"dataframe\">\n",
       "  <thead>\n",
       "    <tr style=\"text-align: right;\">\n",
       "      <th></th>\n",
       "      <th>Año</th>\n",
       "      <th>Clave Entidad</th>\n",
       "      <th>Entidad</th>\n",
       "      <th>Clave Municipio</th>\n",
       "      <th>Municipio</th>\n",
       "      <th>Género</th>\n",
       "      <th>Rango de edad</th>\n",
       "      <th>Población</th>\n",
       "    </tr>\n",
       "  </thead>\n",
       "  <tbody>\n",
       "    <tr>\n",
       "      <th>0</th>\n",
       "      <td>2015</td>\n",
       "      <td>31</td>\n",
       "      <td>Yucatán</td>\n",
       "      <td>31001</td>\n",
       "      <td>Abalá</td>\n",
       "      <td>Mujeres</td>\n",
       "      <td>De 0 a 4 años</td>\n",
       "      <td>318</td>\n",
       "    </tr>\n",
       "    <tr>\n",
       "      <th>1</th>\n",
       "      <td>2016</td>\n",
       "      <td>31</td>\n",
       "      <td>Yucatán</td>\n",
       "      <td>31001</td>\n",
       "      <td>Abalá</td>\n",
       "      <td>Mujeres</td>\n",
       "      <td>De 0 a 4 años</td>\n",
       "      <td>317</td>\n",
       "    </tr>\n",
       "    <tr>\n",
       "      <th>2</th>\n",
       "      <td>2017</td>\n",
       "      <td>31</td>\n",
       "      <td>Yucatán</td>\n",
       "      <td>31001</td>\n",
       "      <td>Abalá</td>\n",
       "      <td>Mujeres</td>\n",
       "      <td>De 0 a 4 años</td>\n",
       "      <td>317</td>\n",
       "    </tr>\n",
       "    <tr>\n",
       "      <th>3</th>\n",
       "      <td>2018</td>\n",
       "      <td>31</td>\n",
       "      <td>Yucatán</td>\n",
       "      <td>31001</td>\n",
       "      <td>Abalá</td>\n",
       "      <td>Mujeres</td>\n",
       "      <td>De 0 a 4 años</td>\n",
       "      <td>317</td>\n",
       "    </tr>\n",
       "    <tr>\n",
       "      <th>4</th>\n",
       "      <td>2019</td>\n",
       "      <td>31</td>\n",
       "      <td>Yucatán</td>\n",
       "      <td>31001</td>\n",
       "      <td>Abalá</td>\n",
       "      <td>Mujeres</td>\n",
       "      <td>De 0 a 4 años</td>\n",
       "      <td>316</td>\n",
       "    </tr>\n",
       "    <tr>\n",
       "      <th>...</th>\n",
       "      <td>...</td>\n",
       "      <td>...</td>\n",
       "      <td>...</td>\n",
       "      <td>...</td>\n",
       "      <td>...</td>\n",
       "      <td>...</td>\n",
       "      <td>...</td>\n",
       "      <td>...</td>\n",
       "    </tr>\n",
       "    <tr>\n",
       "      <th>1094907</th>\n",
       "      <td>2026</td>\n",
       "      <td>20</td>\n",
       "      <td>Oaxaca</td>\n",
       "      <td>20174</td>\n",
       "      <td>Ánimas Trujano</td>\n",
       "      <td>Hombres</td>\n",
       "      <td>De 65 o más</td>\n",
       "      <td>145</td>\n",
       "    </tr>\n",
       "    <tr>\n",
       "      <th>1094908</th>\n",
       "      <td>2027</td>\n",
       "      <td>20</td>\n",
       "      <td>Oaxaca</td>\n",
       "      <td>20174</td>\n",
       "      <td>Ánimas Trujano</td>\n",
       "      <td>Hombres</td>\n",
       "      <td>De 65 o más</td>\n",
       "      <td>149</td>\n",
       "    </tr>\n",
       "    <tr>\n",
       "      <th>1094909</th>\n",
       "      <td>2028</td>\n",
       "      <td>20</td>\n",
       "      <td>Oaxaca</td>\n",
       "      <td>20174</td>\n",
       "      <td>Ánimas Trujano</td>\n",
       "      <td>Hombres</td>\n",
       "      <td>De 65 o más</td>\n",
       "      <td>153</td>\n",
       "    </tr>\n",
       "    <tr>\n",
       "      <th>1094910</th>\n",
       "      <td>2029</td>\n",
       "      <td>20</td>\n",
       "      <td>Oaxaca</td>\n",
       "      <td>20174</td>\n",
       "      <td>Ánimas Trujano</td>\n",
       "      <td>Hombres</td>\n",
       "      <td>De 65 o más</td>\n",
       "      <td>158</td>\n",
       "    </tr>\n",
       "    <tr>\n",
       "      <th>1094911</th>\n",
       "      <td>2030</td>\n",
       "      <td>20</td>\n",
       "      <td>Oaxaca</td>\n",
       "      <td>20174</td>\n",
       "      <td>Ánimas Trujano</td>\n",
       "      <td>Hombres</td>\n",
       "      <td>De 65 o más</td>\n",
       "      <td>163</td>\n",
       "    </tr>\n",
       "  </tbody>\n",
       "</table>\n",
       "<p>1094912 rows × 8 columns</p>\n",
       "</div>"
      ],
      "text/plain": [
       "          Año  Clave Entidad  Entidad  Clave Municipio       Municipio  \\\n",
       "0        2015             31  Yucatán            31001           Abalá   \n",
       "1        2016             31  Yucatán            31001           Abalá   \n",
       "2        2017             31  Yucatán            31001           Abalá   \n",
       "3        2018             31  Yucatán            31001           Abalá   \n",
       "4        2019             31  Yucatán            31001           Abalá   \n",
       "...       ...            ...      ...              ...             ...   \n",
       "1094907  2026             20   Oaxaca            20174  Ánimas Trujano   \n",
       "1094908  2027             20   Oaxaca            20174  Ánimas Trujano   \n",
       "1094909  2028             20   Oaxaca            20174  Ánimas Trujano   \n",
       "1094910  2029             20   Oaxaca            20174  Ánimas Trujano   \n",
       "1094911  2030             20   Oaxaca            20174  Ánimas Trujano   \n",
       "\n",
       "          Género  Rango de edad  Población  \n",
       "0        Mujeres  De 0 a 4 años        318  \n",
       "1        Mujeres  De 0 a 4 años        317  \n",
       "2        Mujeres  De 0 a 4 años        317  \n",
       "3        Mujeres  De 0 a 4 años        317  \n",
       "4        Mujeres  De 0 a 4 años        316  \n",
       "...          ...            ...        ...  \n",
       "1094907  Hombres    De 65 o más        145  \n",
       "1094908  Hombres    De 65 o más        149  \n",
       "1094909  Hombres    De 65 o más        153  \n",
       "1094910  Hombres    De 65 o más        158  \n",
       "1094911  Hombres    De 65 o más        163  \n",
       "\n",
       "[1094912 rows x 8 columns]"
      ]
     },
     "execution_count": 2,
     "metadata": {},
     "output_type": "execute_result"
    }
   ],
   "source": [
    "data1 = pd.read_csv('poblacion_municipal_2015-2030.csv', encoding = \"ISO-8859-1\", low_memory=False)\n",
    "data1"
   ]
  },
  {
   "cell_type": "code",
   "execution_count": 3,
   "metadata": {},
   "outputs": [],
   "source": [
    "data2 = data1.rename(columns={'Año':'anio',\n",
    "                              'Clave Entidad':'clave_entidad',\n",
    "                              'Entidad':'entidad',\n",
    "                              'Clave Municipio':'clave_municipio',\n",
    "                              'Municipio':'municipio',\n",
    "                              'Género':'genero',\n",
    "                              'Rango de edad':'rango_edad',\n",
    "                              'Población':'poblacion'})"
   ]
  },
  {
   "cell_type": "code",
   "execution_count": 4,
   "metadata": {},
   "outputs": [
    {
     "data": {
      "text/html": [
       "<div>\n",
       "<style scoped>\n",
       "    .dataframe tbody tr th:only-of-type {\n",
       "        vertical-align: middle;\n",
       "    }\n",
       "\n",
       "    .dataframe tbody tr th {\n",
       "        vertical-align: top;\n",
       "    }\n",
       "\n",
       "    .dataframe thead th {\n",
       "        text-align: right;\n",
       "    }\n",
       "</style>\n",
       "<table border=\"1\" class=\"dataframe\">\n",
       "  <thead>\n",
       "    <tr style=\"text-align: right;\">\n",
       "      <th></th>\n",
       "      <th>anio</th>\n",
       "      <th>clave_entidad</th>\n",
       "      <th>entidad</th>\n",
       "      <th>clave_municipio</th>\n",
       "      <th>municipio</th>\n",
       "      <th>genero</th>\n",
       "      <th>rango_edad</th>\n",
       "      <th>poblacion</th>\n",
       "    </tr>\n",
       "  </thead>\n",
       "  <tbody>\n",
       "    <tr>\n",
       "      <th>0</th>\n",
       "      <td>2015</td>\n",
       "      <td>31</td>\n",
       "      <td>Yucatán</td>\n",
       "      <td>31001</td>\n",
       "      <td>Abalá</td>\n",
       "      <td>Mujeres</td>\n",
       "      <td>De 0 a 4 años</td>\n",
       "      <td>318</td>\n",
       "    </tr>\n",
       "    <tr>\n",
       "      <th>1</th>\n",
       "      <td>2016</td>\n",
       "      <td>31</td>\n",
       "      <td>Yucatán</td>\n",
       "      <td>31001</td>\n",
       "      <td>Abalá</td>\n",
       "      <td>Mujeres</td>\n",
       "      <td>De 0 a 4 años</td>\n",
       "      <td>317</td>\n",
       "    </tr>\n",
       "    <tr>\n",
       "      <th>2</th>\n",
       "      <td>2017</td>\n",
       "      <td>31</td>\n",
       "      <td>Yucatán</td>\n",
       "      <td>31001</td>\n",
       "      <td>Abalá</td>\n",
       "      <td>Mujeres</td>\n",
       "      <td>De 0 a 4 años</td>\n",
       "      <td>317</td>\n",
       "    </tr>\n",
       "    <tr>\n",
       "      <th>3</th>\n",
       "      <td>2018</td>\n",
       "      <td>31</td>\n",
       "      <td>Yucatán</td>\n",
       "      <td>31001</td>\n",
       "      <td>Abalá</td>\n",
       "      <td>Mujeres</td>\n",
       "      <td>De 0 a 4 años</td>\n",
       "      <td>317</td>\n",
       "    </tr>\n",
       "    <tr>\n",
       "      <th>4</th>\n",
       "      <td>2019</td>\n",
       "      <td>31</td>\n",
       "      <td>Yucatán</td>\n",
       "      <td>31001</td>\n",
       "      <td>Abalá</td>\n",
       "      <td>Mujeres</td>\n",
       "      <td>De 0 a 4 años</td>\n",
       "      <td>316</td>\n",
       "    </tr>\n",
       "    <tr>\n",
       "      <th>...</th>\n",
       "      <td>...</td>\n",
       "      <td>...</td>\n",
       "      <td>...</td>\n",
       "      <td>...</td>\n",
       "      <td>...</td>\n",
       "      <td>...</td>\n",
       "      <td>...</td>\n",
       "      <td>...</td>\n",
       "    </tr>\n",
       "    <tr>\n",
       "      <th>1094907</th>\n",
       "      <td>2026</td>\n",
       "      <td>20</td>\n",
       "      <td>Oaxaca</td>\n",
       "      <td>20174</td>\n",
       "      <td>Ánimas Trujano</td>\n",
       "      <td>Hombres</td>\n",
       "      <td>De 65 o más</td>\n",
       "      <td>145</td>\n",
       "    </tr>\n",
       "    <tr>\n",
       "      <th>1094908</th>\n",
       "      <td>2027</td>\n",
       "      <td>20</td>\n",
       "      <td>Oaxaca</td>\n",
       "      <td>20174</td>\n",
       "      <td>Ánimas Trujano</td>\n",
       "      <td>Hombres</td>\n",
       "      <td>De 65 o más</td>\n",
       "      <td>149</td>\n",
       "    </tr>\n",
       "    <tr>\n",
       "      <th>1094909</th>\n",
       "      <td>2028</td>\n",
       "      <td>20</td>\n",
       "      <td>Oaxaca</td>\n",
       "      <td>20174</td>\n",
       "      <td>Ánimas Trujano</td>\n",
       "      <td>Hombres</td>\n",
       "      <td>De 65 o más</td>\n",
       "      <td>153</td>\n",
       "    </tr>\n",
       "    <tr>\n",
       "      <th>1094910</th>\n",
       "      <td>2029</td>\n",
       "      <td>20</td>\n",
       "      <td>Oaxaca</td>\n",
       "      <td>20174</td>\n",
       "      <td>Ánimas Trujano</td>\n",
       "      <td>Hombres</td>\n",
       "      <td>De 65 o más</td>\n",
       "      <td>158</td>\n",
       "    </tr>\n",
       "    <tr>\n",
       "      <th>1094911</th>\n",
       "      <td>2030</td>\n",
       "      <td>20</td>\n",
       "      <td>Oaxaca</td>\n",
       "      <td>20174</td>\n",
       "      <td>Ánimas Trujano</td>\n",
       "      <td>Hombres</td>\n",
       "      <td>De 65 o más</td>\n",
       "      <td>163</td>\n",
       "    </tr>\n",
       "  </tbody>\n",
       "</table>\n",
       "<p>1094912 rows × 8 columns</p>\n",
       "</div>"
      ],
      "text/plain": [
       "         anio  clave_entidad  entidad  clave_municipio       municipio  \\\n",
       "0        2015             31  Yucatán            31001           Abalá   \n",
       "1        2016             31  Yucatán            31001           Abalá   \n",
       "2        2017             31  Yucatán            31001           Abalá   \n",
       "3        2018             31  Yucatán            31001           Abalá   \n",
       "4        2019             31  Yucatán            31001           Abalá   \n",
       "...       ...            ...      ...              ...             ...   \n",
       "1094907  2026             20   Oaxaca            20174  Ánimas Trujano   \n",
       "1094908  2027             20   Oaxaca            20174  Ánimas Trujano   \n",
       "1094909  2028             20   Oaxaca            20174  Ánimas Trujano   \n",
       "1094910  2029             20   Oaxaca            20174  Ánimas Trujano   \n",
       "1094911  2030             20   Oaxaca            20174  Ánimas Trujano   \n",
       "\n",
       "          genero     rango_edad  poblacion  \n",
       "0        Mujeres  De 0 a 4 años        318  \n",
       "1        Mujeres  De 0 a 4 años        317  \n",
       "2        Mujeres  De 0 a 4 años        317  \n",
       "3        Mujeres  De 0 a 4 años        317  \n",
       "4        Mujeres  De 0 a 4 años        316  \n",
       "...          ...            ...        ...  \n",
       "1094907  Hombres    De 65 o más        145  \n",
       "1094908  Hombres    De 65 o más        149  \n",
       "1094909  Hombres    De 65 o más        153  \n",
       "1094910  Hombres    De 65 o más        158  \n",
       "1094911  Hombres    De 65 o más        163  \n",
       "\n",
       "[1094912 rows x 8 columns]"
      ]
     },
     "execution_count": 4,
     "metadata": {},
     "output_type": "execute_result"
    }
   ],
   "source": [
    "dataset1 = pd.DataFrame(data2)\n",
    "dataset1"
   ]
  },
  {
   "cell_type": "code",
   "execution_count": 5,
   "metadata": {},
   "outputs": [
    {
     "data": {
      "text/plain": [
       "anio                int64\n",
       "clave_entidad       int64\n",
       "entidad            object\n",
       "clave_municipio     int64\n",
       "municipio          object\n",
       "genero             object\n",
       "rango_edad         object\n",
       "poblacion           int64\n",
       "dtype: object"
      ]
     },
     "execution_count": 5,
     "metadata": {},
     "output_type": "execute_result"
    }
   ],
   "source": [
    "dataset1.dtypes"
   ]
  },
  {
   "cell_type": "code",
   "execution_count": 6,
   "metadata": {},
   "outputs": [],
   "source": [
    "dataset1['anio'] = dataset1['anio'].astype(str)\n",
    "dataset1['clave_entidad'] = dataset1['clave_entidad'].astype(str).str.zfill(2)\n",
    "dataset1['clave_municipio'] = dataset1['clave_municipio'].astype(str).str.zfill(3)"
   ]
  },
  {
   "cell_type": "code",
   "execution_count": 7,
   "metadata": {},
   "outputs": [
    {
     "data": {
      "text/plain": [
       "anio               object\n",
       "clave_entidad      object\n",
       "entidad            object\n",
       "clave_municipio    object\n",
       "municipio          object\n",
       "genero             object\n",
       "rango_edad         object\n",
       "poblacion           int64\n",
       "dtype: object"
      ]
     },
     "execution_count": 7,
     "metadata": {},
     "output_type": "execute_result"
    }
   ],
   "source": [
    "dataset1.dtypes"
   ]
  },
  {
   "cell_type": "code",
   "execution_count": 8,
   "metadata": {},
   "outputs": [],
   "source": [
    "dataset2 = dataset1.loc[(dataset1.anio == '2015') | (dataset1.anio == '2016') | (dataset1.anio == '2017') | (dataset1.anio == '2018')]"
   ]
  },
  {
   "cell_type": "code",
   "execution_count": 9,
   "metadata": {},
   "outputs": [
    {
     "data": {
      "text/html": [
       "<div>\n",
       "<style scoped>\n",
       "    .dataframe tbody tr th:only-of-type {\n",
       "        vertical-align: middle;\n",
       "    }\n",
       "\n",
       "    .dataframe tbody tr th {\n",
       "        vertical-align: top;\n",
       "    }\n",
       "\n",
       "    .dataframe thead th {\n",
       "        text-align: right;\n",
       "    }\n",
       "</style>\n",
       "<table border=\"1\" class=\"dataframe\">\n",
       "  <thead>\n",
       "    <tr style=\"text-align: right;\">\n",
       "      <th></th>\n",
       "      <th>anio</th>\n",
       "      <th>clave_entidad</th>\n",
       "      <th>entidad</th>\n",
       "      <th>poblacion</th>\n",
       "    </tr>\n",
       "  </thead>\n",
       "  <tbody>\n",
       "    <tr>\n",
       "      <th>0</th>\n",
       "      <td>2015</td>\n",
       "      <td>01</td>\n",
       "      <td>Aguascalientes</td>\n",
       "      <td>1331825</td>\n",
       "    </tr>\n",
       "    <tr>\n",
       "      <th>1</th>\n",
       "      <td>2015</td>\n",
       "      <td>02</td>\n",
       "      <td>Baja California</td>\n",
       "      <td>3357794</td>\n",
       "    </tr>\n",
       "    <tr>\n",
       "      <th>2</th>\n",
       "      <td>2015</td>\n",
       "      <td>03</td>\n",
       "      <td>Baja California Sur</td>\n",
       "      <td>719846</td>\n",
       "    </tr>\n",
       "    <tr>\n",
       "      <th>3</th>\n",
       "      <td>2015</td>\n",
       "      <td>04</td>\n",
       "      <td>Campeche</td>\n",
       "      <td>916832</td>\n",
       "    </tr>\n",
       "    <tr>\n",
       "      <th>4</th>\n",
       "      <td>2015</td>\n",
       "      <td>05</td>\n",
       "      <td>Coahuila</td>\n",
       "      <td>3000556</td>\n",
       "    </tr>\n",
       "    <tr>\n",
       "      <th>...</th>\n",
       "      <td>...</td>\n",
       "      <td>...</td>\n",
       "      <td>...</td>\n",
       "      <td>...</td>\n",
       "    </tr>\n",
       "    <tr>\n",
       "      <th>123</th>\n",
       "      <td>2018</td>\n",
       "      <td>28</td>\n",
       "      <td>Tamaulipas</td>\n",
       "      <td>3590486</td>\n",
       "    </tr>\n",
       "    <tr>\n",
       "      <th>124</th>\n",
       "      <td>2018</td>\n",
       "      <td>29</td>\n",
       "      <td>Tlaxcala</td>\n",
       "      <td>1329788</td>\n",
       "    </tr>\n",
       "    <tr>\n",
       "      <th>125</th>\n",
       "      <td>2018</td>\n",
       "      <td>30</td>\n",
       "      <td>Veracruz</td>\n",
       "      <td>8323640</td>\n",
       "    </tr>\n",
       "    <tr>\n",
       "      <th>126</th>\n",
       "      <td>2018</td>\n",
       "      <td>31</td>\n",
       "      <td>Yucatán</td>\n",
       "      <td>2208236</td>\n",
       "    </tr>\n",
       "    <tr>\n",
       "      <th>127</th>\n",
       "      <td>2018</td>\n",
       "      <td>32</td>\n",
       "      <td>Zacatecas</td>\n",
       "      <td>1642388</td>\n",
       "    </tr>\n",
       "  </tbody>\n",
       "</table>\n",
       "<p>128 rows × 4 columns</p>\n",
       "</div>"
      ],
      "text/plain": [
       "     anio clave_entidad              entidad  poblacion\n",
       "0    2015            01       Aguascalientes    1331825\n",
       "1    2015            02      Baja California    3357794\n",
       "2    2015            03  Baja California Sur     719846\n",
       "3    2015            04             Campeche     916832\n",
       "4    2015            05             Coahuila    3000556\n",
       "..    ...           ...                  ...        ...\n",
       "123  2018            28           Tamaulipas    3590486\n",
       "124  2018            29             Tlaxcala    1329788\n",
       "125  2018            30             Veracruz    8323640\n",
       "126  2018            31              Yucatán    2208236\n",
       "127  2018            32            Zacatecas    1642388\n",
       "\n",
       "[128 rows x 4 columns]"
      ]
     },
     "execution_count": 9,
     "metadata": {},
     "output_type": "execute_result"
    }
   ],
   "source": [
    "dataset = dataset2.groupby(['anio', 'clave_entidad', 'entidad'], as_index=False).sum()\n",
    "dataset"
   ]
  },
  {
   "cell_type": "code",
   "execution_count": null,
   "metadata": {},
   "outputs": [],
   "source": []
  },
  {
   "cell_type": "code",
   "execution_count": 14,
   "metadata": {},
   "outputs": [
    {
     "data": {
      "application/vnd.plotly.v1+json": {
       "config": {
        "plotlyServerURL": "https://plot.ly"
       },
       "data": [
        {
         "customdata": [
          [
           0
          ],
          [
           1
          ],
          [
           2
          ],
          [
           3
          ],
          [
           4
          ],
          [
           5
          ],
          [
           6
          ],
          [
           7
          ],
          [
           8
          ],
          [
           9
          ],
          [
           10
          ],
          [
           11
          ],
          [
           12
          ],
          [
           13
          ],
          [
           14
          ],
          [
           15
          ],
          [
           16
          ],
          [
           17
          ],
          [
           18
          ],
          [
           19
          ],
          [
           20
          ],
          [
           21
          ],
          [
           22
          ],
          [
           23
          ],
          [
           24
          ],
          [
           25
          ],
          [
           26
          ],
          [
           27
          ],
          [
           28
          ],
          [
           29
          ],
          [
           30
          ],
          [
           31
          ]
         ],
         "hoverlabel": {
          "namelength": 0
         },
         "hovertemplate": "anio=2015<br>entidad=%{x}<br>poblacion=%{marker.size}<br>hover_data_0=%{customdata[0]}",
         "legendgroup": "anio=2015",
         "marker": {
          "color": "#636efa",
          "size": [
           1331825,
           3357794,
           719846,
           916832,
           3000556,
           721696,
           5307819,
           3603291,
           9058734,
           1781575,
           5930618,
           3576592,
           2899495,
           7963314,
           16453628,
           4644732,
           1904999,
           1195482,
           5205425,
           3904499,
           6268331,
           2069556,
           1524873,
           2758239,
           3015790,
           2884754,
           2426269,
           3494719,
           1277754,
           8138223,
           2128802,
           1601701
          ],
          "sizemode": "area",
          "sizeref": 42641.665,
          "symbol": "circle"
         },
         "mode": "markers",
         "name": "anio=2015",
         "showlegend": true,
         "type": "scatter",
         "x": [
          "Aguascalientes",
          "Baja California",
          "Baja California Sur",
          "Campeche",
          "Coahuila",
          "Colima",
          "Chiapas",
          "Chihuahua",
          "Ciudad de México",
          "Durango",
          "Guanajuato",
          "Guerrero",
          "Hidalgo",
          "Jalisco",
          "Estado de México",
          "Michoacán",
          "Morelos",
          "Nayarit",
          "Nuevo León",
          "Oaxaca",
          "Puebla",
          "Querétaro",
          "Quintana Roo",
          "San Luis Potosí",
          "Sinaloa",
          "Sonora",
          "Tabasco",
          "Tamaulipas",
          "Tlaxcala",
          "Veracruz",
          "Yucatán",
          "Zacatecas"
         ],
         "xaxis": "x",
         "y": [
          1331825,
          3357794,
          719846,
          916832,
          3000556,
          721696,
          5307819,
          3603291,
          9058734,
          1781575,
          5930618,
          3576592,
          2899495,
          7963314,
          16453628,
          4644732,
          1904999,
          1195482,
          5205425,
          3904499,
          6268331,
          2069556,
          1524873,
          2758239,
          3015790,
          2884754,
          2426269,
          3494719,
          1277754,
          8138223,
          2128802,
          1601701
         ],
         "yaxis": "y"
        },
        {
         "customdata": [
          [
           32
          ],
          [
           33
          ],
          [
           34
          ],
          [
           35
          ],
          [
           36
          ],
          [
           37
          ],
          [
           38
          ],
          [
           39
          ],
          [
           40
          ],
          [
           41
          ],
          [
           42
          ],
          [
           43
          ],
          [
           44
          ],
          [
           45
          ],
          [
           46
          ],
          [
           47
          ],
          [
           48
          ],
          [
           49
          ],
          [
           50
          ],
          [
           51
          ],
          [
           52
          ],
          [
           53
          ],
          [
           54
          ],
          [
           55
          ],
          [
           56
          ],
          [
           57
          ],
          [
           58
          ],
          [
           59
          ],
          [
           60
          ],
          [
           61
          ],
          [
           62
          ],
          [
           63
          ]
         ],
         "hoverlabel": {
          "namelength": 0
         },
         "hovertemplate": "anio=2016<br>entidad=%{x}<br>poblacion=%{marker.size}<br>hover_data_0=%{customdata[0]}",
         "legendgroup": "anio=2016",
         "marker": {
          "color": "#EF553B",
          "size": [
           1355321,
           3403335,
           736995,
           933436,
           3043062,
           734663,
           5393944,
           3636308,
           9053990,
           1801963,
           5997487,
           3597311,
           2938756,
           8055955,
           16658503,
           4684829,
           1928926,
           1214627,
           5294203,
           3930855,
           6339773,
           2113731,
           1564920,
           2781457,
           3049383,
           2922666,
           2457373,
           3527104,
           1296722,
           8210820,
           2155883,
           1616675
          ],
          "sizemode": "area",
          "sizeref": 42641.665,
          "symbol": "circle"
         },
         "mode": "markers",
         "name": "anio=2016",
         "showlegend": true,
         "type": "scatter",
         "x": [
          "Aguascalientes",
          "Baja California",
          "Baja California Sur",
          "Campeche",
          "Coahuila",
          "Colima",
          "Chiapas",
          "Chihuahua",
          "Ciudad de México",
          "Durango",
          "Guanajuato",
          "Guerrero",
          "Hidalgo",
          "Jalisco",
          "Estado de México",
          "Michoacán",
          "Morelos",
          "Nayarit",
          "Nuevo León",
          "Oaxaca",
          "Puebla",
          "Querétaro",
          "Quintana Roo",
          "San Luis Potosí",
          "Sinaloa",
          "Sonora",
          "Tabasco",
          "Tamaulipas",
          "Tlaxcala",
          "Veracruz",
          "Yucatán",
          "Zacatecas"
         ],
         "xaxis": "x",
         "y": [
          1355321,
          3403335,
          736995,
          933436,
          3043062,
          734663,
          5393944,
          3636308,
          9053990,
          1801963,
          5997487,
          3597311,
          2938756,
          8055955,
          16658503,
          4684829,
          1928926,
          1214627,
          5294203,
          3930855,
          6339773,
          2113731,
          1564920,
          2781457,
          3049383,
          2922666,
          2457373,
          3527104,
          1296722,
          8210820,
          2155883,
          1616675
         ],
         "yaxis": "y"
        },
        {
         "customdata": [
          [
           64
          ],
          [
           65
          ],
          [
           66
          ],
          [
           67
          ],
          [
           68
          ],
          [
           69
          ],
          [
           70
          ],
          [
           71
          ],
          [
           72
          ],
          [
           73
          ],
          [
           74
          ],
          [
           75
          ],
          [
           76
          ],
          [
           77
          ],
          [
           78
          ],
          [
           79
          ],
          [
           80
          ],
          [
           81
          ],
          [
           82
          ],
          [
           83
          ],
          [
           84
          ],
          [
           85
          ],
          [
           86
          ],
          [
           87
          ],
          [
           88
          ],
          [
           89
          ],
          [
           90
          ],
          [
           91
          ],
          [
           92
          ],
          [
           93
          ],
          [
           94
          ],
          [
           95
          ]
         ],
         "hoverlabel": {
          "namelength": 0
         },
         "hovertemplate": "anio=2017<br>entidad=%{x}<br>poblacion=%{marker.size}<br>hover_data_0=%{customdata[0]}",
         "legendgroup": "anio=2017",
         "marker": {
          "color": "#00cc96",
          "size": [
           1375782,
           3462872,
           754270,
           950458,
           3087852,
           747603,
           5479352,
           3676336,
           9049086,
           1819494,
           6058569,
           3614241,
           2976979,
           8149170,
           16861082,
           4721848,
           1951874,
           1233716,
           5375246,
           3955832,
           6407186,
           2156167,
           1605362,
           2803692,
           3077430,
           2961810,
           2486932,
           3559268,
           1313453,
           8268736,
           2182255,
           1629789
          ],
          "sizemode": "area",
          "sizeref": 42641.665,
          "symbol": "circle"
         },
         "mode": "markers",
         "name": "anio=2017",
         "showlegend": true,
         "type": "scatter",
         "x": [
          "Aguascalientes",
          "Baja California",
          "Baja California Sur",
          "Campeche",
          "Coahuila",
          "Colima",
          "Chiapas",
          "Chihuahua",
          "Ciudad de México",
          "Durango",
          "Guanajuato",
          "Guerrero",
          "Hidalgo",
          "Jalisco",
          "Estado de México",
          "Michoacán",
          "Morelos",
          "Nayarit",
          "Nuevo León",
          "Oaxaca",
          "Puebla",
          "Querétaro",
          "Quintana Roo",
          "San Luis Potosí",
          "Sinaloa",
          "Sonora",
          "Tabasco",
          "Tamaulipas",
          "Tlaxcala",
          "Veracruz",
          "Yucatán",
          "Zacatecas"
         ],
         "xaxis": "x",
         "y": [
          1375782,
          3462872,
          754270,
          950458,
          3087852,
          747603,
          5479352,
          3676336,
          9049086,
          1819494,
          6058569,
          3614241,
          2976979,
          8149170,
          16861082,
          4721848,
          1951874,
          1233716,
          5375246,
          3955832,
          6407186,
          2156167,
          1605362,
          2803692,
          3077430,
          2961810,
          2486932,
          3559268,
          1313453,
          8268736,
          2182255,
          1629789
         ],
         "yaxis": "y"
        },
        {
         "customdata": [
          [
           96
          ],
          [
           97
          ],
          [
           98
          ],
          [
           99
          ],
          [
           100
          ],
          [
           101
          ],
          [
           102
          ],
          [
           103
          ],
          [
           104
          ],
          [
           105
          ],
          [
           106
          ],
          [
           107
          ],
          [
           108
          ],
          [
           109
          ],
          [
           110
          ],
          [
           111
          ],
          [
           112
          ],
          [
           113
          ],
          [
           114
          ],
          [
           115
          ],
          [
           116
          ],
          [
           117
          ],
          [
           118
          ],
          [
           119
          ],
          [
           120
          ],
          [
           121
          ],
          [
           122
          ],
          [
           123
          ],
          [
           124
          ],
          [
           125
          ],
          [
           126
          ],
          [
           127
          ]
         ],
         "hoverlabel": {
          "namelength": 0
         },
         "hovertemplate": "anio=2018<br>entidad=%{x}<br>poblacion=%{marker.size}<br>hover_data_0=%{customdata[0]}",
         "legendgroup": "anio=2018",
         "marker": {
          "color": "#ab63fa",
          "size": [
           1395794,
           3521242,
           771294,
           967319,
           3132017,
           760333,
           5563869,
           3714966,
           9041395,
           1836460,
           6117205,
           3629733,
           3014258,
           8238991,
           17056666,
           4757482,
           1974175,
           1252363,
           5454848,
           3979682,
           6472592,
           2197938,
           1645237,
           2825157,
           3104610,
           3000127,
           2515926,
           3590486,
           1329788,
           8323640,
           2208236,
           1642388
          ],
          "sizemode": "area",
          "sizeref": 42641.665,
          "symbol": "circle"
         },
         "mode": "markers",
         "name": "anio=2018",
         "showlegend": true,
         "type": "scatter",
         "x": [
          "Aguascalientes",
          "Baja California",
          "Baja California Sur",
          "Campeche",
          "Coahuila",
          "Colima",
          "Chiapas",
          "Chihuahua",
          "Ciudad de México",
          "Durango",
          "Guanajuato",
          "Guerrero",
          "Hidalgo",
          "Jalisco",
          "Estado de México",
          "Michoacán",
          "Morelos",
          "Nayarit",
          "Nuevo León",
          "Oaxaca",
          "Puebla",
          "Querétaro",
          "Quintana Roo",
          "San Luis Potosí",
          "Sinaloa",
          "Sonora",
          "Tabasco",
          "Tamaulipas",
          "Tlaxcala",
          "Veracruz",
          "Yucatán",
          "Zacatecas"
         ],
         "xaxis": "x",
         "y": [
          1395794,
          3521242,
          771294,
          967319,
          3132017,
          760333,
          5563869,
          3714966,
          9041395,
          1836460,
          6117205,
          3629733,
          3014258,
          8238991,
          17056666,
          4757482,
          1974175,
          1252363,
          5454848,
          3979682,
          6472592,
          2197938,
          1645237,
          2825157,
          3104610,
          3000127,
          2515926,
          3590486,
          1329788,
          8323640,
          2208236,
          1642388
         ],
         "yaxis": "y"
        }
       ],
       "layout": {
        "height": 600,
        "legend": {
         "itemsizing": "constant",
         "tracegroupgap": 0
        },
        "margin": {
         "t": 60
        },
        "template": {
         "data": {
          "bar": [
           {
            "error_x": {
             "color": "#2a3f5f"
            },
            "error_y": {
             "color": "#2a3f5f"
            },
            "marker": {
             "line": {
              "color": "#E5ECF6",
              "width": 0.5
             }
            },
            "type": "bar"
           }
          ],
          "barpolar": [
           {
            "marker": {
             "line": {
              "color": "#E5ECF6",
              "width": 0.5
             }
            },
            "type": "barpolar"
           }
          ],
          "carpet": [
           {
            "aaxis": {
             "endlinecolor": "#2a3f5f",
             "gridcolor": "white",
             "linecolor": "white",
             "minorgridcolor": "white",
             "startlinecolor": "#2a3f5f"
            },
            "baxis": {
             "endlinecolor": "#2a3f5f",
             "gridcolor": "white",
             "linecolor": "white",
             "minorgridcolor": "white",
             "startlinecolor": "#2a3f5f"
            },
            "type": "carpet"
           }
          ],
          "choropleth": [
           {
            "colorbar": {
             "outlinewidth": 0,
             "ticks": ""
            },
            "type": "choropleth"
           }
          ],
          "contour": [
           {
            "colorbar": {
             "outlinewidth": 0,
             "ticks": ""
            },
            "colorscale": [
             [
              0,
              "#0d0887"
             ],
             [
              0.1111111111111111,
              "#46039f"
             ],
             [
              0.2222222222222222,
              "#7201a8"
             ],
             [
              0.3333333333333333,
              "#9c179e"
             ],
             [
              0.4444444444444444,
              "#bd3786"
             ],
             [
              0.5555555555555556,
              "#d8576b"
             ],
             [
              0.6666666666666666,
              "#ed7953"
             ],
             [
              0.7777777777777778,
              "#fb9f3a"
             ],
             [
              0.8888888888888888,
              "#fdca26"
             ],
             [
              1,
              "#f0f921"
             ]
            ],
            "type": "contour"
           }
          ],
          "contourcarpet": [
           {
            "colorbar": {
             "outlinewidth": 0,
             "ticks": ""
            },
            "type": "contourcarpet"
           }
          ],
          "heatmap": [
           {
            "colorbar": {
             "outlinewidth": 0,
             "ticks": ""
            },
            "colorscale": [
             [
              0,
              "#0d0887"
             ],
             [
              0.1111111111111111,
              "#46039f"
             ],
             [
              0.2222222222222222,
              "#7201a8"
             ],
             [
              0.3333333333333333,
              "#9c179e"
             ],
             [
              0.4444444444444444,
              "#bd3786"
             ],
             [
              0.5555555555555556,
              "#d8576b"
             ],
             [
              0.6666666666666666,
              "#ed7953"
             ],
             [
              0.7777777777777778,
              "#fb9f3a"
             ],
             [
              0.8888888888888888,
              "#fdca26"
             ],
             [
              1,
              "#f0f921"
             ]
            ],
            "type": "heatmap"
           }
          ],
          "heatmapgl": [
           {
            "colorbar": {
             "outlinewidth": 0,
             "ticks": ""
            },
            "colorscale": [
             [
              0,
              "#0d0887"
             ],
             [
              0.1111111111111111,
              "#46039f"
             ],
             [
              0.2222222222222222,
              "#7201a8"
             ],
             [
              0.3333333333333333,
              "#9c179e"
             ],
             [
              0.4444444444444444,
              "#bd3786"
             ],
             [
              0.5555555555555556,
              "#d8576b"
             ],
             [
              0.6666666666666666,
              "#ed7953"
             ],
             [
              0.7777777777777778,
              "#fb9f3a"
             ],
             [
              0.8888888888888888,
              "#fdca26"
             ],
             [
              1,
              "#f0f921"
             ]
            ],
            "type": "heatmapgl"
           }
          ],
          "histogram": [
           {
            "marker": {
             "colorbar": {
              "outlinewidth": 0,
              "ticks": ""
             }
            },
            "type": "histogram"
           }
          ],
          "histogram2d": [
           {
            "colorbar": {
             "outlinewidth": 0,
             "ticks": ""
            },
            "colorscale": [
             [
              0,
              "#0d0887"
             ],
             [
              0.1111111111111111,
              "#46039f"
             ],
             [
              0.2222222222222222,
              "#7201a8"
             ],
             [
              0.3333333333333333,
              "#9c179e"
             ],
             [
              0.4444444444444444,
              "#bd3786"
             ],
             [
              0.5555555555555556,
              "#d8576b"
             ],
             [
              0.6666666666666666,
              "#ed7953"
             ],
             [
              0.7777777777777778,
              "#fb9f3a"
             ],
             [
              0.8888888888888888,
              "#fdca26"
             ],
             [
              1,
              "#f0f921"
             ]
            ],
            "type": "histogram2d"
           }
          ],
          "histogram2dcontour": [
           {
            "colorbar": {
             "outlinewidth": 0,
             "ticks": ""
            },
            "colorscale": [
             [
              0,
              "#0d0887"
             ],
             [
              0.1111111111111111,
              "#46039f"
             ],
             [
              0.2222222222222222,
              "#7201a8"
             ],
             [
              0.3333333333333333,
              "#9c179e"
             ],
             [
              0.4444444444444444,
              "#bd3786"
             ],
             [
              0.5555555555555556,
              "#d8576b"
             ],
             [
              0.6666666666666666,
              "#ed7953"
             ],
             [
              0.7777777777777778,
              "#fb9f3a"
             ],
             [
              0.8888888888888888,
              "#fdca26"
             ],
             [
              1,
              "#f0f921"
             ]
            ],
            "type": "histogram2dcontour"
           }
          ],
          "mesh3d": [
           {
            "colorbar": {
             "outlinewidth": 0,
             "ticks": ""
            },
            "type": "mesh3d"
           }
          ],
          "parcoords": [
           {
            "line": {
             "colorbar": {
              "outlinewidth": 0,
              "ticks": ""
             }
            },
            "type": "parcoords"
           }
          ],
          "pie": [
           {
            "automargin": true,
            "type": "pie"
           }
          ],
          "scatter": [
           {
            "marker": {
             "colorbar": {
              "outlinewidth": 0,
              "ticks": ""
             }
            },
            "type": "scatter"
           }
          ],
          "scatter3d": [
           {
            "line": {
             "colorbar": {
              "outlinewidth": 0,
              "ticks": ""
             }
            },
            "marker": {
             "colorbar": {
              "outlinewidth": 0,
              "ticks": ""
             }
            },
            "type": "scatter3d"
           }
          ],
          "scattercarpet": [
           {
            "marker": {
             "colorbar": {
              "outlinewidth": 0,
              "ticks": ""
             }
            },
            "type": "scattercarpet"
           }
          ],
          "scattergeo": [
           {
            "marker": {
             "colorbar": {
              "outlinewidth": 0,
              "ticks": ""
             }
            },
            "type": "scattergeo"
           }
          ],
          "scattergl": [
           {
            "marker": {
             "colorbar": {
              "outlinewidth": 0,
              "ticks": ""
             }
            },
            "type": "scattergl"
           }
          ],
          "scattermapbox": [
           {
            "marker": {
             "colorbar": {
              "outlinewidth": 0,
              "ticks": ""
             }
            },
            "type": "scattermapbox"
           }
          ],
          "scatterpolar": [
           {
            "marker": {
             "colorbar": {
              "outlinewidth": 0,
              "ticks": ""
             }
            },
            "type": "scatterpolar"
           }
          ],
          "scatterpolargl": [
           {
            "marker": {
             "colorbar": {
              "outlinewidth": 0,
              "ticks": ""
             }
            },
            "type": "scatterpolargl"
           }
          ],
          "scatterternary": [
           {
            "marker": {
             "colorbar": {
              "outlinewidth": 0,
              "ticks": ""
             }
            },
            "type": "scatterternary"
           }
          ],
          "surface": [
           {
            "colorbar": {
             "outlinewidth": 0,
             "ticks": ""
            },
            "colorscale": [
             [
              0,
              "#0d0887"
             ],
             [
              0.1111111111111111,
              "#46039f"
             ],
             [
              0.2222222222222222,
              "#7201a8"
             ],
             [
              0.3333333333333333,
              "#9c179e"
             ],
             [
              0.4444444444444444,
              "#bd3786"
             ],
             [
              0.5555555555555556,
              "#d8576b"
             ],
             [
              0.6666666666666666,
              "#ed7953"
             ],
             [
              0.7777777777777778,
              "#fb9f3a"
             ],
             [
              0.8888888888888888,
              "#fdca26"
             ],
             [
              1,
              "#f0f921"
             ]
            ],
            "type": "surface"
           }
          ],
          "table": [
           {
            "cells": {
             "fill": {
              "color": "#EBF0F8"
             },
             "line": {
              "color": "white"
             }
            },
            "header": {
             "fill": {
              "color": "#C8D4E3"
             },
             "line": {
              "color": "white"
             }
            },
            "type": "table"
           }
          ]
         },
         "layout": {
          "annotationdefaults": {
           "arrowcolor": "#2a3f5f",
           "arrowhead": 0,
           "arrowwidth": 1
          },
          "coloraxis": {
           "colorbar": {
            "outlinewidth": 0,
            "ticks": ""
           }
          },
          "colorscale": {
           "diverging": [
            [
             0,
             "#8e0152"
            ],
            [
             0.1,
             "#c51b7d"
            ],
            [
             0.2,
             "#de77ae"
            ],
            [
             0.3,
             "#f1b6da"
            ],
            [
             0.4,
             "#fde0ef"
            ],
            [
             0.5,
             "#f7f7f7"
            ],
            [
             0.6,
             "#e6f5d0"
            ],
            [
             0.7,
             "#b8e186"
            ],
            [
             0.8,
             "#7fbc41"
            ],
            [
             0.9,
             "#4d9221"
            ],
            [
             1,
             "#276419"
            ]
           ],
           "sequential": [
            [
             0,
             "#0d0887"
            ],
            [
             0.1111111111111111,
             "#46039f"
            ],
            [
             0.2222222222222222,
             "#7201a8"
            ],
            [
             0.3333333333333333,
             "#9c179e"
            ],
            [
             0.4444444444444444,
             "#bd3786"
            ],
            [
             0.5555555555555556,
             "#d8576b"
            ],
            [
             0.6666666666666666,
             "#ed7953"
            ],
            [
             0.7777777777777778,
             "#fb9f3a"
            ],
            [
             0.8888888888888888,
             "#fdca26"
            ],
            [
             1,
             "#f0f921"
            ]
           ],
           "sequentialminus": [
            [
             0,
             "#0d0887"
            ],
            [
             0.1111111111111111,
             "#46039f"
            ],
            [
             0.2222222222222222,
             "#7201a8"
            ],
            [
             0.3333333333333333,
             "#9c179e"
            ],
            [
             0.4444444444444444,
             "#bd3786"
            ],
            [
             0.5555555555555556,
             "#d8576b"
            ],
            [
             0.6666666666666666,
             "#ed7953"
            ],
            [
             0.7777777777777778,
             "#fb9f3a"
            ],
            [
             0.8888888888888888,
             "#fdca26"
            ],
            [
             1,
             "#f0f921"
            ]
           ]
          },
          "colorway": [
           "#636efa",
           "#EF553B",
           "#00cc96",
           "#ab63fa",
           "#FFA15A",
           "#19d3f3",
           "#FF6692",
           "#B6E880",
           "#FF97FF",
           "#FECB52"
          ],
          "font": {
           "color": "#2a3f5f"
          },
          "geo": {
           "bgcolor": "white",
           "lakecolor": "white",
           "landcolor": "#E5ECF6",
           "showlakes": true,
           "showland": true,
           "subunitcolor": "white"
          },
          "hoverlabel": {
           "align": "left"
          },
          "hovermode": "closest",
          "mapbox": {
           "style": "light"
          },
          "paper_bgcolor": "white",
          "plot_bgcolor": "#E5ECF6",
          "polar": {
           "angularaxis": {
            "gridcolor": "white",
            "linecolor": "white",
            "ticks": ""
           },
           "bgcolor": "#E5ECF6",
           "radialaxis": {
            "gridcolor": "white",
            "linecolor": "white",
            "ticks": ""
           }
          },
          "scene": {
           "xaxis": {
            "backgroundcolor": "#E5ECF6",
            "gridcolor": "white",
            "gridwidth": 2,
            "linecolor": "white",
            "showbackground": true,
            "ticks": "",
            "zerolinecolor": "white"
           },
           "yaxis": {
            "backgroundcolor": "#E5ECF6",
            "gridcolor": "white",
            "gridwidth": 2,
            "linecolor": "white",
            "showbackground": true,
            "ticks": "",
            "zerolinecolor": "white"
           },
           "zaxis": {
            "backgroundcolor": "#E5ECF6",
            "gridcolor": "white",
            "gridwidth": 2,
            "linecolor": "white",
            "showbackground": true,
            "ticks": "",
            "zerolinecolor": "white"
           }
          },
          "shapedefaults": {
           "line": {
            "color": "#2a3f5f"
           }
          },
          "ternary": {
           "aaxis": {
            "gridcolor": "white",
            "linecolor": "white",
            "ticks": ""
           },
           "baxis": {
            "gridcolor": "white",
            "linecolor": "white",
            "ticks": ""
           },
           "bgcolor": "#E5ECF6",
           "caxis": {
            "gridcolor": "white",
            "linecolor": "white",
            "ticks": ""
           }
          },
          "title": {
           "x": 0.05
          },
          "xaxis": {
           "automargin": true,
           "gridcolor": "white",
           "linecolor": "white",
           "ticks": "",
           "title": {
            "standoff": 15
           },
           "zerolinecolor": "white",
           "zerolinewidth": 2
          },
          "yaxis": {
           "automargin": true,
           "gridcolor": "white",
           "linecolor": "white",
           "ticks": "",
           "title": {
            "standoff": 15
           },
           "zerolinecolor": "white",
           "zerolinewidth": 2
          }
         }
        },
        "xaxis": {
         "anchor": "y",
         "domain": [
          0,
          1
         ],
         "title": {
          "text": "entidad"
         }
        },
        "yaxis": {
         "anchor": "x",
         "domain": [
          0,
          1
         ],
         "title": {
          "text": "poblacion"
         }
        }
       }
      },
      "text/html": [
       "<div>\n",
       "        \n",
       "        \n",
       "            <div id=\"ae630423-f178-4d4d-844c-e93346c0de73\" class=\"plotly-graph-div\" style=\"height:600px; width:100%;\"></div>\n",
       "            <script type=\"text/javascript\">\n",
       "                require([\"plotly\"], function(Plotly) {\n",
       "                    window.PLOTLYENV=window.PLOTLYENV || {};\n",
       "                    \n",
       "                if (document.getElementById(\"ae630423-f178-4d4d-844c-e93346c0de73\")) {\n",
       "                    Plotly.newPlot(\n",
       "                        'ae630423-f178-4d4d-844c-e93346c0de73',\n",
       "                        [{\"customdata\": [[0], [1], [2], [3], [4], [5], [6], [7], [8], [9], [10], [11], [12], [13], [14], [15], [16], [17], [18], [19], [20], [21], [22], [23], [24], [25], [26], [27], [28], [29], [30], [31]], \"hoverlabel\": {\"namelength\": 0}, \"hovertemplate\": \"anio=2015<br>entidad=%{x}<br>poblacion=%{marker.size}<br>hover_data_0=%{customdata[0]}\", \"legendgroup\": \"anio=2015\", \"marker\": {\"color\": \"#636efa\", \"size\": [1331825, 3357794, 719846, 916832, 3000556, 721696, 5307819, 3603291, 9058734, 1781575, 5930618, 3576592, 2899495, 7963314, 16453628, 4644732, 1904999, 1195482, 5205425, 3904499, 6268331, 2069556, 1524873, 2758239, 3015790, 2884754, 2426269, 3494719, 1277754, 8138223, 2128802, 1601701], \"sizemode\": \"area\", \"sizeref\": 42641.665, \"symbol\": \"circle\"}, \"mode\": \"markers\", \"name\": \"anio=2015\", \"showlegend\": true, \"type\": \"scatter\", \"x\": [\"Aguascalientes\", \"Baja California\", \"Baja California Sur\", \"Campeche\", \"Coahuila\", \"Colima\", \"Chiapas\", \"Chihuahua\", \"Ciudad de M\\u00e9xico\", \"Durango\", \"Guanajuato\", \"Guerrero\", \"Hidalgo\", \"Jalisco\", \"Estado de M\\u00e9xico\", \"Michoac\\u00e1n\", \"Morelos\", \"Nayarit\", \"Nuevo Le\\u00f3n\", \"Oaxaca\", \"Puebla\", \"Quer\\u00e9taro\", \"Quintana Roo\", \"San Luis Potos\\u00ed\", \"Sinaloa\", \"Sonora\", \"Tabasco\", \"Tamaulipas\", \"Tlaxcala\", \"Veracruz\", \"Yucat\\u00e1n\", \"Zacatecas\"], \"xaxis\": \"x\", \"y\": [1331825, 3357794, 719846, 916832, 3000556, 721696, 5307819, 3603291, 9058734, 1781575, 5930618, 3576592, 2899495, 7963314, 16453628, 4644732, 1904999, 1195482, 5205425, 3904499, 6268331, 2069556, 1524873, 2758239, 3015790, 2884754, 2426269, 3494719, 1277754, 8138223, 2128802, 1601701], \"yaxis\": \"y\"}, {\"customdata\": [[32], [33], [34], [35], [36], [37], [38], [39], [40], [41], [42], [43], [44], [45], [46], [47], [48], [49], [50], [51], [52], [53], [54], [55], [56], [57], [58], [59], [60], [61], [62], [63]], \"hoverlabel\": {\"namelength\": 0}, \"hovertemplate\": \"anio=2016<br>entidad=%{x}<br>poblacion=%{marker.size}<br>hover_data_0=%{customdata[0]}\", \"legendgroup\": \"anio=2016\", \"marker\": {\"color\": \"#EF553B\", \"size\": [1355321, 3403335, 736995, 933436, 3043062, 734663, 5393944, 3636308, 9053990, 1801963, 5997487, 3597311, 2938756, 8055955, 16658503, 4684829, 1928926, 1214627, 5294203, 3930855, 6339773, 2113731, 1564920, 2781457, 3049383, 2922666, 2457373, 3527104, 1296722, 8210820, 2155883, 1616675], \"sizemode\": \"area\", \"sizeref\": 42641.665, \"symbol\": \"circle\"}, \"mode\": \"markers\", \"name\": \"anio=2016\", \"showlegend\": true, \"type\": \"scatter\", \"x\": [\"Aguascalientes\", \"Baja California\", \"Baja California Sur\", \"Campeche\", \"Coahuila\", \"Colima\", \"Chiapas\", \"Chihuahua\", \"Ciudad de M\\u00e9xico\", \"Durango\", \"Guanajuato\", \"Guerrero\", \"Hidalgo\", \"Jalisco\", \"Estado de M\\u00e9xico\", \"Michoac\\u00e1n\", \"Morelos\", \"Nayarit\", \"Nuevo Le\\u00f3n\", \"Oaxaca\", \"Puebla\", \"Quer\\u00e9taro\", \"Quintana Roo\", \"San Luis Potos\\u00ed\", \"Sinaloa\", \"Sonora\", \"Tabasco\", \"Tamaulipas\", \"Tlaxcala\", \"Veracruz\", \"Yucat\\u00e1n\", \"Zacatecas\"], \"xaxis\": \"x\", \"y\": [1355321, 3403335, 736995, 933436, 3043062, 734663, 5393944, 3636308, 9053990, 1801963, 5997487, 3597311, 2938756, 8055955, 16658503, 4684829, 1928926, 1214627, 5294203, 3930855, 6339773, 2113731, 1564920, 2781457, 3049383, 2922666, 2457373, 3527104, 1296722, 8210820, 2155883, 1616675], \"yaxis\": \"y\"}, {\"customdata\": [[64], [65], [66], [67], [68], [69], [70], [71], [72], [73], [74], [75], [76], [77], [78], [79], [80], [81], [82], [83], [84], [85], [86], [87], [88], [89], [90], [91], [92], [93], [94], [95]], \"hoverlabel\": {\"namelength\": 0}, \"hovertemplate\": \"anio=2017<br>entidad=%{x}<br>poblacion=%{marker.size}<br>hover_data_0=%{customdata[0]}\", \"legendgroup\": \"anio=2017\", \"marker\": {\"color\": \"#00cc96\", \"size\": [1375782, 3462872, 754270, 950458, 3087852, 747603, 5479352, 3676336, 9049086, 1819494, 6058569, 3614241, 2976979, 8149170, 16861082, 4721848, 1951874, 1233716, 5375246, 3955832, 6407186, 2156167, 1605362, 2803692, 3077430, 2961810, 2486932, 3559268, 1313453, 8268736, 2182255, 1629789], \"sizemode\": \"area\", \"sizeref\": 42641.665, \"symbol\": \"circle\"}, \"mode\": \"markers\", \"name\": \"anio=2017\", \"showlegend\": true, \"type\": \"scatter\", \"x\": [\"Aguascalientes\", \"Baja California\", \"Baja California Sur\", \"Campeche\", \"Coahuila\", \"Colima\", \"Chiapas\", \"Chihuahua\", \"Ciudad de M\\u00e9xico\", \"Durango\", \"Guanajuato\", \"Guerrero\", \"Hidalgo\", \"Jalisco\", \"Estado de M\\u00e9xico\", \"Michoac\\u00e1n\", \"Morelos\", \"Nayarit\", \"Nuevo Le\\u00f3n\", \"Oaxaca\", \"Puebla\", \"Quer\\u00e9taro\", \"Quintana Roo\", \"San Luis Potos\\u00ed\", \"Sinaloa\", \"Sonora\", \"Tabasco\", \"Tamaulipas\", \"Tlaxcala\", \"Veracruz\", \"Yucat\\u00e1n\", \"Zacatecas\"], \"xaxis\": \"x\", \"y\": [1375782, 3462872, 754270, 950458, 3087852, 747603, 5479352, 3676336, 9049086, 1819494, 6058569, 3614241, 2976979, 8149170, 16861082, 4721848, 1951874, 1233716, 5375246, 3955832, 6407186, 2156167, 1605362, 2803692, 3077430, 2961810, 2486932, 3559268, 1313453, 8268736, 2182255, 1629789], \"yaxis\": \"y\"}, {\"customdata\": [[96], [97], [98], [99], [100], [101], [102], [103], [104], [105], [106], [107], [108], [109], [110], [111], [112], [113], [114], [115], [116], [117], [118], [119], [120], [121], [122], [123], [124], [125], [126], [127]], \"hoverlabel\": {\"namelength\": 0}, \"hovertemplate\": \"anio=2018<br>entidad=%{x}<br>poblacion=%{marker.size}<br>hover_data_0=%{customdata[0]}\", \"legendgroup\": \"anio=2018\", \"marker\": {\"color\": \"#ab63fa\", \"size\": [1395794, 3521242, 771294, 967319, 3132017, 760333, 5563869, 3714966, 9041395, 1836460, 6117205, 3629733, 3014258, 8238991, 17056666, 4757482, 1974175, 1252363, 5454848, 3979682, 6472592, 2197938, 1645237, 2825157, 3104610, 3000127, 2515926, 3590486, 1329788, 8323640, 2208236, 1642388], \"sizemode\": \"area\", \"sizeref\": 42641.665, \"symbol\": \"circle\"}, \"mode\": \"markers\", \"name\": \"anio=2018\", \"showlegend\": true, \"type\": \"scatter\", \"x\": [\"Aguascalientes\", \"Baja California\", \"Baja California Sur\", \"Campeche\", \"Coahuila\", \"Colima\", \"Chiapas\", \"Chihuahua\", \"Ciudad de M\\u00e9xico\", \"Durango\", \"Guanajuato\", \"Guerrero\", \"Hidalgo\", \"Jalisco\", \"Estado de M\\u00e9xico\", \"Michoac\\u00e1n\", \"Morelos\", \"Nayarit\", \"Nuevo Le\\u00f3n\", \"Oaxaca\", \"Puebla\", \"Quer\\u00e9taro\", \"Quintana Roo\", \"San Luis Potos\\u00ed\", \"Sinaloa\", \"Sonora\", \"Tabasco\", \"Tamaulipas\", \"Tlaxcala\", \"Veracruz\", \"Yucat\\u00e1n\", \"Zacatecas\"], \"xaxis\": \"x\", \"y\": [1395794, 3521242, 771294, 967319, 3132017, 760333, 5563869, 3714966, 9041395, 1836460, 6117205, 3629733, 3014258, 8238991, 17056666, 4757482, 1974175, 1252363, 5454848, 3979682, 6472592, 2197938, 1645237, 2825157, 3104610, 3000127, 2515926, 3590486, 1329788, 8323640, 2208236, 1642388], \"yaxis\": \"y\"}],\n",
       "                        {\"height\": 600, \"legend\": {\"itemsizing\": \"constant\", \"tracegroupgap\": 0}, \"margin\": {\"t\": 60}, \"template\": {\"data\": {\"bar\": [{\"error_x\": {\"color\": \"#2a3f5f\"}, \"error_y\": {\"color\": \"#2a3f5f\"}, \"marker\": {\"line\": {\"color\": \"#E5ECF6\", \"width\": 0.5}}, \"type\": \"bar\"}], \"barpolar\": [{\"marker\": {\"line\": {\"color\": \"#E5ECF6\", \"width\": 0.5}}, \"type\": \"barpolar\"}], \"carpet\": [{\"aaxis\": {\"endlinecolor\": \"#2a3f5f\", \"gridcolor\": \"white\", \"linecolor\": \"white\", \"minorgridcolor\": \"white\", \"startlinecolor\": \"#2a3f5f\"}, \"baxis\": {\"endlinecolor\": \"#2a3f5f\", \"gridcolor\": \"white\", \"linecolor\": \"white\", \"minorgridcolor\": \"white\", \"startlinecolor\": \"#2a3f5f\"}, \"type\": \"carpet\"}], \"choropleth\": [{\"colorbar\": {\"outlinewidth\": 0, \"ticks\": \"\"}, \"type\": \"choropleth\"}], \"contour\": [{\"colorbar\": {\"outlinewidth\": 0, \"ticks\": \"\"}, \"colorscale\": [[0.0, \"#0d0887\"], [0.1111111111111111, \"#46039f\"], [0.2222222222222222, \"#7201a8\"], [0.3333333333333333, \"#9c179e\"], [0.4444444444444444, \"#bd3786\"], [0.5555555555555556, \"#d8576b\"], [0.6666666666666666, \"#ed7953\"], [0.7777777777777778, \"#fb9f3a\"], [0.8888888888888888, \"#fdca26\"], [1.0, \"#f0f921\"]], \"type\": \"contour\"}], \"contourcarpet\": [{\"colorbar\": {\"outlinewidth\": 0, \"ticks\": \"\"}, \"type\": \"contourcarpet\"}], \"heatmap\": [{\"colorbar\": {\"outlinewidth\": 0, \"ticks\": \"\"}, \"colorscale\": [[0.0, \"#0d0887\"], [0.1111111111111111, \"#46039f\"], [0.2222222222222222, \"#7201a8\"], [0.3333333333333333, \"#9c179e\"], [0.4444444444444444, \"#bd3786\"], [0.5555555555555556, \"#d8576b\"], [0.6666666666666666, \"#ed7953\"], [0.7777777777777778, \"#fb9f3a\"], [0.8888888888888888, \"#fdca26\"], [1.0, \"#f0f921\"]], \"type\": \"heatmap\"}], \"heatmapgl\": [{\"colorbar\": {\"outlinewidth\": 0, \"ticks\": \"\"}, \"colorscale\": [[0.0, \"#0d0887\"], [0.1111111111111111, \"#46039f\"], [0.2222222222222222, \"#7201a8\"], [0.3333333333333333, \"#9c179e\"], [0.4444444444444444, \"#bd3786\"], [0.5555555555555556, \"#d8576b\"], [0.6666666666666666, \"#ed7953\"], [0.7777777777777778, \"#fb9f3a\"], [0.8888888888888888, \"#fdca26\"], [1.0, \"#f0f921\"]], \"type\": \"heatmapgl\"}], \"histogram\": [{\"marker\": {\"colorbar\": {\"outlinewidth\": 0, \"ticks\": \"\"}}, \"type\": \"histogram\"}], \"histogram2d\": [{\"colorbar\": {\"outlinewidth\": 0, \"ticks\": \"\"}, \"colorscale\": [[0.0, \"#0d0887\"], [0.1111111111111111, \"#46039f\"], [0.2222222222222222, \"#7201a8\"], [0.3333333333333333, \"#9c179e\"], [0.4444444444444444, \"#bd3786\"], [0.5555555555555556, \"#d8576b\"], [0.6666666666666666, \"#ed7953\"], [0.7777777777777778, \"#fb9f3a\"], [0.8888888888888888, \"#fdca26\"], [1.0, \"#f0f921\"]], \"type\": \"histogram2d\"}], \"histogram2dcontour\": [{\"colorbar\": {\"outlinewidth\": 0, \"ticks\": \"\"}, \"colorscale\": [[0.0, \"#0d0887\"], [0.1111111111111111, \"#46039f\"], [0.2222222222222222, \"#7201a8\"], [0.3333333333333333, \"#9c179e\"], [0.4444444444444444, \"#bd3786\"], [0.5555555555555556, \"#d8576b\"], [0.6666666666666666, \"#ed7953\"], [0.7777777777777778, \"#fb9f3a\"], [0.8888888888888888, \"#fdca26\"], [1.0, \"#f0f921\"]], \"type\": \"histogram2dcontour\"}], \"mesh3d\": [{\"colorbar\": {\"outlinewidth\": 0, \"ticks\": \"\"}, \"type\": \"mesh3d\"}], \"parcoords\": [{\"line\": {\"colorbar\": {\"outlinewidth\": 0, \"ticks\": \"\"}}, \"type\": \"parcoords\"}], \"pie\": [{\"automargin\": true, \"type\": \"pie\"}], \"scatter\": [{\"marker\": {\"colorbar\": {\"outlinewidth\": 0, \"ticks\": \"\"}}, \"type\": \"scatter\"}], \"scatter3d\": [{\"line\": {\"colorbar\": {\"outlinewidth\": 0, \"ticks\": \"\"}}, \"marker\": {\"colorbar\": {\"outlinewidth\": 0, \"ticks\": \"\"}}, \"type\": \"scatter3d\"}], \"scattercarpet\": [{\"marker\": {\"colorbar\": {\"outlinewidth\": 0, \"ticks\": \"\"}}, \"type\": \"scattercarpet\"}], \"scattergeo\": [{\"marker\": {\"colorbar\": {\"outlinewidth\": 0, \"ticks\": \"\"}}, \"type\": \"scattergeo\"}], \"scattergl\": [{\"marker\": {\"colorbar\": {\"outlinewidth\": 0, \"ticks\": \"\"}}, \"type\": \"scattergl\"}], \"scattermapbox\": [{\"marker\": {\"colorbar\": {\"outlinewidth\": 0, \"ticks\": \"\"}}, \"type\": \"scattermapbox\"}], \"scatterpolar\": [{\"marker\": {\"colorbar\": {\"outlinewidth\": 0, \"ticks\": \"\"}}, \"type\": \"scatterpolar\"}], \"scatterpolargl\": [{\"marker\": {\"colorbar\": {\"outlinewidth\": 0, \"ticks\": \"\"}}, \"type\": \"scatterpolargl\"}], \"scatterternary\": [{\"marker\": {\"colorbar\": {\"outlinewidth\": 0, \"ticks\": \"\"}}, \"type\": \"scatterternary\"}], \"surface\": [{\"colorbar\": {\"outlinewidth\": 0, \"ticks\": \"\"}, \"colorscale\": [[0.0, \"#0d0887\"], [0.1111111111111111, \"#46039f\"], [0.2222222222222222, \"#7201a8\"], [0.3333333333333333, \"#9c179e\"], [0.4444444444444444, \"#bd3786\"], [0.5555555555555556, \"#d8576b\"], [0.6666666666666666, \"#ed7953\"], [0.7777777777777778, \"#fb9f3a\"], [0.8888888888888888, \"#fdca26\"], [1.0, \"#f0f921\"]], \"type\": \"surface\"}], \"table\": [{\"cells\": {\"fill\": {\"color\": \"#EBF0F8\"}, \"line\": {\"color\": \"white\"}}, \"header\": {\"fill\": {\"color\": \"#C8D4E3\"}, \"line\": {\"color\": \"white\"}}, \"type\": \"table\"}]}, \"layout\": {\"annotationdefaults\": {\"arrowcolor\": \"#2a3f5f\", \"arrowhead\": 0, \"arrowwidth\": 1}, \"coloraxis\": {\"colorbar\": {\"outlinewidth\": 0, \"ticks\": \"\"}}, \"colorscale\": {\"diverging\": [[0, \"#8e0152\"], [0.1, \"#c51b7d\"], [0.2, \"#de77ae\"], [0.3, \"#f1b6da\"], [0.4, \"#fde0ef\"], [0.5, \"#f7f7f7\"], [0.6, \"#e6f5d0\"], [0.7, \"#b8e186\"], [0.8, \"#7fbc41\"], [0.9, \"#4d9221\"], [1, \"#276419\"]], \"sequential\": [[0.0, \"#0d0887\"], [0.1111111111111111, \"#46039f\"], [0.2222222222222222, \"#7201a8\"], [0.3333333333333333, \"#9c179e\"], [0.4444444444444444, \"#bd3786\"], [0.5555555555555556, \"#d8576b\"], [0.6666666666666666, \"#ed7953\"], [0.7777777777777778, \"#fb9f3a\"], [0.8888888888888888, \"#fdca26\"], [1.0, \"#f0f921\"]], \"sequentialminus\": [[0.0, \"#0d0887\"], [0.1111111111111111, \"#46039f\"], [0.2222222222222222, \"#7201a8\"], [0.3333333333333333, \"#9c179e\"], [0.4444444444444444, \"#bd3786\"], [0.5555555555555556, \"#d8576b\"], [0.6666666666666666, \"#ed7953\"], [0.7777777777777778, \"#fb9f3a\"], [0.8888888888888888, \"#fdca26\"], [1.0, \"#f0f921\"]]}, \"colorway\": [\"#636efa\", \"#EF553B\", \"#00cc96\", \"#ab63fa\", \"#FFA15A\", \"#19d3f3\", \"#FF6692\", \"#B6E880\", \"#FF97FF\", \"#FECB52\"], \"font\": {\"color\": \"#2a3f5f\"}, \"geo\": {\"bgcolor\": \"white\", \"lakecolor\": \"white\", \"landcolor\": \"#E5ECF6\", \"showlakes\": true, \"showland\": true, \"subunitcolor\": \"white\"}, \"hoverlabel\": {\"align\": \"left\"}, \"hovermode\": \"closest\", \"mapbox\": {\"style\": \"light\"}, \"paper_bgcolor\": \"white\", \"plot_bgcolor\": \"#E5ECF6\", \"polar\": {\"angularaxis\": {\"gridcolor\": \"white\", \"linecolor\": \"white\", \"ticks\": \"\"}, \"bgcolor\": \"#E5ECF6\", \"radialaxis\": {\"gridcolor\": \"white\", \"linecolor\": \"white\", \"ticks\": \"\"}}, \"scene\": {\"xaxis\": {\"backgroundcolor\": \"#E5ECF6\", \"gridcolor\": \"white\", \"gridwidth\": 2, \"linecolor\": \"white\", \"showbackground\": true, \"ticks\": \"\", \"zerolinecolor\": \"white\"}, \"yaxis\": {\"backgroundcolor\": \"#E5ECF6\", \"gridcolor\": \"white\", \"gridwidth\": 2, \"linecolor\": \"white\", \"showbackground\": true, \"ticks\": \"\", \"zerolinecolor\": \"white\"}, \"zaxis\": {\"backgroundcolor\": \"#E5ECF6\", \"gridcolor\": \"white\", \"gridwidth\": 2, \"linecolor\": \"white\", \"showbackground\": true, \"ticks\": \"\", \"zerolinecolor\": \"white\"}}, \"shapedefaults\": {\"line\": {\"color\": \"#2a3f5f\"}}, \"ternary\": {\"aaxis\": {\"gridcolor\": \"white\", \"linecolor\": \"white\", \"ticks\": \"\"}, \"baxis\": {\"gridcolor\": \"white\", \"linecolor\": \"white\", \"ticks\": \"\"}, \"bgcolor\": \"#E5ECF6\", \"caxis\": {\"gridcolor\": \"white\", \"linecolor\": \"white\", \"ticks\": \"\"}}, \"title\": {\"x\": 0.05}, \"xaxis\": {\"automargin\": true, \"gridcolor\": \"white\", \"linecolor\": \"white\", \"ticks\": \"\", \"title\": {\"standoff\": 15}, \"zerolinecolor\": \"white\", \"zerolinewidth\": 2}, \"yaxis\": {\"automargin\": true, \"gridcolor\": \"white\", \"linecolor\": \"white\", \"ticks\": \"\", \"title\": {\"standoff\": 15}, \"zerolinecolor\": \"white\", \"zerolinewidth\": 2}}}, \"xaxis\": {\"anchor\": \"y\", \"domain\": [0.0, 1.0], \"title\": {\"text\": \"entidad\"}}, \"yaxis\": {\"anchor\": \"x\", \"domain\": [0.0, 1.0], \"title\": {\"text\": \"poblacion\"}}},\n",
       "                        {\"responsive\": true}\n",
       "                    ).then(function(){\n",
       "                            \n",
       "var gd = document.getElementById('ae630423-f178-4d4d-844c-e93346c0de73');\n",
       "var x = new MutationObserver(function (mutations, observer) {{\n",
       "        var display = window.getComputedStyle(gd).display;\n",
       "        if (!display || display === 'none') {{\n",
       "            console.log([gd, 'removed!']);\n",
       "            Plotly.purge(gd);\n",
       "            observer.disconnect();\n",
       "        }}\n",
       "}});\n",
       "\n",
       "// Listen for the removal of the full notebook cells\n",
       "var notebookContainer = gd.closest('#notebook-container');\n",
       "if (notebookContainer) {{\n",
       "    x.observe(notebookContainer, {childList: true});\n",
       "}}\n",
       "\n",
       "// Listen for the clearing of the current output cell\n",
       "var outputEl = gd.closest('.output');\n",
       "if (outputEl) {{\n",
       "    x.observe(outputEl, {childList: true});\n",
       "}}\n",
       "\n",
       "                        })\n",
       "                };\n",
       "                });\n",
       "            </script>\n",
       "        </div>"
      ]
     },
     "metadata": {},
     "output_type": "display_data"
    }
   ],
   "source": [
    "pob1 = px.scatter(dataset, x=dataset.entidad, y=dataset.poblacion, color=dataset['anio'], size=dataset.poblacion, hover_data=[dataset.index])\n",
    "pob1.show()"
   ]
  },
  {
   "cell_type": "code",
   "execution_count": null,
   "metadata": {},
   "outputs": [],
   "source": []
  },
  {
   "cell_type": "code",
   "execution_count": null,
   "metadata": {},
   "outputs": [],
   "source": [
    "#Prueba\n",
    "\n",
    "data = px.data.gapminder()\n",
    "\n",
    "data_canada = data[data.country == 'Canada']\n",
    "fig = px.bar(data_canada, x='year', y='pop',\n",
    "             hover_data=['lifeExp', 'gdpPercap'], color='lifeExp',\n",
    "             labels={'pop':'population of Canada'}, height=400)\n",
    "fig.show()"
   ]
  }
 ],
 "metadata": {
  "kernelspec": {
   "display_name": "Python 3",
   "language": "python",
   "name": "python3"
  },
  "language_info": {
   "codemirror_mode": {
    "name": "ipython",
    "version": 3
   },
   "file_extension": ".py",
   "mimetype": "text/x-python",
   "name": "python",
   "nbconvert_exporter": "python",
   "pygments_lexer": "ipython3",
   "version": "3.7.3"
  }
 },
 "nbformat": 4,
 "nbformat_minor": 2
}
