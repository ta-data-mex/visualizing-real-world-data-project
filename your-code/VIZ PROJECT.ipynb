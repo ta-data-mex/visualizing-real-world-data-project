{
 "cells": [
  {
   "cell_type": "code",
   "execution_count": 84,
   "metadata": {},
   "outputs": [],
   "source": [
    "import pandas as pd\n",
    "import numpy as np\n",
    "import matplotlib.pyplot as plt\n",
    "import cufflinks as cf\n",
    "import plotly.offline as py\n",
    "\n",
    "import seaborn as sns\n",
    "from datetime import datetime"
   ]
  },
  {
   "cell_type": "code",
   "execution_count": 98,
   "metadata": {},
   "outputs": [],
   "source": [
    "import datetime"
   ]
  },
  {
   "cell_type": "code",
   "execution_count": 99,
   "metadata": {},
   "outputs": [],
   "source": [
    "import time"
   ]
  },
  {
   "cell_type": "code",
   "execution_count": 82,
   "metadata": {},
   "outputs": [
    {
     "ename": "AttributeError",
     "evalue": "module 'plotly.plotly' has no attribute 'init_notebook_mode'",
     "output_type": "error",
     "traceback": [
      "\u001b[0;31m---------------------------------------------------------------------------\u001b[0m",
      "\u001b[0;31mAttributeError\u001b[0m                            Traceback (most recent call last)",
      "\u001b[0;32m<ipython-input-82-94cd1ee98aa0>\u001b[0m in \u001b[0;36m<module>\u001b[0;34m\u001b[0m\n\u001b[0;32m----> 1\u001b[0;31m \u001b[0mpy\u001b[0m\u001b[0;34m.\u001b[0m\u001b[0minit_notebook_mode\u001b[0m\u001b[0;34m(\u001b[0m\u001b[0;34m)\u001b[0m\u001b[0;34m\u001b[0m\u001b[0;34m\u001b[0m\u001b[0m\n\u001b[0m",
      "\u001b[0;31mAttributeError\u001b[0m: module 'plotly.plotly' has no attribute 'init_notebook_mode'"
     ]
    }
   ],
   "source": [
    "py.init_notebook_mode()"
   ]
  },
  {
   "cell_type": "code",
   "execution_count": 2,
   "metadata": {
    "scrolled": true
   },
   "outputs": [
    {
     "data": {
      "text/html": [
       "<div>\n",
       "<style scoped>\n",
       "    .dataframe tbody tr th:only-of-type {\n",
       "        vertical-align: middle;\n",
       "    }\n",
       "\n",
       "    .dataframe tbody tr th {\n",
       "        vertical-align: top;\n",
       "    }\n",
       "\n",
       "    .dataframe thead th {\n",
       "        text-align: right;\n",
       "    }\n",
       "</style>\n",
       "<table border=\"1\" class=\"dataframe\">\n",
       "  <thead>\n",
       "    <tr style=\"text-align: right;\">\n",
       "      <th></th>\n",
       "      <th>date</th>\n",
       "      <th>id_station</th>\n",
       "      <th>id_parameter</th>\n",
       "      <th>value</th>\n",
       "      <th>unit</th>\n",
       "    </tr>\n",
       "  </thead>\n",
       "  <tbody>\n",
       "    <tr>\n",
       "      <th>0</th>\n",
       "      <td>01/01/2018 01:00</td>\n",
       "      <td>ACO</td>\n",
       "      <td>CO</td>\n",
       "      <td>0.4</td>\n",
       "      <td>15</td>\n",
       "    </tr>\n",
       "    <tr>\n",
       "      <th>1</th>\n",
       "      <td>01/01/2018 01:00</td>\n",
       "      <td>ACO</td>\n",
       "      <td>NO</td>\n",
       "      <td>3.0</td>\n",
       "      <td>1</td>\n",
       "    </tr>\n",
       "    <tr>\n",
       "      <th>2</th>\n",
       "      <td>01/01/2018 01:00</td>\n",
       "      <td>ACO</td>\n",
       "      <td>NO2</td>\n",
       "      <td>23.0</td>\n",
       "      <td>1</td>\n",
       "    </tr>\n",
       "    <tr>\n",
       "      <th>3</th>\n",
       "      <td>01/01/2018 01:00</td>\n",
       "      <td>ACO</td>\n",
       "      <td>NOX</td>\n",
       "      <td>25.0</td>\n",
       "      <td>1</td>\n",
       "    </tr>\n",
       "    <tr>\n",
       "      <th>4</th>\n",
       "      <td>01/01/2018 01:00</td>\n",
       "      <td>ACO</td>\n",
       "      <td>O3</td>\n",
       "      <td>8.0</td>\n",
       "      <td>1</td>\n",
       "    </tr>\n",
       "  </tbody>\n",
       "</table>\n",
       "</div>"
      ],
      "text/plain": [
       "               date id_station id_parameter  value  unit\n",
       "0  01/01/2018 01:00        ACO           CO    0.4    15\n",
       "1  01/01/2018 01:00        ACO           NO    3.0     1\n",
       "2  01/01/2018 01:00        ACO          NO2   23.0     1\n",
       "3  01/01/2018 01:00        ACO          NOX   25.0     1\n",
       "4  01/01/2018 01:00        ACO           O3    8.0     1"
      ]
     },
     "execution_count": 2,
     "metadata": {},
     "output_type": "execute_result"
    }
   ],
   "source": [
    "cdmx_pol = pd.read_csv('contaminantes_2018.CSV')\n",
    "cdmx_pol.head()"
   ]
  },
  {
   "cell_type": "code",
   "execution_count": 3,
   "metadata": {},
   "outputs": [],
   "source": [
    "arranged_table = pd.pivot_table(cdmx_pol, index = ['date', 'id_station'], values=['value', 'unit'], columns = ['id_parameter'])"
   ]
  },
  {
   "cell_type": "code",
   "execution_count": 4,
   "metadata": {},
   "outputs": [
    {
     "data": {
      "text/plain": [
       "       id_parameter\n",
       "unit   CO               35040\n",
       "       NO               43800\n",
       "       NO2              43800\n",
       "       NOX              43800\n",
       "       O3                   0\n",
       "       PM10             87600\n",
       "       PM2.5           113880\n",
       "       PMCO            175200\n",
       "       SO2              26280\n",
       "value  CO               84467\n",
       "       NO              114998\n",
       "       NO2             114998\n",
       "       NOX             114998\n",
       "       O3               63223\n",
       "       PM10            155584\n",
       "       PM2.5           184345\n",
       "       PMCO            217584\n",
       "       SO2              77456\n",
       "dtype: int64"
      ]
     },
     "execution_count": 4,
     "metadata": {},
     "output_type": "execute_result"
    }
   ],
   "source": [
    "arranged_table.isna().sum()"
   ]
  },
  {
   "cell_type": "markdown",
   "metadata": {},
   "source": [
    "<h3> There's a lof of NaN values, so we're going to substitute them by the mean of the previous value and the next value that is not NaN:</h3>"
   ]
  },
  {
   "cell_type": "code",
   "execution_count": 5,
   "metadata": {},
   "outputs": [],
   "source": [
    "col1 = list(arranged_table.columns.levels[0])\n",
    "col2 = list(arranged_table.columns.levels[1])\n",
    "for col in col1:\n",
    "    for val in col2:\n",
    "        l = [str(i) for i in arranged_table[col][val]]\n",
    "        \n",
    "        for x in range(len(l)):\n",
    "                if x<(len(l)-1) and l[x] == 'nan':\n",
    "                    y = x-1\n",
    "                    z = x+1\n",
    "                    if l[x+1]!='nan':\n",
    "                        l[x] = str((float(l[y])+float(l[z]))/2)\n",
    "                    else:\n",
    "                        while z<(len(l)-1) and l[z]=='nan':\n",
    "                            z +=1\n",
    "                        l[x] = str((float(l[y])+float(l[z]))/2)\n",
    "                else:\n",
    "                    pass\n",
    "        arranged_table[col][val] = [float(i) for i in l]"
   ]
  },
  {
   "cell_type": "markdown",
   "metadata": {},
   "source": [
    "<h3>There's a cluster of 'NaN' values in the last rows of the dataset, that belong to December 31, 00:00. We can assume no values were recorded at that time so we're going to drop them:</h3>"
   ]
  },
  {
   "cell_type": "code",
   "execution_count": 6,
   "metadata": {},
   "outputs": [],
   "source": [
    "arranged_table = arranged_table[:297806]"
   ]
  },
  {
   "cell_type": "code",
   "execution_count": 7,
   "metadata": {},
   "outputs": [
    {
     "data": {
      "text/plain": [
       "       id_parameter\n",
       "unit   CO              0\n",
       "       NO              0\n",
       "       NO2             0\n",
       "       NOX             0\n",
       "       O3              0\n",
       "       PM10            0\n",
       "       PM2.5           0\n",
       "       PMCO            0\n",
       "       SO2             0\n",
       "value  CO              0\n",
       "       NO              0\n",
       "       NO2             0\n",
       "       NOX             0\n",
       "       O3              0\n",
       "       PM10            0\n",
       "       PM2.5           0\n",
       "       PMCO            0\n",
       "       SO2             0\n",
       "dtype: int64"
      ]
     },
     "execution_count": 7,
     "metadata": {},
     "output_type": "execute_result"
    }
   ],
   "source": [
    "arranged_table.isna().sum()"
   ]
  },
  {
   "cell_type": "code",
   "execution_count": 8,
   "metadata": {},
   "outputs": [
    {
     "data": {
      "text/html": [
       "<div>\n",
       "<style scoped>\n",
       "    .dataframe tbody tr th:only-of-type {\n",
       "        vertical-align: middle;\n",
       "    }\n",
       "\n",
       "    .dataframe tbody tr th {\n",
       "        vertical-align: top;\n",
       "    }\n",
       "\n",
       "    .dataframe thead tr th {\n",
       "        text-align: left;\n",
       "    }\n",
       "\n",
       "    .dataframe thead tr:last-of-type th {\n",
       "        text-align: right;\n",
       "    }\n",
       "</style>\n",
       "<table border=\"1\" class=\"dataframe\">\n",
       "  <thead>\n",
       "    <tr>\n",
       "      <th></th>\n",
       "      <th></th>\n",
       "      <th colspan=\"9\" halign=\"left\">unit</th>\n",
       "      <th colspan=\"9\" halign=\"left\">value</th>\n",
       "    </tr>\n",
       "    <tr>\n",
       "      <th></th>\n",
       "      <th>id_parameter</th>\n",
       "      <th>CO</th>\n",
       "      <th>NO</th>\n",
       "      <th>NO2</th>\n",
       "      <th>NOX</th>\n",
       "      <th>O3</th>\n",
       "      <th>PM10</th>\n",
       "      <th>PM2.5</th>\n",
       "      <th>PMCO</th>\n",
       "      <th>SO2</th>\n",
       "      <th>CO</th>\n",
       "      <th>NO</th>\n",
       "      <th>NO2</th>\n",
       "      <th>NOX</th>\n",
       "      <th>O3</th>\n",
       "      <th>PM10</th>\n",
       "      <th>PM2.5</th>\n",
       "      <th>PMCO</th>\n",
       "      <th>SO2</th>\n",
       "    </tr>\n",
       "    <tr>\n",
       "      <th>date</th>\n",
       "      <th>id_station</th>\n",
       "      <th></th>\n",
       "      <th></th>\n",
       "      <th></th>\n",
       "      <th></th>\n",
       "      <th></th>\n",
       "      <th></th>\n",
       "      <th></th>\n",
       "      <th></th>\n",
       "      <th></th>\n",
       "      <th></th>\n",
       "      <th></th>\n",
       "      <th></th>\n",
       "      <th></th>\n",
       "      <th></th>\n",
       "      <th></th>\n",
       "      <th></th>\n",
       "      <th></th>\n",
       "      <th></th>\n",
       "    </tr>\n",
       "  </thead>\n",
       "  <tbody>\n",
       "    <tr>\n",
       "      <th rowspan=\"5\" valign=\"top\">01/01/2018 01:00</th>\n",
       "      <th>ACO</th>\n",
       "      <td>15.0</td>\n",
       "      <td>1.0</td>\n",
       "      <td>1.0</td>\n",
       "      <td>1.0</td>\n",
       "      <td>1.0</td>\n",
       "      <td>2.0</td>\n",
       "      <td>2.0</td>\n",
       "      <td>2.0</td>\n",
       "      <td>1.0</td>\n",
       "      <td>0.4</td>\n",
       "      <td>3.0</td>\n",
       "      <td>23.000</td>\n",
       "      <td>25.0</td>\n",
       "      <td>8.0</td>\n",
       "      <td>125.0</td>\n",
       "      <td>70.0</td>\n",
       "      <td>43.00</td>\n",
       "      <td>2.0</td>\n",
       "    </tr>\n",
       "    <tr>\n",
       "      <th>AJM</th>\n",
       "      <td>15.0</td>\n",
       "      <td>1.0</td>\n",
       "      <td>1.0</td>\n",
       "      <td>1.0</td>\n",
       "      <td>1.0</td>\n",
       "      <td>2.0</td>\n",
       "      <td>2.0</td>\n",
       "      <td>2.0</td>\n",
       "      <td>1.0</td>\n",
       "      <td>0.8</td>\n",
       "      <td>2.0</td>\n",
       "      <td>25.000</td>\n",
       "      <td>26.0</td>\n",
       "      <td>31.0</td>\n",
       "      <td>92.0</td>\n",
       "      <td>65.0</td>\n",
       "      <td>27.00</td>\n",
       "      <td>6.0</td>\n",
       "    </tr>\n",
       "    <tr>\n",
       "      <th>AJU</th>\n",
       "      <td>15.0</td>\n",
       "      <td>1.0</td>\n",
       "      <td>1.0</td>\n",
       "      <td>1.0</td>\n",
       "      <td>1.0</td>\n",
       "      <td>2.0</td>\n",
       "      <td>2.0</td>\n",
       "      <td>2.0</td>\n",
       "      <td>1.0</td>\n",
       "      <td>0.8</td>\n",
       "      <td>2.0</td>\n",
       "      <td>30.500</td>\n",
       "      <td>32.0</td>\n",
       "      <td>17.0</td>\n",
       "      <td>85.0</td>\n",
       "      <td>49.0</td>\n",
       "      <td>24.50</td>\n",
       "      <td>10.0</td>\n",
       "    </tr>\n",
       "    <tr>\n",
       "      <th>ATI</th>\n",
       "      <td>15.0</td>\n",
       "      <td>1.0</td>\n",
       "      <td>1.0</td>\n",
       "      <td>1.0</td>\n",
       "      <td>1.0</td>\n",
       "      <td>2.0</td>\n",
       "      <td>2.0</td>\n",
       "      <td>2.0</td>\n",
       "      <td>1.0</td>\n",
       "      <td>0.8</td>\n",
       "      <td>2.0</td>\n",
       "      <td>33.250</td>\n",
       "      <td>35.0</td>\n",
       "      <td>17.0</td>\n",
       "      <td>81.5</td>\n",
       "      <td>52.5</td>\n",
       "      <td>23.25</td>\n",
       "      <td>14.0</td>\n",
       "    </tr>\n",
       "    <tr>\n",
       "      <th>BJU</th>\n",
       "      <td>15.0</td>\n",
       "      <td>1.0</td>\n",
       "      <td>1.0</td>\n",
       "      <td>1.0</td>\n",
       "      <td>1.0</td>\n",
       "      <td>2.0</td>\n",
       "      <td>2.0</td>\n",
       "      <td>2.0</td>\n",
       "      <td>1.0</td>\n",
       "      <td>0.6</td>\n",
       "      <td>2.0</td>\n",
       "      <td>34.625</td>\n",
       "      <td>36.5</td>\n",
       "      <td>22.0</td>\n",
       "      <td>78.0</td>\n",
       "      <td>56.0</td>\n",
       "      <td>22.00</td>\n",
       "      <td>9.0</td>\n",
       "    </tr>\n",
       "  </tbody>\n",
       "</table>\n",
       "</div>"
      ],
      "text/plain": [
       "                             unit                                           \\\n",
       "id_parameter                   CO   NO  NO2  NOX   O3 PM10 PM2.5 PMCO  SO2   \n",
       "date             id_station                                                  \n",
       "01/01/2018 01:00 ACO         15.0  1.0  1.0  1.0  1.0  2.0   2.0  2.0  1.0   \n",
       "                 AJM         15.0  1.0  1.0  1.0  1.0  2.0   2.0  2.0  1.0   \n",
       "                 AJU         15.0  1.0  1.0  1.0  1.0  2.0   2.0  2.0  1.0   \n",
       "                 ATI         15.0  1.0  1.0  1.0  1.0  2.0   2.0  2.0  1.0   \n",
       "                 BJU         15.0  1.0  1.0  1.0  1.0  2.0   2.0  2.0  1.0   \n",
       "\n",
       "                            value                                        \\\n",
       "id_parameter                   CO   NO     NO2   NOX    O3   PM10 PM2.5   \n",
       "date             id_station                                               \n",
       "01/01/2018 01:00 ACO          0.4  3.0  23.000  25.0   8.0  125.0  70.0   \n",
       "                 AJM          0.8  2.0  25.000  26.0  31.0   92.0  65.0   \n",
       "                 AJU          0.8  2.0  30.500  32.0  17.0   85.0  49.0   \n",
       "                 ATI          0.8  2.0  33.250  35.0  17.0   81.5  52.5   \n",
       "                 BJU          0.6  2.0  34.625  36.5  22.0   78.0  56.0   \n",
       "\n",
       "                                          \n",
       "id_parameter                  PMCO   SO2  \n",
       "date             id_station               \n",
       "01/01/2018 01:00 ACO         43.00   2.0  \n",
       "                 AJM         27.00   6.0  \n",
       "                 AJU         24.50  10.0  \n",
       "                 ATI         23.25  14.0  \n",
       "                 BJU         22.00   9.0  "
      ]
     },
     "execution_count": 8,
     "metadata": {},
     "output_type": "execute_result"
    }
   ],
   "source": [
    "arranged_table.head()"
   ]
  },
  {
   "cell_type": "markdown",
   "metadata": {},
   "source": [
    "<h3> No NaN values! </h3>"
   ]
  },
  {
   "cell_type": "code",
   "execution_count": 9,
   "metadata": {},
   "outputs": [],
   "source": [
    "arranged_table.drop('unit', axis=1, inplace=True)"
   ]
  },
  {
   "cell_type": "markdown",
   "metadata": {},
   "source": [
    "I'm dropping the unit column as there's no important values, only the metric unit for the values:\n",
    "<li>1) Parts per billion: NO, NO2, NOX,O3, SO2</li>\n",
    "<li>2) µg/m³: PM10, PM2.5, PMCO</li>\n",
    "<li>3) Parts per million: CO</li>\n",
    "<br>\n",
    "I will add those to the 'y' axis later to identify the parameter of the graph"
   ]
  },
  {
   "cell_type": "code",
   "execution_count": null,
   "metadata": {},
   "outputs": [],
   "source": []
  },
  {
   "cell_type": "markdown",
   "metadata": {},
   "source": [
    "<h3> Let's now rearrange the table for plotting: </h3>"
   ]
  },
  {
   "cell_type": "code",
   "execution_count": 11,
   "metadata": {
    "scrolled": false
   },
   "outputs": [
    {
     "name": "stderr",
     "output_type": "stream",
     "text": [
      "/usr/local/lib/python3.7/site-packages/pandas/core/generic.py:3812: PerformanceWarning:\n",
      "\n",
      "dropping on a non-lexsorted multi-index without a level parameter may impact performance.\n",
      "\n"
     ]
    }
   ],
   "source": [
    "weekdays_polution = arranged_table.reset_index()\n",
    "weekdays_polution = pd.pivot_table(weekdays_polution, index = ['date'], values=['value'], aggfunc='mean')\n",
    "weekdays_polution = weekdays_polution.reset_index()\n",
    "weekdays_polution = weekdays_polution.droplevel(0,1)\n",
    "weekdays_polution.columns = [['date', 'CO', 'NO', 'NO2', 'NOX', 'O3', 'PM10', 'PM2.5', 'PMCO', 'SO2']]\n",
    "weekdays_polution['date'] = weekdays_polution['date'].apply(lambda x: x+':00')\n",
    "weekdays_polution.columns = ['_'.join(col) for col in weekdays_polution.columns]\n",
    "weekdays_polution['date'] = weekdays_polution['date'].apply(lambda x: x.replace(' 24', ' 00'))\n",
    "weekdays_polution['date'] = weekdays_polution['date'].apply(lambda x: datetime.strptime(x, '%d/%m/%Y %H:%M:%S'))\n",
    "weekdays_polution['day_of_week'] = weekdays_polution['date'].dt.dayofweek\n",
    "weekdays_polution = weekdays_polution.get(weekdays_polution['day_of_week']<6)"
   ]
  },
  {
   "cell_type": "code",
   "execution_count": 59,
   "metadata": {},
   "outputs": [],
   "source": [
    "weekdays_polution['date'] = weekdays_polution['date'].apply(lambda x: datetime.strptime(x, '%d/%m/%Y %H:%M:%S'))"
   ]
  },
  {
   "cell_type": "markdown",
   "metadata": {},
   "source": [
    "Let's split the data into particles to plot:"
   ]
  },
  {
   "cell_type": "code",
   "execution_count": 123,
   "metadata": {},
   "outputs": [],
   "source": [
    "weekdays_polution['date_s'] = weekdays_polution['date'].dt.strftime('%Y-%m-%d %H:%M:%S')\n",
    "weekdays_polution[['date_s', 'time']]= weekdays_polution['date_s'].str.split(\" \", expand=True)"
   ]
  },
  {
   "cell_type": "code",
   "execution_count": 124,
   "metadata": {},
   "outputs": [],
   "source": [
    "NO_weekday_time = weekdays_polution[['date', 'NO', 'day_of_week', 'date_s', 'time']]\n",
    "NO2_weekday_time = weekdays_polution[['date', 'NO2', 'day_of_week', 'date_s', 'time']]\n",
    "NOX_weekday_time = weekdays_polution[['date', 'NOX', 'day_of_week', 'date_s', 'time']]\n",
    "O3_weekday_time = weekdays_polution[['date','O3', 'day_of_week', 'date_s', 'time']]\n",
    "SO2_weekday_time = weekdays_polution[['date', 'SO2', 'day_of_week', 'date_s', 'time']]\n",
    "\n",
    "PM10_time = weekdays_polution[['date', 'PM10', 'day_of_week', 'date_s', 'time']]\n",
    "PM25_weekday_time = weekdays_polution[['date', 'PM2.5', 'day_of_week', 'date_s', 'time']]\n",
    "PMCO_weekday_time = weekdays_polution[['date','PMCO', 'day_of_week', 'date_s', 'time']]\n",
    "\n",
    "CO_weekday_time = weekdays_polution[['date','CO', 'day_of_week', 'date_s', 'time']]"
   ]
  },
  {
   "cell_type": "code",
   "execution_count": 151,
   "metadata": {},
   "outputs": [],
   "source": [
    "NO_weekday_time = weekdays_polution[['NO', 'date_s']].groupby('date_s').mean().reset_index()\n",
    "NO2_weekday_time = weekdays_polution[['NO2', 'date_s']].groupby('date_s').mean().reset_index()\n",
    "NOX_weekday_time = weekdays_polution[['NOX', 'date_s']].groupby('date_s').mean().reset_index()\n",
    "O3_weekday_time = weekdays_polution[['O3', 'date_s']].groupby('date_s').mean().reset_index()\n",
    "SO2_weekday_time = weekdays_polution[['SO2','date_s']].groupby('date_s').mean().reset_index()\n",
    "\n",
    "PM10_time = weekdays_polution[['PM10','date_s']].groupby('date_s').mean().reset_index()\n",
    "PM25_weekday_time = weekdays_polution[['PM2.5','date_s']].groupby('date_s').mean().reset_index()\n",
    "PMCO_weekday_time = weekdays_polution[['PMCO', 'date_s']].groupby('date_s').mean().reset_index()\n",
    "\n",
    "CO_weekday_time = weekdays_polution[['CO', 'date_s']].groupby('date_s').mean().reset_index()"
   ]
  },
  {
   "cell_type": "markdown",
   "metadata": {},
   "source": [
    "I want to compare the maximums established by the WHO and see how many 'violations' of those rules we're exposing ourselves to during which amounts of time:"
   ]
  },
  {
   "cell_type": "markdown",
   "metadata": {},
   "source": [
    "<h2> DAILY MEAN EVALUATION </h2>\n",
    "<br>\n",
    "PM10, PM2.5 and SO2 have maximum levels on a 24 hour basis, let's sort them by date and see the trespassing values:"
   ]
  },
  {
   "cell_type": "code",
   "execution_count": 165,
   "metadata": {},
   "outputs": [
    {
     "data": {
      "text/plain": [
       "<matplotlib.lines.Line2D at 0x136d796d8>"
      ]
     },
     "execution_count": 165,
     "metadata": {},
     "output_type": "execute_result"
    },
    {
     "data": {
      "image/png": "[encoded data removed]",
      "text/plain": [
       "<Figure size 1440x720 with 3 Axes>"
      ]
     },
     "metadata": {
      "needs_background": "light"
     },
     "output_type": "display_data"
    }
   ],
   "source": [
    "PM10_24h_mean = weekdays_polution[['PM10','date_s']].groupby('date_s').mean().reset_index()\n",
    "PM25_24h_mean = weekdays_polution[['PM2.5','date_s']].groupby('date_s').mean().reset_index()\n",
    "SO2_24h_mean = weekdays_polution[['SO2', 'date_s']].groupby('date_s').mean().reset_index()\n",
    "\n",
    "fig, axs = plt.subplots(3, figsize = (20,10))\n",
    "PM10_24h_mean.plot(x='date_s', y='PM10',  ax=axs[0])\n",
    "axs[0].axhline(y= 50, color='r')\n",
    "PM25_24h_mean.plot(x='date_s', y='PM2.5', ax=axs[1])\n",
    "axs[1].axhline(y= 25, color='r')\n",
    "SO2_24h_mean.plot(x='date_s', y='SO2', ax=axs[2])\n",
    "axs[2].axhline(y= 20, color='r')"
   ]
  },
  {
   "cell_type": "markdown",
   "metadata": {},
   "source": [
    "We can see a lot of days in the year where the maximum threshold is surpassed. Let's look at the distributions to see the number of violations in the cases of PM10 and PM2.5:"
   ]
  },
  {
   "cell_type": "code",
   "execution_count": 175,
   "metadata": {},
   "outputs": [],
   "source": [
    "PM_10_max_std = (50 - PM10_24h_mean.mean())/PM10_24h_mean.std()\n",
    "PM_25_max_std = (25 - PM25_24h_mean.mean())/PM25_24h_mean.std()"
   ]
  },
  {
   "cell_type": "code",
   "execution_count": 195,
   "metadata": {},
   "outputs": [
    {
     "data": {
      "text/plain": [
       "44.07561884088195"
      ]
     },
     "execution_count": 195,
     "metadata": {},
     "output_type": "execute_result"
    }
   ],
   "source": [
    "PM10_24h_mean.mean()[0]"
   ]
  },
  {
   "cell_type": "code",
   "execution_count": 198,
   "metadata": {},
   "outputs": [
    {
     "data": {
      "text/plain": [
       "<matplotlib.lines.Line2D at 0x13694a160>"
      ]
     },
     "execution_count": 198,
     "metadata": {},
     "output_type": "execute_result"
    },
    {
     "data": {
      "image/png": "[encoded data removed]",
      "text/plain": [
       "<Figure size 720x720 with 2 Axes>"
      ]
     },
     "metadata": {
      "needs_background": "light"
     },
     "output_type": "display_data"
    }
   ],
   "source": [
    "fig, axs = plt.subplots(2,1, figsize = (10,10))\n",
    "PM10_24h_mean.hist(ax=axs[0])\n",
    "axs[0].axvline(50, color='r')\n",
    "axs[0].axvline(PM10_24h_mean.mean()[0], color='g')\n",
    "axs[0].axvline(PM10_24h_mean.mean()[0]+PM10_24h_mean.std()[0], color='g')\n",
    "axs[0].axvline(PM10_24h_mean.mean()[0]-PM10_24h_mean.std()[0], color='g')\n",
    "PM25_24h_mean.hist(ax=axs[1])\n",
    "axs[1].axvline(25, color='r')\n",
    "axs[1].axvline(PM25_24h_mean.mean()[0], color='g')\n",
    "axs[1].axvline(PM25_24h_mean.mean()[0]+PM10_24h_mean.std()[0], color='g')\n",
    "axs[1].axvline(PM25_24h_mean.mean()[0]-PM10_24h_mean.std()[0], color='g')"
   ]
  },
  {
   "cell_type": "code",
   "execution_count": 202,
   "metadata": {},
   "outputs": [
    {
     "data": {
      "text/html": [
       "<div>\n",
       "<style scoped>\n",
       "    .dataframe tbody tr th:only-of-type {\n",
       "        vertical-align: middle;\n",
       "    }\n",
       "\n",
       "    .dataframe tbody tr th {\n",
       "        vertical-align: top;\n",
       "    }\n",
       "\n",
       "    .dataframe thead th {\n",
       "        text-align: right;\n",
       "    }\n",
       "</style>\n",
       "<table border=\"1\" class=\"dataframe\">\n",
       "  <thead>\n",
       "    <tr style=\"text-align: right;\">\n",
       "      <th></th>\n",
       "      <th>date_s</th>\n",
       "      <th>PM10</th>\n",
       "      <th>Exc</th>\n",
       "    </tr>\n",
       "  </thead>\n",
       "  <tbody>\n",
       "    <tr>\n",
       "      <th>0</th>\n",
       "      <td>2018-01-01</td>\n",
       "      <td>58.489388</td>\n",
       "      <td>1</td>\n",
       "    </tr>\n",
       "    <tr>\n",
       "      <th>1</th>\n",
       "      <td>2018-01-02</td>\n",
       "      <td>51.153033</td>\n",
       "      <td>1</td>\n",
       "    </tr>\n",
       "    <tr>\n",
       "      <th>2</th>\n",
       "      <td>2018-01-03</td>\n",
       "      <td>68.540901</td>\n",
       "      <td>1</td>\n",
       "    </tr>\n",
       "    <tr>\n",
       "      <th>3</th>\n",
       "      <td>2018-01-04</td>\n",
       "      <td>75.927390</td>\n",
       "      <td>1</td>\n",
       "    </tr>\n",
       "    <tr>\n",
       "      <th>4</th>\n",
       "      <td>2018-01-05</td>\n",
       "      <td>73.299058</td>\n",
       "      <td>1</td>\n",
       "    </tr>\n",
       "  </tbody>\n",
       "</table>\n",
       "</div>"
      ],
      "text/plain": [
       "       date_s       PM10  Exc\n",
       "0  2018-01-01  58.489388    1\n",
       "1  2018-01-02  51.153033    1\n",
       "2  2018-01-03  68.540901    1\n",
       "3  2018-01-04  75.927390    1\n",
       "4  2018-01-05  73.299058    1"
      ]
     },
     "execution_count": 202,
     "metadata": {},
     "output_type": "execute_result"
    }
   ],
   "source": [
    "PM10_24h_mean.head()"
   ]
  },
  {
   "cell_type": "markdown",
   "metadata": {},
   "source": [
    "Let's see it more graphically:"
   ]
  },
  {
   "cell_type": "code",
   "execution_count": 210,
   "metadata": {},
   "outputs": [],
   "source": [
    "PM10_24h_mean['Exc'] = PM10_24h_mean['PM10'].apply(lambda x: 'Not dangerous day' if x<50  else ('Very Dangerous levels' if x>99 else 'Dangerous levels'))\n",
    "PM25_24h_mean['Exc'] = PM25_24h_mean['PM2.5'].apply(lambda x: 'Not dangerous day' if x<25 else ('Very Dangerous levels' if x>50 else 'Dangerous levels'))"
   ]
  },
  {
   "cell_type": "code",
   "execution_count": 221,
   "metadata": {},
   "outputs": [
    {
     "data": {
      "image/png": "[encoded data removed]",
      "text/plain": [
       "<Figure size 720x720 with 2 Axes>"
      ]
     },
     "metadata": {},
     "output_type": "display_data"
    }
   ],
   "source": [
    "fig, axs = plt.subplots(1,2, figsize = (10,10))\n",
    "axs[0].pie(PM10_24h_mean['Exc'].value_counts())\n",
    "axs[0].set_title('PM10 Exposition')\n",
    "axs[1].pie(PM25_24h_mean['Exc'].value_counts())\n",
    "axs[1].set_title('PM10 Exposition')\n",
    "plt.show()"
   ]
  },
  {
   "cell_type": "markdown",
   "metadata": {},
   "source": [
    "<h3>More than 100 days a year (1/3) we are dramatically exposed to carcirogen particles in a 24h-basis</h3>"
   ]
  },
  {
   "cell_type": "markdown",
   "metadata": {},
   "source": [
    "<table style=\"width:100%\">\n",
    "  <tr>\n",
    "    <th>PM10</th>\n",
    "    <th>PM2.5</th> \n",
    "    <th>Basis for the level</th>\n",
    "  </tr>\n",
    "  <tr>\n",
    "    <td>150</td>\n",
    "    <td>75</td> \n",
    "    <td>Based on published risk coefficients from multi-centre\n",
    "studies and meta-analyses (about 5% increase of shortterm mortality over the AQG value).</td>\n",
    "  </tr>\n",
    "  <tr>\n",
    "    <td>100</td>\n",
    "    <td>50</td> \n",
    "    <td>about 2.5% increase of shortterm mortality</td>\n",
    "  </tr>\n",
    "    <tr>\n",
    "        <td>75</td>\n",
    "        <td>37.5</td> \n",
    "        <td>about 1.2% increase in short-term mortality</td>\n",
    "      </tr>\n",
    "</table>"
   ]
  },
  {
   "cell_type": "markdown",
   "metadata": {},
   "source": [
    "<h3>Let's take a look at NO2, NO and NOX particles:</h3>"
   ]
  },
  {
   "cell_type": "markdown",
   "metadata": {},
   "source": [
    "I'm going to plot all values to see the distribution over time of the particles concentration (The peaks do not represent the magnitude of the particle I'm interested in patterns:"
   ]
  },
  {
   "cell_type": "markdown",
   "metadata": {},
   "source": [
    "<h3>Let's take a look at Ozone concentrations.</h3>\n",
    "<br>\n",
    "Maximum levels are stated at 100mg concentrations means on 8h. exposures.\n",
    "We're going to bin time frames and see how many over-exposures we get by separating the day in three:"
   ]
  },
  {
   "cell_type": "code",
   "execution_count": 226,
   "metadata": {},
   "outputs": [],
   "source": [
    "O3_weekday_time = weekdays_polution[['O3', 'date_s', 'time']]\n",
    "O3_weekday_time['time'] = O3_weekday_time['time'].apply(lambda x: x.replace(':00:00', ''))"
   ]
  },
  {
   "cell_type": "code",
   "execution_count": 223,
   "metadata": {},
   "outputs": [
    {
     "ename": "ValueError",
     "evalue": "Input array must be 1 dimensional",
     "output_type": "error",
     "traceback": [
      "\u001b[0;31m---------------------------------------------------------------------------\u001b[0m",
      "\u001b[0;31mValueError\u001b[0m                                Traceback (most recent call last)",
      "\u001b[0;32m<ipython-input-223-7bae62577ec0>\u001b[0m in \u001b[0;36m<module>\u001b[0;34m\u001b[0m\n\u001b[1;32m      1\u001b[0m \u001b[0mO3_weekday_time\u001b[0m \u001b[0;34m=\u001b[0m \u001b[0mweekdays_polution\u001b[0m\u001b[0;34m[\u001b[0m\u001b[0;34m[\u001b[0m\u001b[0;34m'O3'\u001b[0m\u001b[0;34m,\u001b[0m \u001b[0;34m'date_s'\u001b[0m\u001b[0;34m,\u001b[0m \u001b[0;34m'time'\u001b[0m\u001b[0;34m]\u001b[0m\u001b[0;34m]\u001b[0m\u001b[0;34m\u001b[0m\u001b[0;34m\u001b[0m\u001b[0m\n\u001b[0;32m----> 2\u001b[0;31m \u001b[0mO3_weekday_time\u001b[0m\u001b[0;34m[\u001b[0m\u001b[0;34m'time'\u001b[0m\u001b[0;34m]\u001b[0m \u001b[0;34m=\u001b[0m \u001b[0mpd\u001b[0m\u001b[0;34m.\u001b[0m\u001b[0mcut\u001b[0m\u001b[0;34m(\u001b[0m\u001b[0mO3_weekday_time\u001b[0m\u001b[0;34m,\u001b[0m \u001b[0;36m3\u001b[0m\u001b[0;34m)\u001b[0m\u001b[0;34m\u001b[0m\u001b[0;34m\u001b[0m\u001b[0m\n\u001b[0m",
      "\u001b[0;32m/usr/local/lib/python3.7/site-packages/pandas/core/reshape/tile.py\u001b[0m in \u001b[0;36mcut\u001b[0;34m(x, bins, right, labels, retbins, precision, include_lowest, duplicates)\u001b[0m\n\u001b[1;32m    187\u001b[0m \u001b[0;34m\u001b[0m\u001b[0m\n\u001b[1;32m    188\u001b[0m     \u001b[0;31m# for handling the cut for datetime and timedelta objects\u001b[0m\u001b[0;34m\u001b[0m\u001b[0;34m\u001b[0m\u001b[0;34m\u001b[0m\u001b[0m\n\u001b[0;32m--> 189\u001b[0;31m     \u001b[0mx_is_series\u001b[0m\u001b[0;34m,\u001b[0m \u001b[0mseries_index\u001b[0m\u001b[0;34m,\u001b[0m \u001b[0mname\u001b[0m\u001b[0;34m,\u001b[0m \u001b[0mx\u001b[0m \u001b[0;34m=\u001b[0m \u001b[0m_preprocess_for_cut\u001b[0m\u001b[0;34m(\u001b[0m\u001b[0mx\u001b[0m\u001b[0;34m)\u001b[0m\u001b[0;34m\u001b[0m\u001b[0;34m\u001b[0m\u001b[0m\n\u001b[0m\u001b[1;32m    190\u001b[0m     \u001b[0mx\u001b[0m\u001b[0;34m,\u001b[0m \u001b[0mdtype\u001b[0m \u001b[0;34m=\u001b[0m \u001b[0m_coerce_to_type\u001b[0m\u001b[0;34m(\u001b[0m\u001b[0mx\u001b[0m\u001b[0;34m)\u001b[0m\u001b[0;34m\u001b[0m\u001b[0;34m\u001b[0m\u001b[0m\n\u001b[1;32m    191\u001b[0m \u001b[0;34m\u001b[0m\u001b[0m\n",
      "\u001b[0;32m/usr/local/lib/python3.7/site-packages/pandas/core/reshape/tile.py\u001b[0m in \u001b[0;36m_preprocess_for_cut\u001b[0;34m(x)\u001b[0m\n\u001b[1;32m    512\u001b[0m         \u001b[0mx\u001b[0m \u001b[0;34m=\u001b[0m \u001b[0mnp\u001b[0m\u001b[0;34m.\u001b[0m\u001b[0masarray\u001b[0m\u001b[0;34m(\u001b[0m\u001b[0mx\u001b[0m\u001b[0;34m)\u001b[0m\u001b[0;34m\u001b[0m\u001b[0;34m\u001b[0m\u001b[0m\n\u001b[1;32m    513\u001b[0m     \u001b[0;32mif\u001b[0m \u001b[0mx\u001b[0m\u001b[0;34m.\u001b[0m\u001b[0mndim\u001b[0m \u001b[0;34m!=\u001b[0m \u001b[0;36m1\u001b[0m\u001b[0;34m:\u001b[0m\u001b[0;34m\u001b[0m\u001b[0;34m\u001b[0m\u001b[0m\n\u001b[0;32m--> 514\u001b[0;31m         \u001b[0;32mraise\u001b[0m \u001b[0mValueError\u001b[0m\u001b[0;34m(\u001b[0m\u001b[0;34m\"Input array must be 1 dimensional\"\u001b[0m\u001b[0;34m)\u001b[0m\u001b[0;34m\u001b[0m\u001b[0;34m\u001b[0m\u001b[0m\n\u001b[0m\u001b[1;32m    515\u001b[0m \u001b[0;34m\u001b[0m\u001b[0m\n\u001b[1;32m    516\u001b[0m     \u001b[0;32mreturn\u001b[0m \u001b[0mx_is_series\u001b[0m\u001b[0;34m,\u001b[0m \u001b[0mseries_index\u001b[0m\u001b[0;34m,\u001b[0m \u001b[0mname\u001b[0m\u001b[0;34m,\u001b[0m \u001b[0mx\u001b[0m\u001b[0;34m\u001b[0m\u001b[0;34m\u001b[0m\u001b[0m\n",
      "\u001b[0;31mValueError\u001b[0m: Input array must be 1 dimensional"
     ]
    }
   ],
   "source": [
    "\n",
    "O3_weekday_time['time'] = O3_weekday_time['time'].apply(lambda x: 'Seg1' if x>7 else('Seg2' if x>16))"
   ]
  },
  {
   "cell_type": "markdown",
   "metadata": {},
   "source": [
    "We see significant relations between CO, NO, NO2 and NOX"
   ]
  },
  {
   "cell_type": "code",
   "execution_count": 79,
   "metadata": {},
   "outputs": [
    {
     "data": {
      "image/png": "[encoded data removed]",
      "text/plain": [
       "<Figure size 720x720 with 4 Axes>"
      ]
     },
     "metadata": {
      "needs_background": "light"
     },
     "output_type": "display_data"
    }
   ],
   "source": [
    "f, axes = plt.subplots(1, 2, figsize=(10,10))\n",
    "sns.heatmap(pol_part_corr_1, cmap=\"Reds\", ax=axes[0])\n",
    "sns.heatmap(pol_part_corr_2, cmap=\"Reds\", ax=axes[1]) \n",
    "plt.subplots_adjust(wspace = 1)\n",
    "plt.xticks(rotation=90)\n",
    "plt.yticks(rotation=90)\n",
    "plt.show()"
   ]
  },
  {
   "cell_type": "markdown",
   "metadata": {},
   "source": [
    "#Note: This has been extremly difficult for me(subplotting with plotly) for, apparently, some version issues, and I can proudly say I answered the problem in the only question about it in stack overflow, later stated as correct by a plotly developer :)) https://stackoverflow.com/questions/52598821/subplots-in-plotly-cufflinks-how-to-put-two-subplots-in-the-same-plot/57235349?noredirect=1#comment100974054_57235349"
   ]
  },
  {
   "cell_type": "code",
   "execution_count": 35,
   "metadata": {},
   "outputs": [],
   "source": [
    "#Also works eventually:\n",
    "#from plotly import tools\n",
    "#import plotly.plotly as py\n",
    "#import plotly.graph_objs as go\n",
    "\n",
    "#trace1 = pol_part_corr_1.corr().iplot(kind='heatmap',colorscale=\"Reds\", title=\"CO, NO2, NO, NOX\")\n",
    "#trace2 = pol_part_corr_2.corr().iplot(kind='heatmap',colorscale=\"Reds\", title=\"O3, SO2, PM2.5, PM10, PMCO\")\n",
    "\n",
    "#fig = tools.make_subplots(rows=2, cols=1)\n",
    "\n",
    "#fig.add_traces(trace1)\n",
    "#fig.add_traces(trace2)\n",
    "\n",
    "\n",
    "\n",
    "#fig['layout'].update(height=600, width=600, title='PARTICLES CORRELATION')\n",
    "#py.plot(fig, filename='subplots-shared-xaxes')"
   ]
  },
  {
   "cell_type": "code",
   "execution_count": 39,
   "metadata": {},
   "outputs": [],
   "source": [
    "pol_part_corr_1 = pol_part_corr.loc['CO':'NOX','CO':'NOX']\n",
    "pol_part_corr_2 = pol_part_corr.loc['O3':,'O3':]"
   ]
  },
  {
   "cell_type": "markdown",
   "metadata": {},
   "source": [
    "We can see there's three groups of highly-correlated particles: CO, NOX, NO, NO2 and PM10, PM2.5, PMCO and, somehow, SO2 and O3, seem to interact more with those. Let's split them:"
   ]
  },
  {
   "cell_type": "code",
   "execution_count": 32,
   "metadata": {},
   "outputs": [],
   "source": [
    "#pol_part_corr.iplot(kind='heatmap',colorscale=\"Reds\", title=\"Particles Correlation Matrix\")\n",
    "#The code is right but somehow it does not work eventually\n"
   ]
  },
  {
   "cell_type": "code",
   "execution_count": 31,
   "metadata": {},
   "outputs": [
    {
     "data": {
      "text/plain": [
       "<matplotlib.axes._subplots.AxesSubplot at 0x126dbf0b8>"
      ]
     },
     "execution_count": 31,
     "metadata": {},
     "output_type": "execute_result"
    },
    {
     "data": {
      "image/png": "[encoded data removed]",
      "text/plain": [
       "<Figure size 432x288 with 2 Axes>"
      ]
     },
     "metadata": {
      "needs_background": "light"
     },
     "output_type": "display_data"
    }
   ],
   "source": [
    "sns.heatmap(pol_part_corr, cmap=\"Reds\")"
   ]
  },
  {
   "cell_type": "code",
   "execution_count": 27,
   "metadata": {},
   "outputs": [],
   "source": [
    "pol_part_corr = pol_by_time.corr()\n",
    "f = lambda x: x*-1 if x<0 else x\n",
    "\n",
    "for col in list(pol_part_corr.columns):\n",
    "    pol_part_corr[col] = pol_part_corr[col].apply(f)"
   ]
  },
  {
   "cell_type": "markdown",
   "metadata": {},
   "source": [
    "As we only care for the magnitude of the relation and not the type of the relation between the values, we're going to set all values to positive:"
   ]
  },
  {
   "cell_type": "code",
   "execution_count": 15,
   "metadata": {
    "scrolled": true
   },
   "outputs": [
    {
     "data": {
      "text/html": [
       "<div>\n",
       "<style scoped>\n",
       "    .dataframe tbody tr th:only-of-type {\n",
       "        vertical-align: middle;\n",
       "    }\n",
       "\n",
       "    .dataframe tbody tr th {\n",
       "        vertical-align: top;\n",
       "    }\n",
       "\n",
       "    .dataframe thead th {\n",
       "        text-align: right;\n",
       "    }\n",
       "</style>\n",
       "<table border=\"1\" class=\"dataframe\">\n",
       "  <thead>\n",
       "    <tr style=\"text-align: right;\">\n",
       "      <th></th>\n",
       "      <th>id_parameter</th>\n",
       "      <th>CO</th>\n",
       "      <th>NO</th>\n",
       "      <th>NO2</th>\n",
       "      <th>NOX</th>\n",
       "      <th>O3</th>\n",
       "      <th>PM10</th>\n",
       "      <th>PM2.5</th>\n",
       "      <th>PMCO</th>\n",
       "      <th>SO2</th>\n",
       "    </tr>\n",
       "    <tr>\n",
       "      <th>time</th>\n",
       "      <th>date</th>\n",
       "      <th></th>\n",
       "      <th></th>\n",
       "      <th></th>\n",
       "      <th></th>\n",
       "      <th></th>\n",
       "      <th></th>\n",
       "      <th></th>\n",
       "      <th></th>\n",
       "      <th></th>\n",
       "    </tr>\n",
       "  </thead>\n",
       "  <tbody>\n",
       "    <tr>\n",
       "      <th rowspan=\"5\" valign=\"top\">01:00</th>\n",
       "      <th>01/01/2018</th>\n",
       "      <td>0.727941</td>\n",
       "      <td>3.522059</td>\n",
       "      <td>30.490809</td>\n",
       "      <td>34.022059</td>\n",
       "      <td>19.415441</td>\n",
       "      <td>104.009191</td>\n",
       "      <td>68.490809</td>\n",
       "      <td>28.763557</td>\n",
       "      <td>7.477941</td>\n",
       "    </tr>\n",
       "    <tr>\n",
       "      <th>01/02/2018</th>\n",
       "      <td>0.716728</td>\n",
       "      <td>51.915441</td>\n",
       "      <td>28.477941</td>\n",
       "      <td>80.408088</td>\n",
       "      <td>3.985294</td>\n",
       "      <td>45.318015</td>\n",
       "      <td>16.176471</td>\n",
       "      <td>25.072610</td>\n",
       "      <td>2.536765</td>\n",
       "    </tr>\n",
       "    <tr>\n",
       "      <th>01/03/2018</th>\n",
       "      <td>0.197059</td>\n",
       "      <td>0.294118</td>\n",
       "      <td>10.323529</td>\n",
       "      <td>11.558824</td>\n",
       "      <td>42.264706</td>\n",
       "      <td>67.005515</td>\n",
       "      <td>33.548713</td>\n",
       "      <td>32.500460</td>\n",
       "      <td>1.029412</td>\n",
       "    </tr>\n",
       "    <tr>\n",
       "      <th>01/04/2018</th>\n",
       "      <td>0.321324</td>\n",
       "      <td>2.602941</td>\n",
       "      <td>24.716912</td>\n",
       "      <td>27.356618</td>\n",
       "      <td>19.544118</td>\n",
       "      <td>36.018382</td>\n",
       "      <td>18.181066</td>\n",
       "      <td>18.380515</td>\n",
       "      <td>1.617647</td>\n",
       "    </tr>\n",
       "    <tr>\n",
       "      <th>01/05/2018</th>\n",
       "      <td>0.129779</td>\n",
       "      <td>1.029412</td>\n",
       "      <td>15.102941</td>\n",
       "      <td>16.000000</td>\n",
       "      <td>26.889706</td>\n",
       "      <td>21.555147</td>\n",
       "      <td>14.277574</td>\n",
       "      <td>8.181526</td>\n",
       "      <td>0.845588</td>\n",
       "    </tr>\n",
       "  </tbody>\n",
       "</table>\n",
       "</div>"
      ],
      "text/plain": [
       "id_parameter            CO         NO        NO2        NOX         O3  \\\n",
       "time  date                                                               \n",
       "01:00 01/01/2018  0.727941   3.522059  30.490809  34.022059  19.415441   \n",
       "      01/02/2018  0.716728  51.915441  28.477941  80.408088   3.985294   \n",
       "      01/03/2018  0.197059   0.294118  10.323529  11.558824  42.264706   \n",
       "      01/04/2018  0.321324   2.602941  24.716912  27.356618  19.544118   \n",
       "      01/05/2018  0.129779   1.029412  15.102941  16.000000  26.889706   \n",
       "\n",
       "id_parameter            PM10      PM2.5       PMCO       SO2  \n",
       "time  date                                                    \n",
       "01:00 01/01/2018  104.009191  68.490809  28.763557  7.477941  \n",
       "      01/02/2018   45.318015  16.176471  25.072610  2.536765  \n",
       "      01/03/2018   67.005515  33.548713  32.500460  1.029412  \n",
       "      01/04/2018   36.018382  18.181066  18.380515  1.617647  \n",
       "      01/05/2018   21.555147  14.277574   8.181526  0.845588  "
      ]
     },
     "execution_count": 15,
     "metadata": {},
     "output_type": "execute_result"
    }
   ],
   "source": [
    "pol_by_time = arranged_table.drop('id_station', axis=1)\n",
    "pol_by_time = arranged_table.groupby(['time', 'date']).mean()\n",
    "pol_by_time.head()"
   ]
  },
  {
   "cell_type": "markdown",
   "metadata": {},
   "source": [
    "Let's look at the mean of the whole city, by particle over time:"
   ]
  },
  {
   "cell_type": "code",
   "execution_count": 14,
   "metadata": {
    "scrolled": true
   },
   "outputs": [
    {
     "data": {
      "text/html": [
       "<div>\n",
       "<style scoped>\n",
       "    .dataframe tbody tr th:only-of-type {\n",
       "        vertical-align: middle;\n",
       "    }\n",
       "\n",
       "    .dataframe tbody tr th {\n",
       "        vertical-align: top;\n",
       "    }\n",
       "\n",
       "    .dataframe thead th {\n",
       "        text-align: right;\n",
       "    }\n",
       "</style>\n",
       "<table border=\"1\" class=\"dataframe\">\n",
       "  <thead>\n",
       "    <tr style=\"text-align: right;\">\n",
       "      <th>id_parameter</th>\n",
       "      <th>date</th>\n",
       "      <th>id_station</th>\n",
       "      <th>CO</th>\n",
       "      <th>NO</th>\n",
       "      <th>NO2</th>\n",
       "      <th>NOX</th>\n",
       "      <th>O3</th>\n",
       "      <th>PM10</th>\n",
       "      <th>PM2.5</th>\n",
       "      <th>PMCO</th>\n",
       "      <th>SO2</th>\n",
       "      <th>time</th>\n",
       "    </tr>\n",
       "  </thead>\n",
       "  <tbody>\n",
       "    <tr>\n",
       "      <th>0</th>\n",
       "      <td>01/01/2018</td>\n",
       "      <td>ACO</td>\n",
       "      <td>0.4</td>\n",
       "      <td>3.0</td>\n",
       "      <td>23.000</td>\n",
       "      <td>25.0</td>\n",
       "      <td>8.0</td>\n",
       "      <td>125.0</td>\n",
       "      <td>70.0</td>\n",
       "      <td>43.00</td>\n",
       "      <td>2.0</td>\n",
       "      <td>01:00</td>\n",
       "    </tr>\n",
       "    <tr>\n",
       "      <th>1</th>\n",
       "      <td>01/01/2018</td>\n",
       "      <td>AJM</td>\n",
       "      <td>0.8</td>\n",
       "      <td>2.0</td>\n",
       "      <td>25.000</td>\n",
       "      <td>26.0</td>\n",
       "      <td>31.0</td>\n",
       "      <td>92.0</td>\n",
       "      <td>65.0</td>\n",
       "      <td>27.00</td>\n",
       "      <td>6.0</td>\n",
       "      <td>01:00</td>\n",
       "    </tr>\n",
       "    <tr>\n",
       "      <th>2</th>\n",
       "      <td>01/01/2018</td>\n",
       "      <td>AJU</td>\n",
       "      <td>0.8</td>\n",
       "      <td>2.0</td>\n",
       "      <td>30.500</td>\n",
       "      <td>32.0</td>\n",
       "      <td>17.0</td>\n",
       "      <td>85.0</td>\n",
       "      <td>49.0</td>\n",
       "      <td>24.50</td>\n",
       "      <td>10.0</td>\n",
       "      <td>01:00</td>\n",
       "    </tr>\n",
       "    <tr>\n",
       "      <th>3</th>\n",
       "      <td>01/01/2018</td>\n",
       "      <td>ATI</td>\n",
       "      <td>0.8</td>\n",
       "      <td>2.0</td>\n",
       "      <td>33.250</td>\n",
       "      <td>35.0</td>\n",
       "      <td>17.0</td>\n",
       "      <td>81.5</td>\n",
       "      <td>52.5</td>\n",
       "      <td>23.25</td>\n",
       "      <td>14.0</td>\n",
       "      <td>01:00</td>\n",
       "    </tr>\n",
       "    <tr>\n",
       "      <th>4</th>\n",
       "      <td>01/01/2018</td>\n",
       "      <td>BJU</td>\n",
       "      <td>0.6</td>\n",
       "      <td>2.0</td>\n",
       "      <td>34.625</td>\n",
       "      <td>36.5</td>\n",
       "      <td>22.0</td>\n",
       "      <td>78.0</td>\n",
       "      <td>56.0</td>\n",
       "      <td>22.00</td>\n",
       "      <td>9.0</td>\n",
       "      <td>01:00</td>\n",
       "    </tr>\n",
       "  </tbody>\n",
       "</table>\n",
       "</div>"
      ],
      "text/plain": [
       "id_parameter        date id_station   CO   NO     NO2   NOX    O3   PM10  \\\n",
       "0             01/01/2018        ACO  0.4  3.0  23.000  25.0   8.0  125.0   \n",
       "1             01/01/2018        AJM  0.8  2.0  25.000  26.0  31.0   92.0   \n",
       "2             01/01/2018        AJU  0.8  2.0  30.500  32.0  17.0   85.0   \n",
       "3             01/01/2018        ATI  0.8  2.0  33.250  35.0  17.0   81.5   \n",
       "4             01/01/2018        BJU  0.6  2.0  34.625  36.5  22.0   78.0   \n",
       "\n",
       "id_parameter  PM2.5   PMCO   SO2   time  \n",
       "0              70.0  43.00   2.0  01:00  \n",
       "1              65.0  27.00   6.0  01:00  \n",
       "2              49.0  24.50  10.0  01:00  \n",
       "3              52.5  23.25  14.0  01:00  \n",
       "4              56.0  22.00   9.0  01:00  "
      ]
     },
     "execution_count": 14,
     "metadata": {},
     "output_type": "execute_result"
    }
   ],
   "source": [
    "arranged_table.head()"
   ]
  },
  {
   "cell_type": "code",
   "execution_count": 13,
   "metadata": {},
   "outputs": [],
   "source": [
    "arranged_table[['date', 'time']] = arranged_table.date.str.split(\" \",expand=True)"
   ]
  },
  {
   "cell_type": "code",
   "execution_count": 12,
   "metadata": {},
   "outputs": [],
   "source": [
    "particles = ['CO', 'NO', 'NO2', 'NOX', 'O3', 'PM10', 'PM2.5', 'PMCO', 'SO2']\n",
    "stations = list(arranged_table['id_station'].unique())"
   ]
  },
  {
   "cell_type": "code",
   "execution_count": 11,
   "metadata": {},
   "outputs": [],
   "source": [
    "arranged_table.reset_index(inplace=True)"
   ]
  },
  {
   "cell_type": "code",
   "execution_count": 200,
   "metadata": {},
   "outputs": [],
   "source": [
    "arranged_table = arranged_table['value']"
   ]
  }
 ],
 "metadata": {
  "kernelspec": {
   "display_name": "Python 3",
   "language": "python",
   "name": "python3"
  },
  "language_info": {
   "codemirror_mode": {
    "name": "ipython",
    "version": 3
   },
   "file_extension": ".py",
   "mimetype": "text/x-python",
   "name": "python",
   "nbconvert_exporter": "python",
   "pygments_lexer": "ipython3",
   "version": "3.7.3"
  }
 },
 "nbformat": 4,
 "nbformat_minor": 2
}
