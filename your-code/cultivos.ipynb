{
 "cells": [
  {
   "cell_type": "code",
   "execution_count": 1,
   "metadata": {},
   "outputs": [],
   "source": [
    "import pandas as pd\n",
    "import numpy as np\n",
    "import os\n",
    "import matplotlib.pyplot as plt\n",
    "%matplotlib inline\n",
    "import seaborn as sns"
   ]
  },
  {
   "cell_type": "code",
   "execution_count": 2,
   "metadata": {},
   "outputs": [
    {
     "data": {
      "text/plain": [
       "['cierre_agricola_mun_2015.csv',\n",
       " 'cierre_agricola_mun_2016.csv',\n",
       " 'cierre_agricola_mun_2017.csv',\n",
       " 'cierre_agricola_mun_2018.csv']"
      ]
     },
     "execution_count": 2,
     "metadata": {},
     "output_type": "execute_result"
    }
   ],
   "source": [
    "file_names = [f for f in os.listdir('./data_agricola') if f.endswith ('.csv')]\n",
    "file_names"
   ]
  },
  {
   "cell_type": "code",
   "execution_count": 3,
   "metadata": {},
   "outputs": [],
   "source": [
    "tables = [pd.read_csv(os.path.join('./data_agricola', f), encoding = \"ISO-8859-1\", low_memory=False) for f in file_names]\n",
    "data1 = pd.concat(tables, axis = 0)"
   ]
  },
  {
   "cell_type": "code",
   "execution_count": 4,
   "metadata": {},
   "outputs": [],
   "source": [
    "data2 = data1.rename(columns={'Anio':'anio',\n",
    "                              'Idestado':'clave_entidad',\n",
    "                              'Nomestado':'entidad',\n",
    "                              'Idmunicipio':'clave_municipio',\n",
    "                              'Nommunicipio':'municipio',\n",
    "                              'Nomcultivo':'cultivo',\n",
    "                              'Sembrada':'superficie_sembrada_ha',\n",
    "                              'Volumenproduccion':'produccion_ton',\n",
    "                              'Valorproduccion':'valor_produccion'})"
   ]
  },
  {
   "cell_type": "code",
   "execution_count": 5,
   "metadata": {},
   "outputs": [],
   "source": [
    "data3 = data2[['anio', 'clave_entidad', 'entidad', 'clave_municipio', 'municipio', 'cultivo', 'produccion_ton',\n",
    "               'superficie_sembrada_ha', 'valor_produccion']]"
   ]
  },
  {
   "cell_type": "code",
   "execution_count": 6,
   "metadata": {},
   "outputs": [],
   "source": [
    "#data3.cultivo.unique()"
   ]
  },
  {
   "cell_type": "code",
   "execution_count": 7,
   "metadata": {},
   "outputs": [],
   "source": [
    "data4 = data3.loc[(data3.cultivo == 'Maíz grano') | (data3.cultivo == 'Algodón hueso') | (data3.cultivo == 'Naranja')]"
   ]
  },
  {
   "cell_type": "code",
   "execution_count": 8,
   "metadata": {},
   "outputs": [
    {
     "data": {
      "text/plain": [
       "array(['Maíz grano', 'Naranja', 'Algodón hueso'], dtype=object)"
      ]
     },
     "execution_count": 8,
     "metadata": {},
     "output_type": "execute_result"
    }
   ],
   "source": [
    "data4.cultivo.unique()"
   ]
  },
  {
   "cell_type": "code",
   "execution_count": 9,
   "metadata": {},
   "outputs": [
    {
     "data": {
      "text/html": [
       "<div>\n",
       "<style scoped>\n",
       "    .dataframe tbody tr th:only-of-type {\n",
       "        vertical-align: middle;\n",
       "    }\n",
       "\n",
       "    .dataframe tbody tr th {\n",
       "        vertical-align: top;\n",
       "    }\n",
       "\n",
       "    .dataframe thead th {\n",
       "        text-align: right;\n",
       "    }\n",
       "</style>\n",
       "<table border=\"1\" class=\"dataframe\">\n",
       "  <thead>\n",
       "    <tr style=\"text-align: right;\">\n",
       "      <th></th>\n",
       "      <th>anio</th>\n",
       "      <th>clave_entidad</th>\n",
       "      <th>entidad</th>\n",
       "      <th>clave_municipio</th>\n",
       "      <th>municipio</th>\n",
       "      <th>cultivo</th>\n",
       "      <th>produccion_ton</th>\n",
       "      <th>superficie_sembrada_ha</th>\n",
       "      <th>valor_produccion</th>\n",
       "    </tr>\n",
       "  </thead>\n",
       "  <tbody>\n",
       "    <tr>\n",
       "      <th>11</th>\n",
       "      <td>2015</td>\n",
       "      <td>1</td>\n",
       "      <td>Aguascalientes</td>\n",
       "      <td>1</td>\n",
       "      <td>Aguascalientes</td>\n",
       "      <td>Maíz grano</td>\n",
       "      <td>2050.00</td>\n",
       "      <td>265.5</td>\n",
       "      <td>7145603.00</td>\n",
       "    </tr>\n",
       "    <tr>\n",
       "      <th>17</th>\n",
       "      <td>2015</td>\n",
       "      <td>1</td>\n",
       "      <td>Aguascalientes</td>\n",
       "      <td>1</td>\n",
       "      <td>Aguascalientes</td>\n",
       "      <td>Maíz grano</td>\n",
       "      <td>3453.10</td>\n",
       "      <td>5053.0</td>\n",
       "      <td>12048591.05</td>\n",
       "    </tr>\n",
       "    <tr>\n",
       "      <th>55</th>\n",
       "      <td>2015</td>\n",
       "      <td>1</td>\n",
       "      <td>Aguascalientes</td>\n",
       "      <td>5</td>\n",
       "      <td>Jesús María</td>\n",
       "      <td>Maíz grano</td>\n",
       "      <td>1974.00</td>\n",
       "      <td>271.0</td>\n",
       "      <td>6872500.74</td>\n",
       "    </tr>\n",
       "    <tr>\n",
       "      <th>62</th>\n",
       "      <td>2015</td>\n",
       "      <td>1</td>\n",
       "      <td>Aguascalientes</td>\n",
       "      <td>5</td>\n",
       "      <td>Jesús María</td>\n",
       "      <td>Maíz grano</td>\n",
       "      <td>468.66</td>\n",
       "      <td>642.0</td>\n",
       "      <td>1648174.11</td>\n",
       "    </tr>\n",
       "    <tr>\n",
       "      <th>78</th>\n",
       "      <td>2015</td>\n",
       "      <td>1</td>\n",
       "      <td>Aguascalientes</td>\n",
       "      <td>10</td>\n",
       "      <td>El Llano</td>\n",
       "      <td>Maíz grano</td>\n",
       "      <td>1122.17</td>\n",
       "      <td>161.0</td>\n",
       "      <td>3921995.37</td>\n",
       "    </tr>\n",
       "    <tr>\n",
       "      <th>...</th>\n",
       "      <td>...</td>\n",
       "      <td>...</td>\n",
       "      <td>...</td>\n",
       "      <td>...</td>\n",
       "      <td>...</td>\n",
       "      <td>...</td>\n",
       "      <td>...</td>\n",
       "      <td>...</td>\n",
       "      <td>...</td>\n",
       "    </tr>\n",
       "    <tr>\n",
       "      <th>36580</th>\n",
       "      <td>2018</td>\n",
       "      <td>32</td>\n",
       "      <td>Zacatecas</td>\n",
       "      <td>1</td>\n",
       "      <td>Apozol</td>\n",
       "      <td>Maíz grano</td>\n",
       "      <td>858.60</td>\n",
       "      <td>106.0</td>\n",
       "      <td>3005100.00</td>\n",
       "    </tr>\n",
       "    <tr>\n",
       "      <th>36586</th>\n",
       "      <td>2018</td>\n",
       "      <td>32</td>\n",
       "      <td>Zacatecas</td>\n",
       "      <td>1</td>\n",
       "      <td>Apozol</td>\n",
       "      <td>Maíz grano</td>\n",
       "      <td>3805.55</td>\n",
       "      <td>917.0</td>\n",
       "      <td>11873316.00</td>\n",
       "    </tr>\n",
       "    <tr>\n",
       "      <th>36603</th>\n",
       "      <td>2018</td>\n",
       "      <td>32</td>\n",
       "      <td>Zacatecas</td>\n",
       "      <td>19</td>\n",
       "      <td>Jalpa</td>\n",
       "      <td>Maíz grano</td>\n",
       "      <td>184.90</td>\n",
       "      <td>44.0</td>\n",
       "      <td>630810.39</td>\n",
       "    </tr>\n",
       "    <tr>\n",
       "      <th>36612</th>\n",
       "      <td>2018</td>\n",
       "      <td>32</td>\n",
       "      <td>Zacatecas</td>\n",
       "      <td>19</td>\n",
       "      <td>Jalpa</td>\n",
       "      <td>Maíz grano</td>\n",
       "      <td>1365.10</td>\n",
       "      <td>187.0</td>\n",
       "      <td>4171213.21</td>\n",
       "    </tr>\n",
       "    <tr>\n",
       "      <th>36621</th>\n",
       "      <td>2018</td>\n",
       "      <td>32</td>\n",
       "      <td>Zacatecas</td>\n",
       "      <td>19</td>\n",
       "      <td>Jalpa</td>\n",
       "      <td>Maíz grano</td>\n",
       "      <td>6235.65</td>\n",
       "      <td>1395.0</td>\n",
       "      <td>18706950.00</td>\n",
       "    </tr>\n",
       "  </tbody>\n",
       "</table>\n",
       "<p>20771 rows × 9 columns</p>\n",
       "</div>"
      ],
      "text/plain": [
       "       anio  clave_entidad         entidad  clave_municipio       municipio  \\\n",
       "11     2015              1  Aguascalientes                1  Aguascalientes   \n",
       "17     2015              1  Aguascalientes                1  Aguascalientes   \n",
       "55     2015              1  Aguascalientes                5     Jesús María   \n",
       "62     2015              1  Aguascalientes                5     Jesús María   \n",
       "78     2015              1  Aguascalientes               10        El Llano   \n",
       "...     ...            ...             ...              ...             ...   \n",
       "36580  2018             32       Zacatecas                1          Apozol   \n",
       "36586  2018             32       Zacatecas                1          Apozol   \n",
       "36603  2018             32       Zacatecas               19           Jalpa   \n",
       "36612  2018             32       Zacatecas               19           Jalpa   \n",
       "36621  2018             32       Zacatecas               19           Jalpa   \n",
       "\n",
       "          cultivo  produccion_ton  superficie_sembrada_ha  valor_produccion  \n",
       "11     Maíz grano         2050.00                   265.5        7145603.00  \n",
       "17     Maíz grano         3453.10                  5053.0       12048591.05  \n",
       "55     Maíz grano         1974.00                   271.0        6872500.74  \n",
       "62     Maíz grano          468.66                   642.0        1648174.11  \n",
       "78     Maíz grano         1122.17                   161.0        3921995.37  \n",
       "...           ...             ...                     ...               ...  \n",
       "36580  Maíz grano          858.60                   106.0        3005100.00  \n",
       "36586  Maíz grano         3805.55                   917.0       11873316.00  \n",
       "36603  Maíz grano          184.90                    44.0         630810.39  \n",
       "36612  Maíz grano         1365.10                   187.0        4171213.21  \n",
       "36621  Maíz grano         6235.65                  1395.0       18706950.00  \n",
       "\n",
       "[20771 rows x 9 columns]"
      ]
     },
     "execution_count": 9,
     "metadata": {},
     "output_type": "execute_result"
    }
   ],
   "source": [
    "dataset1 = pd.DataFrame(data4)\n",
    "dataset1"
   ]
  },
  {
   "cell_type": "code",
   "execution_count": 10,
   "metadata": {},
   "outputs": [
    {
     "data": {
      "text/plain": [
       "anio                        int64\n",
       "clave_entidad               int64\n",
       "entidad                    object\n",
       "clave_municipio             int64\n",
       "municipio                  object\n",
       "cultivo                    object\n",
       "produccion_ton            float64\n",
       "superficie_sembrada_ha    float64\n",
       "valor_produccion          float64\n",
       "dtype: object"
      ]
     },
     "execution_count": 10,
     "metadata": {},
     "output_type": "execute_result"
    }
   ],
   "source": [
    "dataset1.dtypes"
   ]
  },
  {
   "cell_type": "code",
   "execution_count": 11,
   "metadata": {},
   "outputs": [
    {
     "data": {
      "text/html": [
       "<div>\n",
       "<style scoped>\n",
       "    .dataframe tbody tr th:only-of-type {\n",
       "        vertical-align: middle;\n",
       "    }\n",
       "\n",
       "    .dataframe tbody tr th {\n",
       "        vertical-align: top;\n",
       "    }\n",
       "\n",
       "    .dataframe thead th {\n",
       "        text-align: right;\n",
       "    }\n",
       "</style>\n",
       "<table border=\"1\" class=\"dataframe\">\n",
       "  <thead>\n",
       "    <tr style=\"text-align: right;\">\n",
       "      <th></th>\n",
       "      <th>anio</th>\n",
       "      <th>clave_entidad</th>\n",
       "      <th>entidad</th>\n",
       "      <th>clave_municipio</th>\n",
       "      <th>municipio</th>\n",
       "      <th>cultivo</th>\n",
       "      <th>produccion_ton</th>\n",
       "      <th>superficie_sembrada_ha</th>\n",
       "      <th>valor_produccion</th>\n",
       "    </tr>\n",
       "  </thead>\n",
       "  <tbody>\n",
       "    <tr>\n",
       "      <th>11</th>\n",
       "      <td>2015</td>\n",
       "      <td>01</td>\n",
       "      <td>Aguascalientes</td>\n",
       "      <td>01001</td>\n",
       "      <td>Aguascalientes</td>\n",
       "      <td>Maíz grano</td>\n",
       "      <td>2050.00</td>\n",
       "      <td>265.5</td>\n",
       "      <td>7145603.00</td>\n",
       "    </tr>\n",
       "    <tr>\n",
       "      <th>17</th>\n",
       "      <td>2015</td>\n",
       "      <td>01</td>\n",
       "      <td>Aguascalientes</td>\n",
       "      <td>01001</td>\n",
       "      <td>Aguascalientes</td>\n",
       "      <td>Maíz grano</td>\n",
       "      <td>3453.10</td>\n",
       "      <td>5053.0</td>\n",
       "      <td>12048591.05</td>\n",
       "    </tr>\n",
       "    <tr>\n",
       "      <th>55</th>\n",
       "      <td>2015</td>\n",
       "      <td>01</td>\n",
       "      <td>Aguascalientes</td>\n",
       "      <td>01005</td>\n",
       "      <td>Jesús María</td>\n",
       "      <td>Maíz grano</td>\n",
       "      <td>1974.00</td>\n",
       "      <td>271.0</td>\n",
       "      <td>6872500.74</td>\n",
       "    </tr>\n",
       "    <tr>\n",
       "      <th>62</th>\n",
       "      <td>2015</td>\n",
       "      <td>01</td>\n",
       "      <td>Aguascalientes</td>\n",
       "      <td>01005</td>\n",
       "      <td>Jesús María</td>\n",
       "      <td>Maíz grano</td>\n",
       "      <td>468.66</td>\n",
       "      <td>642.0</td>\n",
       "      <td>1648174.11</td>\n",
       "    </tr>\n",
       "    <tr>\n",
       "      <th>78</th>\n",
       "      <td>2015</td>\n",
       "      <td>01</td>\n",
       "      <td>Aguascalientes</td>\n",
       "      <td>01010</td>\n",
       "      <td>El Llano</td>\n",
       "      <td>Maíz grano</td>\n",
       "      <td>1122.17</td>\n",
       "      <td>161.0</td>\n",
       "      <td>3921995.37</td>\n",
       "    </tr>\n",
       "    <tr>\n",
       "      <th>...</th>\n",
       "      <td>...</td>\n",
       "      <td>...</td>\n",
       "      <td>...</td>\n",
       "      <td>...</td>\n",
       "      <td>...</td>\n",
       "      <td>...</td>\n",
       "      <td>...</td>\n",
       "      <td>...</td>\n",
       "      <td>...</td>\n",
       "    </tr>\n",
       "    <tr>\n",
       "      <th>36580</th>\n",
       "      <td>2018</td>\n",
       "      <td>32</td>\n",
       "      <td>Zacatecas</td>\n",
       "      <td>32001</td>\n",
       "      <td>Apozol</td>\n",
       "      <td>Maíz grano</td>\n",
       "      <td>858.60</td>\n",
       "      <td>106.0</td>\n",
       "      <td>3005100.00</td>\n",
       "    </tr>\n",
       "    <tr>\n",
       "      <th>36586</th>\n",
       "      <td>2018</td>\n",
       "      <td>32</td>\n",
       "      <td>Zacatecas</td>\n",
       "      <td>32001</td>\n",
       "      <td>Apozol</td>\n",
       "      <td>Maíz grano</td>\n",
       "      <td>3805.55</td>\n",
       "      <td>917.0</td>\n",
       "      <td>11873316.00</td>\n",
       "    </tr>\n",
       "    <tr>\n",
       "      <th>36603</th>\n",
       "      <td>2018</td>\n",
       "      <td>32</td>\n",
       "      <td>Zacatecas</td>\n",
       "      <td>32019</td>\n",
       "      <td>Jalpa</td>\n",
       "      <td>Maíz grano</td>\n",
       "      <td>184.90</td>\n",
       "      <td>44.0</td>\n",
       "      <td>630810.39</td>\n",
       "    </tr>\n",
       "    <tr>\n",
       "      <th>36612</th>\n",
       "      <td>2018</td>\n",
       "      <td>32</td>\n",
       "      <td>Zacatecas</td>\n",
       "      <td>32019</td>\n",
       "      <td>Jalpa</td>\n",
       "      <td>Maíz grano</td>\n",
       "      <td>1365.10</td>\n",
       "      <td>187.0</td>\n",
       "      <td>4171213.21</td>\n",
       "    </tr>\n",
       "    <tr>\n",
       "      <th>36621</th>\n",
       "      <td>2018</td>\n",
       "      <td>32</td>\n",
       "      <td>Zacatecas</td>\n",
       "      <td>32019</td>\n",
       "      <td>Jalpa</td>\n",
       "      <td>Maíz grano</td>\n",
       "      <td>6235.65</td>\n",
       "      <td>1395.0</td>\n",
       "      <td>18706950.00</td>\n",
       "    </tr>\n",
       "  </tbody>\n",
       "</table>\n",
       "<p>20771 rows × 9 columns</p>\n",
       "</div>"
      ],
      "text/plain": [
       "       anio clave_entidad         entidad clave_municipio       municipio  \\\n",
       "11     2015            01  Aguascalientes           01001  Aguascalientes   \n",
       "17     2015            01  Aguascalientes           01001  Aguascalientes   \n",
       "55     2015            01  Aguascalientes           01005     Jesús María   \n",
       "62     2015            01  Aguascalientes           01005     Jesús María   \n",
       "78     2015            01  Aguascalientes           01010        El Llano   \n",
       "...     ...           ...             ...             ...             ...   \n",
       "36580  2018            32       Zacatecas           32001          Apozol   \n",
       "36586  2018            32       Zacatecas           32001          Apozol   \n",
       "36603  2018            32       Zacatecas           32019           Jalpa   \n",
       "36612  2018            32       Zacatecas           32019           Jalpa   \n",
       "36621  2018            32       Zacatecas           32019           Jalpa   \n",
       "\n",
       "          cultivo  produccion_ton  superficie_sembrada_ha  valor_produccion  \n",
       "11     Maíz grano         2050.00                   265.5        7145603.00  \n",
       "17     Maíz grano         3453.10                  5053.0       12048591.05  \n",
       "55     Maíz grano         1974.00                   271.0        6872500.74  \n",
       "62     Maíz grano          468.66                   642.0        1648174.11  \n",
       "78     Maíz grano         1122.17                   161.0        3921995.37  \n",
       "...           ...             ...                     ...               ...  \n",
       "36580  Maíz grano          858.60                   106.0        3005100.00  \n",
       "36586  Maíz grano         3805.55                   917.0       11873316.00  \n",
       "36603  Maíz grano          184.90                    44.0         630810.39  \n",
       "36612  Maíz grano         1365.10                   187.0        4171213.21  \n",
       "36621  Maíz grano         6235.65                  1395.0       18706950.00  \n",
       "\n",
       "[20771 rows x 9 columns]"
      ]
     },
     "execution_count": 11,
     "metadata": {},
     "output_type": "execute_result"
    }
   ],
   "source": [
    "dataset1['anio'] = dataset1['anio'].astype(str)\n",
    "dataset1['clave_entidad'] = dataset1['clave_entidad'].astype(str).str.zfill(2)\n",
    "dataset1['clave_municipio'] = dataset1['clave_municipio'].astype(str).str.zfill(3)\n",
    "dataset1['clave_municipio'] = dataset1['clave_entidad'] + dataset1['clave_municipio']\n",
    "dataset1"
   ]
  },
  {
   "cell_type": "code",
   "execution_count": 12,
   "metadata": {},
   "outputs": [
    {
     "data": {
      "text/plain": [
       "anio                       object\n",
       "clave_entidad              object\n",
       "entidad                    object\n",
       "clave_municipio            object\n",
       "municipio                  object\n",
       "cultivo                    object\n",
       "produccion_ton            float64\n",
       "superficie_sembrada_ha    float64\n",
       "valor_produccion          float64\n",
       "dtype: object"
      ]
     },
     "execution_count": 12,
     "metadata": {},
     "output_type": "execute_result"
    }
   ],
   "source": [
    "dataset1.dtypes"
   ]
  },
  {
   "cell_type": "code",
   "execution_count": 13,
   "metadata": {},
   "outputs": [
    {
     "data": {
      "text/html": [
       "<div>\n",
       "<style scoped>\n",
       "    .dataframe tbody tr th:only-of-type {\n",
       "        vertical-align: middle;\n",
       "    }\n",
       "\n",
       "    .dataframe tbody tr th {\n",
       "        vertical-align: top;\n",
       "    }\n",
       "\n",
       "    .dataframe thead th {\n",
       "        text-align: right;\n",
       "    }\n",
       "</style>\n",
       "<table border=\"1\" class=\"dataframe\">\n",
       "  <thead>\n",
       "    <tr style=\"text-align: right;\">\n",
       "      <th></th>\n",
       "      <th>anio</th>\n",
       "      <th>clave_entidad</th>\n",
       "      <th>entidad</th>\n",
       "      <th>cultivo</th>\n",
       "      <th>produccion_ton</th>\n",
       "      <th>superficie_sembrada_ha</th>\n",
       "      <th>valor_produccion</th>\n",
       "    </tr>\n",
       "  </thead>\n",
       "  <tbody>\n",
       "    <tr>\n",
       "      <th>0</th>\n",
       "      <td>2015</td>\n",
       "      <td>01</td>\n",
       "      <td>Aguascalientes</td>\n",
       "      <td>Maíz grano</td>\n",
       "      <td>60309.42</td>\n",
       "      <td>37209.50</td>\n",
       "      <td>2.033386e+08</td>\n",
       "    </tr>\n",
       "    <tr>\n",
       "      <th>1</th>\n",
       "      <td>2015</td>\n",
       "      <td>01</td>\n",
       "      <td>Aguascalientes</td>\n",
       "      <td>Naranja</td>\n",
       "      <td>14.00</td>\n",
       "      <td>2.00</td>\n",
       "      <td>3.080000e+04</td>\n",
       "    </tr>\n",
       "    <tr>\n",
       "      <th>2</th>\n",
       "      <td>2015</td>\n",
       "      <td>02</td>\n",
       "      <td>Baja California</td>\n",
       "      <td>Algodón hueso</td>\n",
       "      <td>93432.24</td>\n",
       "      <td>18957.00</td>\n",
       "      <td>6.867821e+08</td>\n",
       "    </tr>\n",
       "    <tr>\n",
       "      <th>3</th>\n",
       "      <td>2015</td>\n",
       "      <td>02</td>\n",
       "      <td>Baja California</td>\n",
       "      <td>Maíz grano</td>\n",
       "      <td>1779.46</td>\n",
       "      <td>368.00</td>\n",
       "      <td>6.953674e+06</td>\n",
       "    </tr>\n",
       "    <tr>\n",
       "      <th>4</th>\n",
       "      <td>2015</td>\n",
       "      <td>02</td>\n",
       "      <td>Baja California</td>\n",
       "      <td>Naranja</td>\n",
       "      <td>3260.35</td>\n",
       "      <td>265.50</td>\n",
       "      <td>1.135101e+07</td>\n",
       "    </tr>\n",
       "    <tr>\n",
       "      <th>...</th>\n",
       "      <td>...</td>\n",
       "      <td>...</td>\n",
       "      <td>...</td>\n",
       "      <td>...</td>\n",
       "      <td>...</td>\n",
       "      <td>...</td>\n",
       "      <td>...</td>\n",
       "    </tr>\n",
       "    <tr>\n",
       "      <th>254</th>\n",
       "      <td>2018</td>\n",
       "      <td>30</td>\n",
       "      <td>Veracruz</td>\n",
       "      <td>Maíz grano</td>\n",
       "      <td>1234572.12</td>\n",
       "      <td>570418.00</td>\n",
       "      <td>5.001170e+09</td>\n",
       "    </tr>\n",
       "    <tr>\n",
       "      <th>255</th>\n",
       "      <td>2018</td>\n",
       "      <td>30</td>\n",
       "      <td>Veracruz</td>\n",
       "      <td>Naranja</td>\n",
       "      <td>2508486.48</td>\n",
       "      <td>169531.00</td>\n",
       "      <td>4.706613e+09</td>\n",
       "    </tr>\n",
       "    <tr>\n",
       "      <th>256</th>\n",
       "      <td>2018</td>\n",
       "      <td>31</td>\n",
       "      <td>Yucatán</td>\n",
       "      <td>Maíz grano</td>\n",
       "      <td>124858.07</td>\n",
       "      <td>114727.72</td>\n",
       "      <td>5.219437e+08</td>\n",
       "    </tr>\n",
       "    <tr>\n",
       "      <th>257</th>\n",
       "      <td>2018</td>\n",
       "      <td>31</td>\n",
       "      <td>Yucatán</td>\n",
       "      <td>Naranja</td>\n",
       "      <td>148344.59</td>\n",
       "      <td>11661.86</td>\n",
       "      <td>3.707564e+08</td>\n",
       "    </tr>\n",
       "    <tr>\n",
       "      <th>258</th>\n",
       "      <td>2018</td>\n",
       "      <td>32</td>\n",
       "      <td>Zacatecas</td>\n",
       "      <td>Maíz grano</td>\n",
       "      <td>402221.15</td>\n",
       "      <td>197242.00</td>\n",
       "      <td>1.602153e+09</td>\n",
       "    </tr>\n",
       "  </tbody>\n",
       "</table>\n",
       "<p>259 rows × 7 columns</p>\n",
       "</div>"
      ],
      "text/plain": [
       "     anio clave_entidad          entidad        cultivo  produccion_ton  \\\n",
       "0    2015            01   Aguascalientes     Maíz grano        60309.42   \n",
       "1    2015            01   Aguascalientes        Naranja           14.00   \n",
       "2    2015            02  Baja California  Algodón hueso        93432.24   \n",
       "3    2015            02  Baja California     Maíz grano         1779.46   \n",
       "4    2015            02  Baja California        Naranja         3260.35   \n",
       "..    ...           ...              ...            ...             ...   \n",
       "254  2018            30         Veracruz     Maíz grano      1234572.12   \n",
       "255  2018            30         Veracruz        Naranja      2508486.48   \n",
       "256  2018            31          Yucatán     Maíz grano       124858.07   \n",
       "257  2018            31          Yucatán        Naranja       148344.59   \n",
       "258  2018            32        Zacatecas     Maíz grano       402221.15   \n",
       "\n",
       "     superficie_sembrada_ha  valor_produccion  \n",
       "0                  37209.50      2.033386e+08  \n",
       "1                      2.00      3.080000e+04  \n",
       "2                  18957.00      6.867821e+08  \n",
       "3                    368.00      6.953674e+06  \n",
       "4                    265.50      1.135101e+07  \n",
       "..                      ...               ...  \n",
       "254               570418.00      5.001170e+09  \n",
       "255               169531.00      4.706613e+09  \n",
       "256               114727.72      5.219437e+08  \n",
       "257                11661.86      3.707564e+08  \n",
       "258               197242.00      1.602153e+09  \n",
       "\n",
       "[259 rows x 7 columns]"
      ]
     },
     "execution_count": 13,
     "metadata": {},
     "output_type": "execute_result"
    }
   ],
   "source": [
    "dataset2 = dataset1.groupby(['anio', 'clave_entidad', 'entidad', 'cultivo'], as_index=False).sum()\n",
    "dataset2"
   ]
  },
  {
   "cell_type": "code",
   "execution_count": 14,
   "metadata": {},
   "outputs": [
    {
     "data": {
      "text/html": [
       "<div>\n",
       "<style scoped>\n",
       "    .dataframe tbody tr th:only-of-type {\n",
       "        vertical-align: middle;\n",
       "    }\n",
       "\n",
       "    .dataframe tbody tr th {\n",
       "        vertical-align: top;\n",
       "    }\n",
       "\n",
       "    .dataframe thead th {\n",
       "        text-align: right;\n",
       "    }\n",
       "</style>\n",
       "<table border=\"1\" class=\"dataframe\">\n",
       "  <thead>\n",
       "    <tr style=\"text-align: right;\">\n",
       "      <th></th>\n",
       "      <th>anio</th>\n",
       "      <th>clave_entidad</th>\n",
       "      <th>entidad</th>\n",
       "      <th>cultivo</th>\n",
       "      <th>produccion_ton</th>\n",
       "      <th>superficie_sembrada_ha</th>\n",
       "      <th>valor_produccion</th>\n",
       "      <th>rendimiento</th>\n",
       "      <th>precio_ton</th>\n",
       "    </tr>\n",
       "  </thead>\n",
       "  <tbody>\n",
       "    <tr>\n",
       "      <th>0</th>\n",
       "      <td>2015</td>\n",
       "      <td>01</td>\n",
       "      <td>Aguascalientes</td>\n",
       "      <td>Maíz grano</td>\n",
       "      <td>60309.42</td>\n",
       "      <td>37209.50</td>\n",
       "      <td>2.033386e+08</td>\n",
       "      <td>1.620807</td>\n",
       "      <td>3371.589253</td>\n",
       "    </tr>\n",
       "    <tr>\n",
       "      <th>1</th>\n",
       "      <td>2015</td>\n",
       "      <td>01</td>\n",
       "      <td>Aguascalientes</td>\n",
       "      <td>Naranja</td>\n",
       "      <td>14.00</td>\n",
       "      <td>2.00</td>\n",
       "      <td>3.080000e+04</td>\n",
       "      <td>7.000000</td>\n",
       "      <td>2200.000000</td>\n",
       "    </tr>\n",
       "    <tr>\n",
       "      <th>2</th>\n",
       "      <td>2015</td>\n",
       "      <td>02</td>\n",
       "      <td>Baja California</td>\n",
       "      <td>Algodón hueso</td>\n",
       "      <td>93432.24</td>\n",
       "      <td>18957.00</td>\n",
       "      <td>6.867821e+08</td>\n",
       "      <td>4.928641</td>\n",
       "      <td>7350.590000</td>\n",
       "    </tr>\n",
       "    <tr>\n",
       "      <th>3</th>\n",
       "      <td>2015</td>\n",
       "      <td>02</td>\n",
       "      <td>Baja California</td>\n",
       "      <td>Maíz grano</td>\n",
       "      <td>1779.46</td>\n",
       "      <td>368.00</td>\n",
       "      <td>6.953674e+06</td>\n",
       "      <td>4.835489</td>\n",
       "      <td>3907.743804</td>\n",
       "    </tr>\n",
       "    <tr>\n",
       "      <th>4</th>\n",
       "      <td>2015</td>\n",
       "      <td>02</td>\n",
       "      <td>Baja California</td>\n",
       "      <td>Naranja</td>\n",
       "      <td>3260.35</td>\n",
       "      <td>265.50</td>\n",
       "      <td>1.135101e+07</td>\n",
       "      <td>12.280038</td>\n",
       "      <td>3481.529848</td>\n",
       "    </tr>\n",
       "    <tr>\n",
       "      <th>...</th>\n",
       "      <td>...</td>\n",
       "      <td>...</td>\n",
       "      <td>...</td>\n",
       "      <td>...</td>\n",
       "      <td>...</td>\n",
       "      <td>...</td>\n",
       "      <td>...</td>\n",
       "      <td>...</td>\n",
       "      <td>...</td>\n",
       "    </tr>\n",
       "    <tr>\n",
       "      <th>254</th>\n",
       "      <td>2018</td>\n",
       "      <td>30</td>\n",
       "      <td>Veracruz</td>\n",
       "      <td>Maíz grano</td>\n",
       "      <td>1234572.12</td>\n",
       "      <td>570418.00</td>\n",
       "      <td>5.001170e+09</td>\n",
       "      <td>2.164329</td>\n",
       "      <td>4050.934012</td>\n",
       "    </tr>\n",
       "    <tr>\n",
       "      <th>255</th>\n",
       "      <td>2018</td>\n",
       "      <td>30</td>\n",
       "      <td>Veracruz</td>\n",
       "      <td>Naranja</td>\n",
       "      <td>2508486.48</td>\n",
       "      <td>169531.00</td>\n",
       "      <td>4.706613e+09</td>\n",
       "      <td>14.796624</td>\n",
       "      <td>1876.276161</td>\n",
       "    </tr>\n",
       "    <tr>\n",
       "      <th>256</th>\n",
       "      <td>2018</td>\n",
       "      <td>31</td>\n",
       "      <td>Yucatán</td>\n",
       "      <td>Maíz grano</td>\n",
       "      <td>124858.07</td>\n",
       "      <td>114727.72</td>\n",
       "      <td>5.219437e+08</td>\n",
       "      <td>1.088299</td>\n",
       "      <td>4180.296029</td>\n",
       "    </tr>\n",
       "    <tr>\n",
       "      <th>257</th>\n",
       "      <td>2018</td>\n",
       "      <td>31</td>\n",
       "      <td>Yucatán</td>\n",
       "      <td>Naranja</td>\n",
       "      <td>148344.59</td>\n",
       "      <td>11661.86</td>\n",
       "      <td>3.707564e+08</td>\n",
       "      <td>12.720491</td>\n",
       "      <td>2499.291576</td>\n",
       "    </tr>\n",
       "    <tr>\n",
       "      <th>258</th>\n",
       "      <td>2018</td>\n",
       "      <td>32</td>\n",
       "      <td>Zacatecas</td>\n",
       "      <td>Maíz grano</td>\n",
       "      <td>402221.15</td>\n",
       "      <td>197242.00</td>\n",
       "      <td>1.602153e+09</td>\n",
       "      <td>2.039227</td>\n",
       "      <td>3983.264920</td>\n",
       "    </tr>\n",
       "  </tbody>\n",
       "</table>\n",
       "<p>259 rows × 9 columns</p>\n",
       "</div>"
      ],
      "text/plain": [
       "     anio clave_entidad          entidad        cultivo  produccion_ton  \\\n",
       "0    2015            01   Aguascalientes     Maíz grano        60309.42   \n",
       "1    2015            01   Aguascalientes        Naranja           14.00   \n",
       "2    2015            02  Baja California  Algodón hueso        93432.24   \n",
       "3    2015            02  Baja California     Maíz grano         1779.46   \n",
       "4    2015            02  Baja California        Naranja         3260.35   \n",
       "..    ...           ...              ...            ...             ...   \n",
       "254  2018            30         Veracruz     Maíz grano      1234572.12   \n",
       "255  2018            30         Veracruz        Naranja      2508486.48   \n",
       "256  2018            31          Yucatán     Maíz grano       124858.07   \n",
       "257  2018            31          Yucatán        Naranja       148344.59   \n",
       "258  2018            32        Zacatecas     Maíz grano       402221.15   \n",
       "\n",
       "     superficie_sembrada_ha  valor_produccion  rendimiento   precio_ton  \n",
       "0                  37209.50      2.033386e+08     1.620807  3371.589253  \n",
       "1                      2.00      3.080000e+04     7.000000  2200.000000  \n",
       "2                  18957.00      6.867821e+08     4.928641  7350.590000  \n",
       "3                    368.00      6.953674e+06     4.835489  3907.743804  \n",
       "4                    265.50      1.135101e+07    12.280038  3481.529848  \n",
       "..                      ...               ...          ...          ...  \n",
       "254               570418.00      5.001170e+09     2.164329  4050.934012  \n",
       "255               169531.00      4.706613e+09    14.796624  1876.276161  \n",
       "256               114727.72      5.219437e+08     1.088299  4180.296029  \n",
       "257                11661.86      3.707564e+08    12.720491  2499.291576  \n",
       "258               197242.00      1.602153e+09     2.039227  3983.264920  \n",
       "\n",
       "[259 rows x 9 columns]"
      ]
     },
     "execution_count": 14,
     "metadata": {},
     "output_type": "execute_result"
    }
   ],
   "source": [
    "dataset2['rendimiento'] = dataset2['produccion_ton']/dataset2['superficie_sembrada_ha']\n",
    "dataset2['precio_ton'] = dataset2['valor_produccion']/dataset2['produccion_ton']\n",
    "dataset2"
   ]
  },
  {
   "cell_type": "code",
   "execution_count": 15,
   "metadata": {},
   "outputs": [
    {
     "data": {
      "text/html": [
       "<div>\n",
       "<style scoped>\n",
       "    .dataframe tbody tr th:only-of-type {\n",
       "        vertical-align: middle;\n",
       "    }\n",
       "\n",
       "    .dataframe tbody tr th {\n",
       "        vertical-align: top;\n",
       "    }\n",
       "\n",
       "    .dataframe thead th {\n",
       "        text-align: right;\n",
       "    }\n",
       "</style>\n",
       "<table border=\"1\" class=\"dataframe\">\n",
       "  <thead>\n",
       "    <tr style=\"text-align: right;\">\n",
       "      <th></th>\n",
       "      <th>anio</th>\n",
       "      <th>clave_entidad</th>\n",
       "      <th>entidad</th>\n",
       "      <th>cultivo</th>\n",
       "      <th>produccion_ton</th>\n",
       "      <th>superficie_sembrada_ha</th>\n",
       "      <th>rendimiento</th>\n",
       "      <th>precio_ton</th>\n",
       "    </tr>\n",
       "  </thead>\n",
       "  <tbody>\n",
       "    <tr>\n",
       "      <th>0</th>\n",
       "      <td>2015</td>\n",
       "      <td>01</td>\n",
       "      <td>Aguascalientes</td>\n",
       "      <td>Maíz grano</td>\n",
       "      <td>60309.42</td>\n",
       "      <td>37209.50</td>\n",
       "      <td>1.620807</td>\n",
       "      <td>3371.589253</td>\n",
       "    </tr>\n",
       "    <tr>\n",
       "      <th>1</th>\n",
       "      <td>2015</td>\n",
       "      <td>01</td>\n",
       "      <td>Aguascalientes</td>\n",
       "      <td>Naranja</td>\n",
       "      <td>14.00</td>\n",
       "      <td>2.00</td>\n",
       "      <td>7.000000</td>\n",
       "      <td>2200.000000</td>\n",
       "    </tr>\n",
       "    <tr>\n",
       "      <th>2</th>\n",
       "      <td>2015</td>\n",
       "      <td>02</td>\n",
       "      <td>Baja California</td>\n",
       "      <td>Algodón hueso</td>\n",
       "      <td>93432.24</td>\n",
       "      <td>18957.00</td>\n",
       "      <td>4.928641</td>\n",
       "      <td>7350.590000</td>\n",
       "    </tr>\n",
       "    <tr>\n",
       "      <th>3</th>\n",
       "      <td>2015</td>\n",
       "      <td>02</td>\n",
       "      <td>Baja California</td>\n",
       "      <td>Maíz grano</td>\n",
       "      <td>1779.46</td>\n",
       "      <td>368.00</td>\n",
       "      <td>4.835489</td>\n",
       "      <td>3907.743804</td>\n",
       "    </tr>\n",
       "    <tr>\n",
       "      <th>4</th>\n",
       "      <td>2015</td>\n",
       "      <td>02</td>\n",
       "      <td>Baja California</td>\n",
       "      <td>Naranja</td>\n",
       "      <td>3260.35</td>\n",
       "      <td>265.50</td>\n",
       "      <td>12.280038</td>\n",
       "      <td>3481.529848</td>\n",
       "    </tr>\n",
       "    <tr>\n",
       "      <th>...</th>\n",
       "      <td>...</td>\n",
       "      <td>...</td>\n",
       "      <td>...</td>\n",
       "      <td>...</td>\n",
       "      <td>...</td>\n",
       "      <td>...</td>\n",
       "      <td>...</td>\n",
       "      <td>...</td>\n",
       "    </tr>\n",
       "    <tr>\n",
       "      <th>254</th>\n",
       "      <td>2018</td>\n",
       "      <td>30</td>\n",
       "      <td>Veracruz</td>\n",
       "      <td>Maíz grano</td>\n",
       "      <td>1234572.12</td>\n",
       "      <td>570418.00</td>\n",
       "      <td>2.164329</td>\n",
       "      <td>4050.934012</td>\n",
       "    </tr>\n",
       "    <tr>\n",
       "      <th>255</th>\n",
       "      <td>2018</td>\n",
       "      <td>30</td>\n",
       "      <td>Veracruz</td>\n",
       "      <td>Naranja</td>\n",
       "      <td>2508486.48</td>\n",
       "      <td>169531.00</td>\n",
       "      <td>14.796624</td>\n",
       "      <td>1876.276161</td>\n",
       "    </tr>\n",
       "    <tr>\n",
       "      <th>256</th>\n",
       "      <td>2018</td>\n",
       "      <td>31</td>\n",
       "      <td>Yucatán</td>\n",
       "      <td>Maíz grano</td>\n",
       "      <td>124858.07</td>\n",
       "      <td>114727.72</td>\n",
       "      <td>1.088299</td>\n",
       "      <td>4180.296029</td>\n",
       "    </tr>\n",
       "    <tr>\n",
       "      <th>257</th>\n",
       "      <td>2018</td>\n",
       "      <td>31</td>\n",
       "      <td>Yucatán</td>\n",
       "      <td>Naranja</td>\n",
       "      <td>148344.59</td>\n",
       "      <td>11661.86</td>\n",
       "      <td>12.720491</td>\n",
       "      <td>2499.291576</td>\n",
       "    </tr>\n",
       "    <tr>\n",
       "      <th>258</th>\n",
       "      <td>2018</td>\n",
       "      <td>32</td>\n",
       "      <td>Zacatecas</td>\n",
       "      <td>Maíz grano</td>\n",
       "      <td>402221.15</td>\n",
       "      <td>197242.00</td>\n",
       "      <td>2.039227</td>\n",
       "      <td>3983.264920</td>\n",
       "    </tr>\n",
       "  </tbody>\n",
       "</table>\n",
       "<p>259 rows × 8 columns</p>\n",
       "</div>"
      ],
      "text/plain": [
       "     anio clave_entidad          entidad        cultivo  produccion_ton  \\\n",
       "0    2015            01   Aguascalientes     Maíz grano        60309.42   \n",
       "1    2015            01   Aguascalientes        Naranja           14.00   \n",
       "2    2015            02  Baja California  Algodón hueso        93432.24   \n",
       "3    2015            02  Baja California     Maíz grano         1779.46   \n",
       "4    2015            02  Baja California        Naranja         3260.35   \n",
       "..    ...           ...              ...            ...             ...   \n",
       "254  2018            30         Veracruz     Maíz grano      1234572.12   \n",
       "255  2018            30         Veracruz        Naranja      2508486.48   \n",
       "256  2018            31          Yucatán     Maíz grano       124858.07   \n",
       "257  2018            31          Yucatán        Naranja       148344.59   \n",
       "258  2018            32        Zacatecas     Maíz grano       402221.15   \n",
       "\n",
       "     superficie_sembrada_ha  rendimiento   precio_ton  \n",
       "0                  37209.50     1.620807  3371.589253  \n",
       "1                      2.00     7.000000  2200.000000  \n",
       "2                  18957.00     4.928641  7350.590000  \n",
       "3                    368.00     4.835489  3907.743804  \n",
       "4                    265.50    12.280038  3481.529848  \n",
       "..                      ...          ...          ...  \n",
       "254               570418.00     2.164329  4050.934012  \n",
       "255               169531.00    14.796624  1876.276161  \n",
       "256               114727.72     1.088299  4180.296029  \n",
       "257                11661.86    12.720491  2499.291576  \n",
       "258               197242.00     2.039227  3983.264920  \n",
       "\n",
       "[259 rows x 8 columns]"
      ]
     },
     "execution_count": 15,
     "metadata": {},
     "output_type": "execute_result"
    }
   ],
   "source": [
    "dataset = dataset2[['anio', 'clave_entidad', 'entidad', 'cultivo', 'produccion_ton', 'superficie_sembrada_ha', 'rendimiento',\n",
    "                    'precio_ton']]\n",
    "dataset"
   ]
  },
  {
   "cell_type": "code",
   "execution_count": null,
   "metadata": {},
   "outputs": [],
   "source": []
  },
  {
   "cell_type": "code",
   "execution_count": null,
   "metadata": {},
   "outputs": [],
   "source": []
  },
  {
   "cell_type": "code",
   "execution_count": 16,
   "metadata": {},
   "outputs": [
    {
     "data": {
      "text/plain": [
       "<matplotlib.axes._subplots.AxesSubplot at 0x29b06fba400>"
      ]
     },
     "execution_count": 16,
     "metadata": {},
     "output_type": "execute_result"
    },
    {
     "data": {
      "image/png": "[encoded data removed]",
      "text/plain": [
       "<Figure size 432x288 with 1 Axes>"
      ]
     },
     "metadata": {
      "needs_background": "light"
     },
     "output_type": "display_data"
    }
   ],
   "source": [
    "produccion_maiz1 = (dataset[dataset.cultivo == 'Maíz grano']).groupby(['anio']).sum().plot(kind = 'line', y = ['produccion_ton'])\n",
    "produccion_maiz1"
   ]
  },
  {
   "cell_type": "code",
   "execution_count": 29,
   "metadata": {},
   "outputs": [
    {
     "data": {
      "text/plain": [
       "<matplotlib.axes._subplots.AxesSubplot at 0x29b0813fef0>"
      ]
     },
     "execution_count": 29,
     "metadata": {},
     "output_type": "execute_result"
    },
    {
     "data": {
      "image/png": "[encoded data removed]",
      "text/plain": [
       "<Figure size 432x288 with 1 Axes>"
      ]
     },
     "metadata": {
      "needs_background": "light"
     },
     "output_type": "display_data"
    }
   ],
   "source": [
    "produccion_maiz2 = (dataset[dataset.cultivo == 'Maíz grano']).groupby(['anio']).sum().plot(kind = 'bar', y = ['produccion_ton'], )\n",
    "produccion_maiz2"
   ]
  },
  {
   "cell_type": "code",
   "execution_count": 17,
   "metadata": {},
   "outputs": [
    {
     "data": {
      "text/plain": [
       "<matplotlib.legend.Legend at 0x29b06fa4668>"
      ]
     },
     "execution_count": 17,
     "metadata": {},
     "output_type": "execute_result"
    },
    {
     "data": {
      "image/png": "[encoded data removed]",
      "text/plain": [
       "<Figure size 720x720 with 1 Axes>"
      ]
     },
     "metadata": {
      "needs_background": "light"
     },
     "output_type": "display_data"
    }
   ],
   "source": [
    "pdn_maiz_2018 = (dataset.loc[(dataset.cultivo == 'Maíz grano') | (dataset.anio == '2018')]).groupby(['entidad']).sum().sort_values('produccion_ton', ascending=True).plot(kind = 'barh', y = ['produccion_ton'], figsize=(10,10)).legend(loc=1, ncol=1, bbox_to_anchor=(1.3, 1.01))\n",
    "pdn_maiz_2018"
   ]
  },
  {
   "cell_type": "code",
   "execution_count": 18,
   "metadata": {},
   "outputs": [
    {
     "data": {
      "text/plain": [
       "<matplotlib.axes._subplots.AxesSubplot at 0x29b06f5f2e8>"
      ]
     },
     "execution_count": 18,
     "metadata": {},
     "output_type": "execute_result"
    },
    {
     "data": {
      "image/png": "[encoded data removed]",
      "text/plain": [
       "<Figure size 432x288 with 1 Axes>"
      ]
     },
     "metadata": {
      "needs_background": "light"
     },
     "output_type": "display_data"
    }
   ],
   "source": [
    "rendimiento_maiz = (dataset[dataset.cultivo == 'Maíz grano']).groupby(['anio']).mean().plot(kind = 'line', y = ['rendimiento'])\n",
    "rendimiento_maiz"
   ]
  },
  {
   "cell_type": "code",
   "execution_count": 19,
   "metadata": {},
   "outputs": [
    {
     "data": {
      "text/plain": [
       "<matplotlib.axes._subplots.AxesSubplot at 0x29b06f177f0>"
      ]
     },
     "execution_count": 19,
     "metadata": {},
     "output_type": "execute_result"
    },
    {
     "data": {
      "image/png": "[encoded data removed]",
      "text/plain": [
       "<Figure size 432x288 with 1 Axes>"
      ]
     },
     "metadata": {
      "needs_background": "light"
     },
     "output_type": "display_data"
    }
   ],
   "source": [
    "produccion_algodon = (dataset[dataset.cultivo == 'Algodón hueso']).groupby(['anio']).sum().plot(kind = 'line', y = ['produccion_ton'])\n",
    "produccion_algodon"
   ]
  },
  {
   "cell_type": "code",
   "execution_count": 27,
   "metadata": {},
   "outputs": [
    {
     "data": {
      "text/plain": [
       "<matplotlib.legend.Legend at 0x29b08110978>"
      ]
     },
     "execution_count": 27,
     "metadata": {},
     "output_type": "execute_result"
    },
    {
     "data": {
      "image/png": "[encoded data removed]",
      "text/plain": [
       "<Figure size 720x720 with 1 Axes>"
      ]
     },
     "metadata": {
      "needs_background": "light"
     },
     "output_type": "display_data"
    }
   ],
   "source": [
    "pdn_algodon_2018 = (dataset.loc[(dataset.cultivo == 'Algodón hueso') | (dataset.anio == '2018')]).groupby(['entidad']).sum().sort_values('produccion_ton', ascending=True).plot(kind = 'barh', y = ['produccion_ton'], figsize=(10,10)).legend(loc=1, ncol=1, bbox_to_anchor=(1.3, 1.01))\n",
    "pdn_algodon_2018"
   ]
  },
  {
   "cell_type": "code",
   "execution_count": 21,
   "metadata": {},
   "outputs": [
    {
     "data": {
      "text/plain": [
       "<matplotlib.axes._subplots.AxesSubplot at 0x29b070845c0>"
      ]
     },
     "execution_count": 21,
     "metadata": {},
     "output_type": "execute_result"
    },
    {
     "data": {
      "image/png": "[encoded data removed]",
      "text/plain": [
       "<Figure size 432x288 with 1 Axes>"
      ]
     },
     "metadata": {
      "needs_background": "light"
     },
     "output_type": "display_data"
    }
   ],
   "source": [
    "rendimiento_algodon = (dataset[dataset.cultivo == 'Algodón hueso']).groupby(['anio']).mean().plot(kind = 'line', y = ['rendimiento'])\n",
    "rendimiento_algodon"
   ]
  },
  {
   "cell_type": "code",
   "execution_count": 22,
   "metadata": {},
   "outputs": [
    {
     "data": {
      "text/plain": [
       "<matplotlib.axes._subplots.AxesSubplot at 0x29b073ff240>"
      ]
     },
     "execution_count": 22,
     "metadata": {},
     "output_type": "execute_result"
    },
    {
     "data": {
      "image/png": "[encoded data removed]",
      "text/plain": [
       "<Figure size 432x288 with 1 Axes>"
      ]
     },
     "metadata": {
      "needs_background": "light"
     },
     "output_type": "display_data"
    }
   ],
   "source": [
    "produccion_naranja = (dataset[dataset.cultivo == 'Naranja']).groupby(['anio']).sum().plot(kind = 'line', y = ['produccion_ton'])\n",
    "produccion_naranja"
   ]
  },
  {
   "cell_type": "code",
   "execution_count": 23,
   "metadata": {},
   "outputs": [
    {
     "data": {
      "text/plain": [
       "<matplotlib.legend.Legend at 0x29b0749d198>"
      ]
     },
     "execution_count": 23,
     "metadata": {},
     "output_type": "execute_result"
    },
    {
     "data": {
      "image/png": "[encoded data removed]",
      "text/plain": [
       "<Figure size 720x720 with 1 Axes>"
      ]
     },
     "metadata": {
      "needs_background": "light"
     },
     "output_type": "display_data"
    }
   ],
   "source": [
    "pdn_naranja_2018 = (dataset.loc[(dataset.cultivo == 'Naranja') | (dataset.anio == '2018')]).groupby(['entidad']).sum().sort_values('produccion_ton', ascending=True).plot(kind = 'barh', y = ['produccion_ton'], figsize=(10,10)).legend(loc=1, ncol=1, bbox_to_anchor=(1.3, 1.01))\n",
    "pdn_naranja_2018"
   ]
  },
  {
   "cell_type": "code",
   "execution_count": 24,
   "metadata": {},
   "outputs": [
    {
     "data": {
      "text/plain": [
       "<matplotlib.axes._subplots.AxesSubplot at 0x29b07582240>"
      ]
     },
     "execution_count": 24,
     "metadata": {},
     "output_type": "execute_result"
    },
    {
     "data": {
      "image/png": "[encoded data removed]",
      "text/plain": [
       "<Figure size 432x288 with 1 Axes>"
      ]
     },
     "metadata": {
      "needs_background": "light"
     },
     "output_type": "display_data"
    }
   ],
   "source": [
    "rendimiento_naranja = (dataset[dataset.cultivo == 'Naranja']).groupby(['anio']).mean().plot(kind = 'line', y = ['rendimiento'])\n",
    "rendimiento_naranja"
   ]
  },
  {
   "cell_type": "code",
   "execution_count": 25,
   "metadata": {},
   "outputs": [
    {
     "data": {
      "text/plain": [
       "<matplotlib.axes._subplots.AxesSubplot at 0x29b075cc6d8>"
      ]
     },
     "execution_count": 25,
     "metadata": {},
     "output_type": "execute_result"
    },
    {
     "data": {
      "image/png": "[encoded data removed]",
      "text/plain": [
       "<Figure size 432x288 with 1 Axes>"
      ]
     },
     "metadata": {
      "needs_background": "light"
     },
     "output_type": "display_data"
    }
   ],
   "source": [
    "rendimiento = dataset[dataset.anio == '2018']\n",
    "sns.boxplot(x='cultivo', y='rendimiento', data=rendimiento)"
   ]
  },
  {
   "cell_type": "code",
   "execution_count": 26,
   "metadata": {},
   "outputs": [
    {
     "data": {
      "text/plain": [
       "<matplotlib.axes._subplots.AxesSubplot at 0x29b0807f0f0>"
      ]
     },
     "execution_count": 26,
     "metadata": {},
     "output_type": "execute_result"
    },
    {
     "data": {
      "image/png": "[encoded data removed]",
      "text/plain": [
       "<Figure size 432x288 with 1 Axes>"
      ]
     },
     "metadata": {
      "needs_background": "light"
     },
     "output_type": "display_data"
    }
   ],
   "source": [
    "precio_ton = dataset[dataset.anio == '2018']\n",
    "sns.boxplot(x='cultivo', y='precio_ton', data=precio_ton)"
   ]
  },
  {
   "cell_type": "code",
   "execution_count": null,
   "metadata": {},
   "outputs": [],
   "source": []
  },
  {
   "cell_type": "code",
   "execution_count": null,
   "metadata": {},
   "outputs": [],
   "source": [
    "sns.set(rc={'figure.figsize':(10,10)})\n",
    "bars = sns.barplot(x='entidad', y='produccion_ton', data=data.loc[(data.cultivo == 'Maíz grano') | (data.anio == '2018'))]\n",
    "bars.set_xticklabels(bars.get_xticklabels(), rotation= 45, horizontalalignment='right')"
   ]
  },
  {
   "cell_type": "code",
   "execution_count": null,
   "metadata": {},
   "outputs": [],
   "source": [
    "sns.distplot(data.produccion_ton, norm_hist=False, kde=True)"
   ]
  }
 ],
 "metadata": {
  "kernelspec": {
   "display_name": "Python 3",
   "language": "python",
   "name": "python3"
  },
  "language_info": {
   "codemirror_mode": {
    "name": "ipython",
    "version": 3
   },
   "file_extension": ".py",
   "mimetype": "text/x-python",
   "name": "python",
   "nbconvert_exporter": "python",
   "pygments_lexer": "ipython3",
   "version": "3.7.3"
  }
 },
 "nbformat": 4,
 "nbformat_minor": 2
}
