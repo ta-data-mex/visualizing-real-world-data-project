{
 "cells": [
  {
   "cell_type": "code",
   "execution_count": 29,
   "id": "10ca8ff5",
   "metadata": {},
   "outputs": [],
   "source": [
    "import numpy as np\n",
    "import pandas as pd\n",
    "\n",
    "import matplotlib.pyplot as plt \n",
    "import seaborn as sns"
   ]
  },
  {
   "cell_type": "code",
   "execution_count": 30,
   "id": "799cf703",
   "metadata": {},
   "outputs": [],
   "source": [
    "df = pd.read_csv('Accidentes de Tránsito Terrestre en Zonas Urbanas y Suburbanas.csv')"
   ]
  },
  {
   "cell_type": "code",
   "execution_count": 31,
   "id": "271cb4e7",
   "metadata": {
    "scrolled": true
   },
   "outputs": [
    {
     "name": "stdout",
     "output_type": "stream",
     "text": [
      "<class 'pandas.core.frame.DataFrame'>\n",
      "RangeIndex: 301678 entries, 0 to 301677\n",
      "Data columns (total 37 columns):\n",
      " #   Column        Non-Null Count   Dtype \n",
      "---  ------        --------------   ----- \n",
      " 0   COBERTURA     301678 non-null  object\n",
      " 1   ID_ENTIDAD    301678 non-null  object\n",
      " 2   ID_MUNICIPIO  301678 non-null  object\n",
      " 3   ANIO          301678 non-null  int64 \n",
      " 4   MES           301678 non-null  int64 \n",
      " 5   TIPACCID      301678 non-null  object\n",
      " 6   AUTOMOVIL     301678 non-null  int64 \n",
      " 7   CAMPASAJ      301678 non-null  int64 \n",
      " 8   MICROBUS      301678 non-null  int64 \n",
      " 9   PASCAMION     301678 non-null  int64 \n",
      " 10  OMNIBUS       301678 non-null  int64 \n",
      " 11  TRANVIA       301678 non-null  int64 \n",
      " 12  CAMIONETA     301678 non-null  int64 \n",
      " 13  CAMION        301678 non-null  int64 \n",
      " 14  TRACTOR       301678 non-null  int64 \n",
      " 15  FERROCARRI    301678 non-null  int64 \n",
      " 16  MOTOCICLET    301678 non-null  int64 \n",
      " 17  BICICLETA     301678 non-null  int64 \n",
      " 18  OTROVEHIC     301678 non-null  int64 \n",
      " 19  CAUSAACCI     301678 non-null  object\n",
      " 20  GENERO        301678 non-null  object\n",
      " 21  ALIENTO       301678 non-null  object\n",
      " 22  ID_EDAD       301678 non-null  int64 \n",
      " 23  CONDMUERTO    301678 non-null  int64 \n",
      " 24  CONDHERIDO    301678 non-null  int64 \n",
      " 25  PASAMUERTO    301678 non-null  int64 \n",
      " 26  PASAHERIDO    301678 non-null  int64 \n",
      " 27  PEATMUERTO    301678 non-null  int64 \n",
      " 28  PEATHERIDO    301678 non-null  int64 \n",
      " 29  CICLMUERTO    301678 non-null  int64 \n",
      " 30  CICLHERIDO    301678 non-null  int64 \n",
      " 31  OTROMUERTO    301678 non-null  int64 \n",
      " 32  OTROHERIDO    301678 non-null  int64 \n",
      " 33  NEMUERTO      301678 non-null  int64 \n",
      " 34  NEHERIDO      301678 non-null  int64 \n",
      " 35  CLASACC       301678 non-null  object\n",
      " 36  ESTATUS       301678 non-null  object\n",
      "dtypes: int64(28), object(9)\n",
      "memory usage: 85.2+ MB\n"
     ]
    }
   ],
   "source": [
    "df.info()"
   ]
  },
  {
   "cell_type": "code",
   "execution_count": 35,
   "id": "d113895e",
   "metadata": {},
   "outputs": [
    {
     "data": {
      "image/png": "[encoded data removed]",
      "text/plain": [
       "<Figure size 432x288 with 1 Axes>"
      ]
     },
     "metadata": {},
     "output_type": "display_data"
    }
   ],
   "source": [
    "serie = df.GENERO.value_counts()\n",
    "serie.plot.pie(autopct='%1.1f%%');"
   ]
  },
  {
   "cell_type": "code",
   "execution_count": 11,
   "id": "deb2877b",
   "metadata": {
    "scrolled": true
   },
   "outputs": [
    {
     "ename": "SyntaxError",
     "evalue": "invalid syntax (<ipython-input-11-278289d103c1>, line 1)",
     "output_type": "error",
     "traceback": [
      "\u001b[1;36m  File \u001b[1;32m\"<ipython-input-11-278289d103c1>\"\u001b[1;36m, line \u001b[1;32m1\u001b[0m\n\u001b[1;33m    df.iplot(kind='pie',labels=,values=)\u001b[0m\n\u001b[1;37m                               ^\u001b[0m\n\u001b[1;31mSyntaxError\u001b[0m\u001b[1;31m:\u001b[0m invalid syntax\n"
     ]
    }
   ],
   "source": [
    "df.iplot(kind='pie',labels=,values=)"
   ]
  },
  {
   "cell_type": "code",
   "execution_count": null,
   "id": "80cd74f2",
   "metadata": {},
   "outputs": [],
   "source": []
  }
 ],
 "metadata": {
  "kernelspec": {
   "display_name": "Python 3",
   "language": "python",
   "name": "python3"
  },
  "language_info": {
   "codemirror_mode": {
    "name": "ipython",
    "version": 3
   },
   "file_extension": ".py",
   "mimetype": "text/x-python",
   "name": "python",
   "nbconvert_exporter": "python",
   "pygments_lexer": "ipython3",
   "version": "3.8.8"
  }
 },
 "nbformat": 4,
 "nbformat_minor": 5
}
