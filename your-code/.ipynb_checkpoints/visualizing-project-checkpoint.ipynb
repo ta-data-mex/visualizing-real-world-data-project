{
 "cells": [
  {
   "cell_type": "code",
   "execution_count": 134,
   "metadata": {},
   "outputs": [],
   "source": [
    "import knoema\n",
    "import plotly as py\n",
    "import pandas as pd\n",
    "import numpy as np\n",
    "import cufflinks as cf\n",
    "import matplotlib.pyplot as plt\n",
    "import seaborn as sns"
   ]
  },
  {
   "cell_type": "markdown",
   "metadata": {},
   "source": [
    "1. First, I used the knoema API to get information about different brands in the technology area. The information I retrieved is The company Name, Date, the Industry and the most important indicator that is the Brand Value"
   ]
  },
  {
   "cell_type": "code",
   "execution_count": 135,
   "metadata": {},
   "outputs": [
    {
     "data": {
      "text/html": [
       "<div>\n",
       "<style scoped>\n",
       "    .dataframe tbody tr th:only-of-type {\n",
       "        vertical-align: middle;\n",
       "    }\n",
       "\n",
       "    .dataframe tbody tr th {\n",
       "        vertical-align: top;\n",
       "    }\n",
       "\n",
       "    .dataframe thead tr th {\n",
       "        text-align: left;\n",
       "    }\n",
       "</style>\n",
       "<table border=\"1\" class=\"dataframe\">\n",
       "  <thead>\n",
       "    <tr>\n",
       "      <th>Industry</th>\n",
       "      <th colspan=\"21\" halign=\"left\">Technology</th>\n",
       "    </tr>\n",
       "    <tr>\n",
       "      <th>Brand</th>\n",
       "      <th>Oracle</th>\n",
       "      <th>Amazon</th>\n",
       "      <th>Ebay</th>\n",
       "      <th>Cisco</th>\n",
       "      <th>Intel</th>\n",
       "      <th>Sony</th>\n",
       "      <th>Facebook</th>\n",
       "      <th>Microsoft</th>\n",
       "      <th>Google</th>\n",
       "      <th>Apple</th>\n",
       "      <th>...</th>\n",
       "      <th>Samsung</th>\n",
       "      <th>IBM</th>\n",
       "      <th>SAP</th>\n",
       "      <th>Panasonic</th>\n",
       "      <th>Adobe</th>\n",
       "      <th>HP</th>\n",
       "      <th>Huawei</th>\n",
       "      <th>Netflix</th>\n",
       "      <th>Dell</th>\n",
       "      <th>PayPal</th>\n",
       "    </tr>\n",
       "    <tr>\n",
       "      <th>Indicator</th>\n",
       "      <th>Brand Value ($bil)</th>\n",
       "      <th>Brand Value ($bil)</th>\n",
       "      <th>Brand Value ($bil)</th>\n",
       "      <th>Brand Value ($bil)</th>\n",
       "      <th>Brand Value ($bil)</th>\n",
       "      <th>Brand Value ($bil)</th>\n",
       "      <th>Brand Value ($bil)</th>\n",
       "      <th>Brand Value ($bil)</th>\n",
       "      <th>Brand Value ($bil)</th>\n",
       "      <th>Brand Value ($bil)</th>\n",
       "      <th>...</th>\n",
       "      <th>Brand Value ($bil)</th>\n",
       "      <th>Brand Value ($bil)</th>\n",
       "      <th>Brand Value ($bil)</th>\n",
       "      <th>Brand Value ($bil)</th>\n",
       "      <th>Brand Value ($bil)</th>\n",
       "      <th>Brand Value ($bil)</th>\n",
       "      <th>Brand Value ($bil)</th>\n",
       "      <th>Brand Value ($bil)</th>\n",
       "      <th>Brand Value ($bil)</th>\n",
       "      <th>Brand Value ($bil)</th>\n",
       "    </tr>\n",
       "    <tr>\n",
       "      <th>Frequency</th>\n",
       "      <th>A</th>\n",
       "      <th>A</th>\n",
       "      <th>A</th>\n",
       "      <th>A</th>\n",
       "      <th>A</th>\n",
       "      <th>A</th>\n",
       "      <th>A</th>\n",
       "      <th>A</th>\n",
       "      <th>A</th>\n",
       "      <th>A</th>\n",
       "      <th>...</th>\n",
       "      <th>A</th>\n",
       "      <th>A</th>\n",
       "      <th>A</th>\n",
       "      <th>A</th>\n",
       "      <th>A</th>\n",
       "      <th>A</th>\n",
       "      <th>A</th>\n",
       "      <th>A</th>\n",
       "      <th>A</th>\n",
       "      <th>A</th>\n",
       "    </tr>\n",
       "  </thead>\n",
       "  <tbody>\n",
       "    <tr>\n",
       "      <th>2015-01-01</th>\n",
       "      <td>26.8</td>\n",
       "      <td>28.1</td>\n",
       "      <td>11.0</td>\n",
       "      <td>27.6</td>\n",
       "      <td>25.8</td>\n",
       "      <td>6.9</td>\n",
       "      <td>36.5</td>\n",
       "      <td>69.3</td>\n",
       "      <td>65.6</td>\n",
       "      <td>145.3</td>\n",
       "      <td>...</td>\n",
       "      <td>37.9</td>\n",
       "      <td>49.8</td>\n",
       "      <td>19.6</td>\n",
       "      <td>NaN</td>\n",
       "      <td>NaN</td>\n",
       "      <td>NaN</td>\n",
       "      <td>NaN</td>\n",
       "      <td>NaN</td>\n",
       "      <td>NaN</td>\n",
       "      <td>NaN</td>\n",
       "    </tr>\n",
       "    <tr>\n",
       "      <th>2016-01-01</th>\n",
       "      <td>28.0</td>\n",
       "      <td>35.2</td>\n",
       "      <td>11.2</td>\n",
       "      <td>28.4</td>\n",
       "      <td>27.7</td>\n",
       "      <td>7.6</td>\n",
       "      <td>52.6</td>\n",
       "      <td>75.2</td>\n",
       "      <td>82.5</td>\n",
       "      <td>154.1</td>\n",
       "      <td>...</td>\n",
       "      <td>36.1</td>\n",
       "      <td>41.4</td>\n",
       "      <td>21.6</td>\n",
       "      <td>NaN</td>\n",
       "      <td>NaN</td>\n",
       "      <td>NaN</td>\n",
       "      <td>NaN</td>\n",
       "      <td>NaN</td>\n",
       "      <td>NaN</td>\n",
       "      <td>NaN</td>\n",
       "    </tr>\n",
       "    <tr>\n",
       "      <th>2017-01-01</th>\n",
       "      <td>29.2</td>\n",
       "      <td>54.1</td>\n",
       "      <td>10.9</td>\n",
       "      <td>30.7</td>\n",
       "      <td>31.4</td>\n",
       "      <td>8.3</td>\n",
       "      <td>73.5</td>\n",
       "      <td>87.0</td>\n",
       "      <td>101.8</td>\n",
       "      <td>170.0</td>\n",
       "      <td>...</td>\n",
       "      <td>38.2</td>\n",
       "      <td>33.3</td>\n",
       "      <td>23.8</td>\n",
       "      <td>6.9</td>\n",
       "      <td>7.4</td>\n",
       "      <td>13.2</td>\n",
       "      <td>7.3</td>\n",
       "      <td>8.5</td>\n",
       "      <td>NaN</td>\n",
       "      <td>NaN</td>\n",
       "    </tr>\n",
       "    <tr>\n",
       "      <th>2018-01-01</th>\n",
       "      <td>30.8</td>\n",
       "      <td>70.9</td>\n",
       "      <td>10.3</td>\n",
       "      <td>32.4</td>\n",
       "      <td>34.1</td>\n",
       "      <td>10.2</td>\n",
       "      <td>94.8</td>\n",
       "      <td>104.9</td>\n",
       "      <td>132.1</td>\n",
       "      <td>182.8</td>\n",
       "      <td>...</td>\n",
       "      <td>47.6</td>\n",
       "      <td>32.1</td>\n",
       "      <td>26.2</td>\n",
       "      <td>7.8</td>\n",
       "      <td>8.3</td>\n",
       "      <td>12.4</td>\n",
       "      <td>8.4</td>\n",
       "      <td>11.5</td>\n",
       "      <td>7.5</td>\n",
       "      <td>7.5</td>\n",
       "    </tr>\n",
       "    <tr>\n",
       "      <th>2019-01-01</th>\n",
       "      <td>32.2</td>\n",
       "      <td>97.0</td>\n",
       "      <td>10.5</td>\n",
       "      <td>34.5</td>\n",
       "      <td>38.8</td>\n",
       "      <td>11.3</td>\n",
       "      <td>88.9</td>\n",
       "      <td>125.3</td>\n",
       "      <td>167.7</td>\n",
       "      <td>205.5</td>\n",
       "      <td>...</td>\n",
       "      <td>53.1</td>\n",
       "      <td>31.5</td>\n",
       "      <td>28.7</td>\n",
       "      <td>NaN</td>\n",
       "      <td>10.5</td>\n",
       "      <td>12.5</td>\n",
       "      <td>8.0</td>\n",
       "      <td>15.5</td>\n",
       "      <td>8.2</td>\n",
       "      <td>9.1</td>\n",
       "    </tr>\n",
       "  </tbody>\n",
       "</table>\n",
       "<p>5 rows × 22 columns</p>\n",
       "</div>"
      ],
      "text/plain": [
       "Industry           Technology                                        \\\n",
       "Brand                  Oracle             Amazon               Ebay   \n",
       "Indicator  Brand Value ($bil) Brand Value ($bil) Brand Value ($bil)   \n",
       "Frequency                   A                  A                  A   \n",
       "2015-01-01               26.8               28.1               11.0   \n",
       "2016-01-01               28.0               35.2               11.2   \n",
       "2017-01-01               29.2               54.1               10.9   \n",
       "2018-01-01               30.8               70.9               10.3   \n",
       "2019-01-01               32.2               97.0               10.5   \n",
       "\n",
       "Industry                                                             \\\n",
       "Brand                   Cisco              Intel               Sony   \n",
       "Indicator  Brand Value ($bil) Brand Value ($bil) Brand Value ($bil)   \n",
       "Frequency                   A                  A                  A   \n",
       "2015-01-01               27.6               25.8                6.9   \n",
       "2016-01-01               28.4               27.7                7.6   \n",
       "2017-01-01               30.7               31.4                8.3   \n",
       "2018-01-01               32.4               34.1               10.2   \n",
       "2019-01-01               34.5               38.8               11.3   \n",
       "\n",
       "Industry                                                             \\\n",
       "Brand                Facebook          Microsoft             Google   \n",
       "Indicator  Brand Value ($bil) Brand Value ($bil) Brand Value ($bil)   \n",
       "Frequency                   A                  A                  A   \n",
       "2015-01-01               36.5               69.3               65.6   \n",
       "2016-01-01               52.6               75.2               82.5   \n",
       "2017-01-01               73.5               87.0              101.8   \n",
       "2018-01-01               94.8              104.9              132.1   \n",
       "2019-01-01               88.9              125.3              167.7   \n",
       "\n",
       "Industry                       ...                                        \\\n",
       "Brand                   Apple  ...            Samsung                IBM   \n",
       "Indicator  Brand Value ($bil)  ... Brand Value ($bil) Brand Value ($bil)   \n",
       "Frequency                   A  ...                  A                  A   \n",
       "2015-01-01              145.3  ...               37.9               49.8   \n",
       "2016-01-01              154.1  ...               36.1               41.4   \n",
       "2017-01-01              170.0  ...               38.2               33.3   \n",
       "2018-01-01              182.8  ...               47.6               32.1   \n",
       "2019-01-01              205.5  ...               53.1               31.5   \n",
       "\n",
       "Industry                                                             \\\n",
       "Brand                     SAP          Panasonic              Adobe   \n",
       "Indicator  Brand Value ($bil) Brand Value ($bil) Brand Value ($bil)   \n",
       "Frequency                   A                  A                  A   \n",
       "2015-01-01               19.6                NaN                NaN   \n",
       "2016-01-01               21.6                NaN                NaN   \n",
       "2017-01-01               23.8                6.9                7.4   \n",
       "2018-01-01               26.2                7.8                8.3   \n",
       "2019-01-01               28.7                NaN               10.5   \n",
       "\n",
       "Industry                                                             \\\n",
       "Brand                      HP             Huawei            Netflix   \n",
       "Indicator  Brand Value ($bil) Brand Value ($bil) Brand Value ($bil)   \n",
       "Frequency                   A                  A                  A   \n",
       "2015-01-01                NaN                NaN                NaN   \n",
       "2016-01-01                NaN                NaN                NaN   \n",
       "2017-01-01               13.2                7.3                8.5   \n",
       "2018-01-01               12.4                8.4               11.5   \n",
       "2019-01-01               12.5                8.0               15.5   \n",
       "\n",
       "Industry                                          \n",
       "Brand                    Dell             PayPal  \n",
       "Indicator  Brand Value ($bil) Brand Value ($bil)  \n",
       "Frequency                   A                  A  \n",
       "2015-01-01                NaN                NaN  \n",
       "2016-01-01                NaN                NaN  \n",
       "2017-01-01                NaN                NaN  \n",
       "2018-01-01                7.5                7.5  \n",
       "2019-01-01                8.2                9.1  \n",
       "\n",
       "[5 rows x 22 columns]"
      ]
     },
     "execution_count": 135,
     "metadata": {},
     "output_type": "execute_result"
    }
   ],
   "source": [
    "forbes_df = knoema.get('ynmtjnc',\n",
    "           timerange='2015-2019',\n",
    "           frequency='A',\n",
    "           Brand='KN.AN1;KN.A28;KN.A1;KN.A35;KN.A10;KN.A317;KN.A74;KN.A73;KN.A5;KN.A15;KN.AN3;KN.AN2;KN.A4;KN.A6;KN.A2;KN.AN5;KN.A11;KN.A119;KN.A316;KN.A12;KN.A31;KN.A38',\n",
    "           Industry='KN.B1',\n",
    "           Indicator='KN.C1')\n",
    "\n",
    "forbes_df.head()"
   ]
  },
  {
   "cell_type": "code",
   "execution_count": 136,
   "metadata": {},
   "outputs": [],
   "source": [
    "#Changing the name of the columns to have only the brand name and not a Pivot Table\n",
    "columnas = forbes_df.columns\n",
    "columnas= [c[1] for c in columnas]"
   ]
  },
  {
   "cell_type": "code",
   "execution_count": 137,
   "metadata": {},
   "outputs": [
    {
     "data": {
      "text/html": [
       "<div>\n",
       "<style scoped>\n",
       "    .dataframe tbody tr th:only-of-type {\n",
       "        vertical-align: middle;\n",
       "    }\n",
       "\n",
       "    .dataframe tbody tr th {\n",
       "        vertical-align: top;\n",
       "    }\n",
       "\n",
       "    .dataframe thead th {\n",
       "        text-align: right;\n",
       "    }\n",
       "</style>\n",
       "<table border=\"1\" class=\"dataframe\">\n",
       "  <thead>\n",
       "    <tr style=\"text-align: right;\">\n",
       "      <th></th>\n",
       "      <th>Oracle</th>\n",
       "      <th>Amazon</th>\n",
       "      <th>Ebay</th>\n",
       "      <th>Cisco</th>\n",
       "      <th>Intel</th>\n",
       "      <th>Sony</th>\n",
       "      <th>Facebook</th>\n",
       "      <th>Microsoft</th>\n",
       "      <th>Google</th>\n",
       "      <th>Apple</th>\n",
       "      <th>...</th>\n",
       "      <th>Samsung</th>\n",
       "      <th>IBM</th>\n",
       "      <th>SAP</th>\n",
       "      <th>Panasonic</th>\n",
       "      <th>Adobe</th>\n",
       "      <th>HP</th>\n",
       "      <th>Huawei</th>\n",
       "      <th>Netflix</th>\n",
       "      <th>Dell</th>\n",
       "      <th>PayPal</th>\n",
       "    </tr>\n",
       "  </thead>\n",
       "  <tbody>\n",
       "    <tr>\n",
       "      <th>2015-01-01</th>\n",
       "      <td>26.8</td>\n",
       "      <td>28.1</td>\n",
       "      <td>11.0</td>\n",
       "      <td>27.6</td>\n",
       "      <td>25.8</td>\n",
       "      <td>6.9</td>\n",
       "      <td>36.5</td>\n",
       "      <td>69.3</td>\n",
       "      <td>65.6</td>\n",
       "      <td>145.3</td>\n",
       "      <td>...</td>\n",
       "      <td>37.9</td>\n",
       "      <td>49.8</td>\n",
       "      <td>19.6</td>\n",
       "      <td>NaN</td>\n",
       "      <td>NaN</td>\n",
       "      <td>NaN</td>\n",
       "      <td>NaN</td>\n",
       "      <td>NaN</td>\n",
       "      <td>NaN</td>\n",
       "      <td>NaN</td>\n",
       "    </tr>\n",
       "    <tr>\n",
       "      <th>2016-01-01</th>\n",
       "      <td>28.0</td>\n",
       "      <td>35.2</td>\n",
       "      <td>11.2</td>\n",
       "      <td>28.4</td>\n",
       "      <td>27.7</td>\n",
       "      <td>7.6</td>\n",
       "      <td>52.6</td>\n",
       "      <td>75.2</td>\n",
       "      <td>82.5</td>\n",
       "      <td>154.1</td>\n",
       "      <td>...</td>\n",
       "      <td>36.1</td>\n",
       "      <td>41.4</td>\n",
       "      <td>21.6</td>\n",
       "      <td>NaN</td>\n",
       "      <td>NaN</td>\n",
       "      <td>NaN</td>\n",
       "      <td>NaN</td>\n",
       "      <td>NaN</td>\n",
       "      <td>NaN</td>\n",
       "      <td>NaN</td>\n",
       "    </tr>\n",
       "    <tr>\n",
       "      <th>2017-01-01</th>\n",
       "      <td>29.2</td>\n",
       "      <td>54.1</td>\n",
       "      <td>10.9</td>\n",
       "      <td>30.7</td>\n",
       "      <td>31.4</td>\n",
       "      <td>8.3</td>\n",
       "      <td>73.5</td>\n",
       "      <td>87.0</td>\n",
       "      <td>101.8</td>\n",
       "      <td>170.0</td>\n",
       "      <td>...</td>\n",
       "      <td>38.2</td>\n",
       "      <td>33.3</td>\n",
       "      <td>23.8</td>\n",
       "      <td>6.9</td>\n",
       "      <td>7.4</td>\n",
       "      <td>13.2</td>\n",
       "      <td>7.3</td>\n",
       "      <td>8.5</td>\n",
       "      <td>NaN</td>\n",
       "      <td>NaN</td>\n",
       "    </tr>\n",
       "    <tr>\n",
       "      <th>2018-01-01</th>\n",
       "      <td>30.8</td>\n",
       "      <td>70.9</td>\n",
       "      <td>10.3</td>\n",
       "      <td>32.4</td>\n",
       "      <td>34.1</td>\n",
       "      <td>10.2</td>\n",
       "      <td>94.8</td>\n",
       "      <td>104.9</td>\n",
       "      <td>132.1</td>\n",
       "      <td>182.8</td>\n",
       "      <td>...</td>\n",
       "      <td>47.6</td>\n",
       "      <td>32.1</td>\n",
       "      <td>26.2</td>\n",
       "      <td>7.8</td>\n",
       "      <td>8.3</td>\n",
       "      <td>12.4</td>\n",
       "      <td>8.4</td>\n",
       "      <td>11.5</td>\n",
       "      <td>7.5</td>\n",
       "      <td>7.5</td>\n",
       "    </tr>\n",
       "    <tr>\n",
       "      <th>2019-01-01</th>\n",
       "      <td>32.2</td>\n",
       "      <td>97.0</td>\n",
       "      <td>10.5</td>\n",
       "      <td>34.5</td>\n",
       "      <td>38.8</td>\n",
       "      <td>11.3</td>\n",
       "      <td>88.9</td>\n",
       "      <td>125.3</td>\n",
       "      <td>167.7</td>\n",
       "      <td>205.5</td>\n",
       "      <td>...</td>\n",
       "      <td>53.1</td>\n",
       "      <td>31.5</td>\n",
       "      <td>28.7</td>\n",
       "      <td>NaN</td>\n",
       "      <td>10.5</td>\n",
       "      <td>12.5</td>\n",
       "      <td>8.0</td>\n",
       "      <td>15.5</td>\n",
       "      <td>8.2</td>\n",
       "      <td>9.1</td>\n",
       "    </tr>\n",
       "  </tbody>\n",
       "</table>\n",
       "<p>5 rows × 22 columns</p>\n",
       "</div>"
      ],
      "text/plain": [
       "            Oracle  Amazon  Ebay  Cisco  Intel  Sony  Facebook  Microsoft  \\\n",
       "2015-01-01    26.8    28.1  11.0   27.6   25.8   6.9      36.5       69.3   \n",
       "2016-01-01    28.0    35.2  11.2   28.4   27.7   7.6      52.6       75.2   \n",
       "2017-01-01    29.2    54.1  10.9   30.7   31.4   8.3      73.5       87.0   \n",
       "2018-01-01    30.8    70.9  10.3   32.4   34.1  10.2      94.8      104.9   \n",
       "2019-01-01    32.2    97.0  10.5   34.5   38.8  11.3      88.9      125.3   \n",
       "\n",
       "            Google  Apple  ...  Samsung   IBM   SAP  Panasonic  Adobe    HP  \\\n",
       "2015-01-01    65.6  145.3  ...     37.9  49.8  19.6        NaN    NaN   NaN   \n",
       "2016-01-01    82.5  154.1  ...     36.1  41.4  21.6        NaN    NaN   NaN   \n",
       "2017-01-01   101.8  170.0  ...     38.2  33.3  23.8        6.9    7.4  13.2   \n",
       "2018-01-01   132.1  182.8  ...     47.6  32.1  26.2        7.8    8.3  12.4   \n",
       "2019-01-01   167.7  205.5  ...     53.1  31.5  28.7        NaN   10.5  12.5   \n",
       "\n",
       "            Huawei  Netflix  Dell  PayPal  \n",
       "2015-01-01     NaN      NaN   NaN     NaN  \n",
       "2016-01-01     NaN      NaN   NaN     NaN  \n",
       "2017-01-01     7.3      8.5   NaN     NaN  \n",
       "2018-01-01     8.4     11.5   7.5     7.5  \n",
       "2019-01-01     8.0     15.5   8.2     9.1  \n",
       "\n",
       "[5 rows x 22 columns]"
      ]
     },
     "execution_count": 137,
     "metadata": {},
     "output_type": "execute_result"
    }
   ],
   "source": [
    "forbes_df.columns = columnas\n",
    "forbes_df"
   ]
  },
  {
   "cell_type": "markdown",
   "metadata": {},
   "source": [
    "2. Now I used the pyplot lib to show on a bar graph the most valuable brands per year from 2015-2019"
   ]
  },
  {
   "cell_type": "code",
   "execution_count": 175,
   "metadata": {},
   "outputs": [
    {
     "data": {
      "text/html": [
       "<script>requirejs.config({paths: { 'plotly': ['https://cdn.plot.ly/plotly-latest.min']},});if(!window.Plotly) {{require(['plotly'],function(plotly) {window.Plotly=plotly;});}}</script>"
      ],
      "text/vnd.plotly.v1+html": [
       "<script>requirejs.config({paths: { 'plotly': ['https://cdn.plot.ly/plotly-latest.min']},});if(!window.Plotly) {{require(['plotly'],function(plotly) {window.Plotly=plotly;});}}</script>"
      ]
     },
     "metadata": {},
     "output_type": "display_data"
    },
    {
     "data": {
      "application/vnd.plotly.v1+json": {
       "data": [
        {
         "marker": {
          "color": "rgba(255, 153, 51, 0.6)",
          "line": {
           "color": "rgba(255, 153, 51, 1.0)",
           "width": 1
          }
         },
         "name": "Oracle",
         "orientation": "v",
         "text": "",
         "type": "bar",
         "uid": "16650ba8-b139-11e9-8571-e094674e0619",
         "x": [
          "2015-01-01",
          "2016-01-01",
          "2017-01-01",
          "2018-01-01",
          "2019-01-01"
         ],
         "y": [
          26.8,
          28,
          29.2,
          30.8,
          32.2
         ]
        },
        {
         "marker": {
          "color": "rgba(55, 128, 191, 0.6)",
          "line": {
           "color": "rgba(55, 128, 191, 1.0)",
           "width": 1
          }
         },
         "name": "Amazon",
         "orientation": "v",
         "text": "",
         "type": "bar",
         "uid": "16650ba9-b139-11e9-a757-e094674e0619",
         "x": [
          "2015-01-01",
          "2016-01-01",
          "2017-01-01",
          "2018-01-01",
          "2019-01-01"
         ],
         "y": [
          28.1,
          35.2,
          54.1,
          70.9,
          97
         ]
        },
        {
         "marker": {
          "color": "rgba(50, 171, 96, 0.6)",
          "line": {
           "color": "rgba(50, 171, 96, 1.0)",
           "width": 1
          }
         },
         "name": "Ebay",
         "orientation": "v",
         "text": "",
         "type": "bar",
         "uid": "16650baa-b139-11e9-b2b7-e094674e0619",
         "x": [
          "2015-01-01",
          "2016-01-01",
          "2017-01-01",
          "2018-01-01",
          "2019-01-01"
         ],
         "y": [
          11,
          11.2,
          10.9,
          10.3,
          10.5
         ]
        },
        {
         "marker": {
          "color": "rgba(128, 0, 128, 0.6)",
          "line": {
           "color": "rgba(128, 0, 128, 1.0)",
           "width": 1
          }
         },
         "name": "Cisco",
         "orientation": "v",
         "text": "",
         "type": "bar",
         "uid": "16650bab-b139-11e9-83a3-e094674e0619",
         "x": [
          "2015-01-01",
          "2016-01-01",
          "2017-01-01",
          "2018-01-01",
          "2019-01-01"
         ],
         "y": [
          27.6,
          28.4,
          30.7,
          32.4,
          34.5
         ]
        },
        {
         "marker": {
          "color": "rgba(219, 64, 82, 0.6)",
          "line": {
           "color": "rgba(219, 64, 82, 1.0)",
           "width": 1
          }
         },
         "name": "Intel",
         "orientation": "v",
         "text": "",
         "type": "bar",
         "uid": "16652f94-b139-11e9-ae3e-e094674e0619",
         "x": [
          "2015-01-01",
          "2016-01-01",
          "2017-01-01",
          "2018-01-01",
          "2019-01-01"
         ],
         "y": [
          25.8,
          27.7,
          31.4,
          34.1,
          38.8
         ]
        },
        {
         "marker": {
          "color": "rgba(0, 128, 128, 0.6)",
          "line": {
           "color": "rgba(0, 128, 128, 1.0)",
           "width": 1
          }
         },
         "name": "Sony",
         "orientation": "v",
         "text": "",
         "type": "bar",
         "uid": "16652f95-b139-11e9-b00e-e094674e0619",
         "x": [
          "2015-01-01",
          "2016-01-01",
          "2017-01-01",
          "2018-01-01",
          "2019-01-01"
         ],
         "y": [
          6.9,
          7.6,
          8.3,
          10.2,
          11.3
         ]
        },
        {
         "marker": {
          "color": "rgba(255, 255, 51, 0.6)",
          "line": {
           "color": "rgba(255, 255, 51, 1.0)",
           "width": 1
          }
         },
         "name": "Facebook",
         "orientation": "v",
         "text": "",
         "type": "bar",
         "uid": "16652f96-b139-11e9-9e8c-e094674e0619",
         "x": [
          "2015-01-01",
          "2016-01-01",
          "2017-01-01",
          "2018-01-01",
          "2019-01-01"
         ],
         "y": [
          36.5,
          52.6,
          73.5,
          94.8,
          88.9
         ]
        },
        {
         "marker": {
          "color": "rgba(128, 128, 0, 0.6)",
          "line": {
           "color": "rgba(128, 128, 0, 1.0)",
           "width": 1
          }
         },
         "name": "Microsoft",
         "orientation": "v",
         "text": "",
         "type": "bar",
         "uid": "16652f97-b139-11e9-8984-e094674e0619",
         "x": [
          "2015-01-01",
          "2016-01-01",
          "2017-01-01",
          "2018-01-01",
          "2019-01-01"
         ],
         "y": [
          69.3,
          75.2,
          87,
          104.9,
          125.3
         ]
        },
        {
         "marker": {
          "color": "rgba(251, 128, 114, 0.6)",
          "line": {
           "color": "rgba(251, 128, 114, 1.0)",
           "width": 1
          }
         },
         "name": "Google",
         "orientation": "v",
         "text": "",
         "type": "bar",
         "uid": "16652f98-b139-11e9-bf6f-e094674e0619",
         "x": [
          "2015-01-01",
          "2016-01-01",
          "2017-01-01",
          "2018-01-01",
          "2019-01-01"
         ],
         "y": [
          65.6,
          82.5,
          101.8,
          132.1,
          167.7
         ]
        },
        {
         "marker": {
          "color": "rgba(128, 177, 211, 0.6)",
          "line": {
           "color": "rgba(128, 177, 211, 1.0)",
           "width": 1
          }
         },
         "name": "Apple",
         "orientation": "v",
         "text": "",
         "type": "bar",
         "uid": "16652f99-b139-11e9-8004-e094674e0619",
         "x": [
          "2015-01-01",
          "2016-01-01",
          "2017-01-01",
          "2018-01-01",
          "2019-01-01"
         ],
         "y": [
          145.3,
          154.1,
          170,
          182.8,
          205.5
         ]
        },
        {
         "marker": {
          "color": "rgba(128, 177, 211, 0.6)",
          "line": {
           "color": "rgba(128, 177, 211, 0.8999999999999999)",
           "width": 1
          }
         },
         "name": "Canon",
         "orientation": "v",
         "text": "",
         "type": "bar",
         "uid": "16652f9a-b139-11e9-95a3-e094674e0619",
         "x": [
          "2015-01-01",
          "2016-01-01",
          "2017-01-01",
          "2018-01-01",
          "2019-01-01"
         ],
         "y": [
          7.3,
          7.1,
          "",
          "",
          ""
         ]
        },
        {
         "marker": {
          "color": "rgba(255, 153, 51, 0.6)",
          "line": {
           "color": "rgba(255, 153, 51, 0.8999999999999999)",
           "width": 1
          }
         },
         "name": "Hewlett-Packard",
         "orientation": "v",
         "text": "",
         "type": "bar",
         "uid": "16652f9b-b139-11e9-baeb-e094674e0619",
         "x": [
          "2015-01-01",
          "2016-01-01",
          "2017-01-01",
          "2018-01-01",
          "2019-01-01"
         ],
         "y": [
          14.7,
          13.8,
          "",
          "",
          8.1
         ]
        },
        {
         "marker": {
          "color": "rgba(55, 128, 191, 0.6)",
          "line": {
           "color": "rgba(55, 128, 191, 0.8999999999999999)",
           "width": 1
          }
         },
         "name": "Samsung",
         "orientation": "v",
         "text": "",
         "type": "bar",
         "uid": "16652f9c-b139-11e9-8265-e094674e0619",
         "x": [
          "2015-01-01",
          "2016-01-01",
          "2017-01-01",
          "2018-01-01",
          "2019-01-01"
         ],
         "y": [
          37.9,
          36.1,
          38.2,
          47.6,
          53.1
         ]
        },
        {
         "marker": {
          "color": "rgba(50, 171, 96, 0.6)",
          "line": {
           "color": "rgba(50, 171, 96, 0.8999999999999999)",
           "width": 1
          }
         },
         "name": "IBM",
         "orientation": "v",
         "text": "",
         "type": "bar",
         "uid": "16652f9d-b139-11e9-8d7f-e094674e0619",
         "x": [
          "2015-01-01",
          "2016-01-01",
          "2017-01-01",
          "2018-01-01",
          "2019-01-01"
         ],
         "y": [
          49.8,
          41.4,
          33.3,
          32.1,
          31.5
         ]
        },
        {
         "marker": {
          "color": "rgba(128, 0, 128, 0.6)",
          "line": {
           "color": "rgba(128, 0, 128, 0.8999999999999999)",
           "width": 1
          }
         },
         "name": "SAP",
         "orientation": "v",
         "text": "",
         "type": "bar",
         "uid": "16652f9e-b139-11e9-b34b-e094674e0619",
         "x": [
          "2015-01-01",
          "2016-01-01",
          "2017-01-01",
          "2018-01-01",
          "2019-01-01"
         ],
         "y": [
          19.6,
          21.6,
          23.8,
          26.2,
          28.7
         ]
        },
        {
         "marker": {
          "color": "rgba(219, 64, 82, 0.6)",
          "line": {
           "color": "rgba(219, 64, 82, 0.8999999999999999)",
           "width": 1
          }
         },
         "name": "Panasonic",
         "orientation": "v",
         "text": "",
         "type": "bar",
         "uid": "1665568a-b139-11e9-be7c-e094674e0619",
         "x": [
          "2015-01-01",
          "2016-01-01",
          "2017-01-01",
          "2018-01-01",
          "2019-01-01"
         ],
         "y": [
          "",
          "",
          6.9,
          7.8,
          ""
         ]
        },
        {
         "marker": {
          "color": "rgba(0, 128, 128, 0.6)",
          "line": {
           "color": "rgba(0, 128, 128, 0.8999999999999999)",
           "width": 1
          }
         },
         "name": "Adobe",
         "orientation": "v",
         "text": "",
         "type": "bar",
         "uid": "1665568b-b139-11e9-98aa-e094674e0619",
         "x": [
          "2015-01-01",
          "2016-01-01",
          "2017-01-01",
          "2018-01-01",
          "2019-01-01"
         ],
         "y": [
          "",
          "",
          7.4,
          8.3,
          10.5
         ]
        },
        {
         "marker": {
          "color": "rgba(255, 255, 51, 0.6)",
          "line": {
           "color": "rgba(255, 255, 51, 0.8999999999999999)",
           "width": 1
          }
         },
         "name": "HP",
         "orientation": "v",
         "text": "",
         "type": "bar",
         "uid": "1665568c-b139-11e9-9a3b-e094674e0619",
         "x": [
          "2015-01-01",
          "2016-01-01",
          "2017-01-01",
          "2018-01-01",
          "2019-01-01"
         ],
         "y": [
          "",
          "",
          13.2,
          12.4,
          12.5
         ]
        },
        {
         "marker": {
          "color": "rgba(128, 128, 0, 0.6)",
          "line": {
           "color": "rgba(128, 128, 0, 0.8999999999999999)",
           "width": 1
          }
         },
         "name": "Huawei",
         "orientation": "v",
         "text": "",
         "type": "bar",
         "uid": "1665568d-b139-11e9-acda-e094674e0619",
         "x": [
          "2015-01-01",
          "2016-01-01",
          "2017-01-01",
          "2018-01-01",
          "2019-01-01"
         ],
         "y": [
          "",
          "",
          7.3,
          8.4,
          8
         ]
        },
        {
         "marker": {
          "color": "rgba(251, 128, 114, 0.6)",
          "line": {
           "color": "rgba(251, 128, 114, 0.8999999999999999)",
           "width": 1
          }
         },
         "name": "Netflix",
         "orientation": "v",
         "text": "",
         "type": "bar",
         "uid": "1665568e-b139-11e9-9932-e094674e0619",
         "x": [
          "2015-01-01",
          "2016-01-01",
          "2017-01-01",
          "2018-01-01",
          "2019-01-01"
         ],
         "y": [
          "",
          "",
          8.5,
          11.5,
          15.5
         ]
        },
        {
         "marker": {
          "color": "rgba(251, 128, 114, 0.6)",
          "line": {
           "color": "rgba(251, 128, 114, 0.7999999999999998)",
           "width": 1
          }
         },
         "name": "Dell",
         "orientation": "v",
         "text": "",
         "type": "bar",
         "uid": "1665568f-b139-11e9-8926-e094674e0619",
         "x": [
          "2015-01-01",
          "2016-01-01",
          "2017-01-01",
          "2018-01-01",
          "2019-01-01"
         ],
         "y": [
          "",
          "",
          "",
          7.5,
          8.2
         ]
        },
        {
         "marker": {
          "color": "rgba(128, 177, 211, 0.6)",
          "line": {
           "color": "rgba(128, 177, 211, 0.7999999999999998)",
           "width": 1
          }
         },
         "name": "PayPal",
         "orientation": "v",
         "text": "",
         "type": "bar",
         "uid": "16655690-b139-11e9-8b6f-e094674e0619",
         "x": [
          "2015-01-01",
          "2016-01-01",
          "2017-01-01",
          "2018-01-01",
          "2019-01-01"
         ],
         "y": [
          "",
          "",
          "",
          7.5,
          9.1
         ]
        }
       ],
       "layout": {
        "legend": {
         "bgcolor": "#F5F6F9",
         "font": {
          "color": "#4D5663"
         }
        },
        "paper_bgcolor": "#F5F6F9",
        "plot_bgcolor": "#F5F6F9",
        "title": "Most Valuable Brands per Year",
        "titlefont": {
         "color": "#4D5663"
        },
        "xaxis": {
         "gridcolor": "#E1E5ED",
         "showgrid": true,
         "tickfont": {
          "color": "#4D5663"
         },
         "title": "",
         "titlefont": {
          "color": "#4D5663"
         },
         "zerolinecolor": "#E1E5ED"
        },
        "yaxis": {
         "gridcolor": "#E1E5ED",
         "showgrid": true,
         "tickfont": {
          "color": "#4D5663"
         },
         "title": "",
         "titlefont": {
          "color": "#4D5663"
         },
         "zerolinecolor": "#E1E5ED"
        }
       }
      },
      "text/html": [
       "<div id=\"fc7fa1dd-abc6-419a-b01c-449661709ddd\" style=\"height: 525px; width: 100%;\" class=\"plotly-graph-div\"></div><script type=\"text/javascript\">require([\"plotly\"], function(Plotly) { window.PLOTLYENV=window.PLOTLYENV || {};window.PLOTLYENV.BASE_URL=\"https://plot.ly\";Plotly.newPlot(\"fc7fa1dd-abc6-419a-b01c-449661709ddd\", [{\"marker\": {\"color\": \"rgba(255, 153, 51, 0.6)\", \"line\": {\"color\": \"rgba(255, 153, 51, 1.0)\", \"width\": 1}}, \"name\": \"Oracle\", \"orientation\": \"v\", \"text\": \"\", \"x\": [\"2015-01-01\", \"2016-01-01\", \"2017-01-01\", \"2018-01-01\", \"2019-01-01\"], \"y\": [26.8, 28.0, 29.2, 30.8, 32.2], \"type\": \"bar\", \"uid\": \"16b1e3c8-b139-11e9-b3a6-e094674e0619\"}, {\"marker\": {\"color\": \"rgba(55, 128, 191, 0.6)\", \"line\": {\"color\": \"rgba(55, 128, 191, 1.0)\", \"width\": 1}}, \"name\": \"Amazon\", \"orientation\": \"v\", \"text\": \"\", \"x\": [\"2015-01-01\", \"2016-01-01\", \"2017-01-01\", \"2018-01-01\", \"2019-01-01\"], \"y\": [28.1, 35.2, 54.1, 70.9, 97.0], \"type\": \"bar\", \"uid\": \"16b1e3c9-b139-11e9-8456-e094674e0619\"}, {\"marker\": {\"color\": \"rgba(50, 171, 96, 0.6)\", \"line\": {\"color\": \"rgba(50, 171, 96, 1.0)\", \"width\": 1}}, \"name\": \"Ebay\", \"orientation\": \"v\", \"text\": \"\", \"x\": [\"2015-01-01\", \"2016-01-01\", \"2017-01-01\", \"2018-01-01\", \"2019-01-01\"], \"y\": [11.0, 11.2, 10.9, 10.3, 10.5], \"type\": \"bar\", \"uid\": \"16b1e3ca-b139-11e9-b8e8-e094674e0619\"}, {\"marker\": {\"color\": \"rgba(128, 0, 128, 0.6)\", \"line\": {\"color\": \"rgba(128, 0, 128, 1.0)\", \"width\": 1}}, \"name\": \"Cisco\", \"orientation\": \"v\", \"text\": \"\", \"x\": [\"2015-01-01\", \"2016-01-01\", \"2017-01-01\", \"2018-01-01\", \"2019-01-01\"], \"y\": [27.6, 28.4, 30.7, 32.4, 34.5], \"type\": \"bar\", \"uid\": \"16b20ab6-b139-11e9-9b16-e094674e0619\"}, {\"marker\": {\"color\": \"rgba(219, 64, 82, 0.6)\", \"line\": {\"color\": \"rgba(219, 64, 82, 1.0)\", \"width\": 1}}, \"name\": \"Intel\", \"orientation\": \"v\", \"text\": \"\", \"x\": [\"2015-01-01\", \"2016-01-01\", \"2017-01-01\", \"2018-01-01\", \"2019-01-01\"], \"y\": [25.8, 27.7, 31.4, 34.1, 38.8], \"type\": \"bar\", \"uid\": \"16b20ab7-b139-11e9-a57f-e094674e0619\"}, {\"marker\": {\"color\": \"rgba(0, 128, 128, 0.6)\", \"line\": {\"color\": \"rgba(0, 128, 128, 1.0)\", \"width\": 1}}, \"name\": \"Sony\", \"orientation\": \"v\", \"text\": \"\", \"x\": [\"2015-01-01\", \"2016-01-01\", \"2017-01-01\", \"2018-01-01\", \"2019-01-01\"], \"y\": [6.9, 7.6, 8.3, 10.2, 11.3], \"type\": \"bar\", \"uid\": \"16b20ab8-b139-11e9-81e7-e094674e0619\"}, {\"marker\": {\"color\": \"rgba(255, 255, 51, 0.6)\", \"line\": {\"color\": \"rgba(255, 255, 51, 1.0)\", \"width\": 1}}, \"name\": \"Facebook\", \"orientation\": \"v\", \"text\": \"\", \"x\": [\"2015-01-01\", \"2016-01-01\", \"2017-01-01\", \"2018-01-01\", \"2019-01-01\"], \"y\": [36.5, 52.6, 73.5, 94.8, 88.9], \"type\": \"bar\", \"uid\": \"16b20ab9-b139-11e9-a594-e094674e0619\"}, {\"marker\": {\"color\": \"rgba(128, 128, 0, 0.6)\", \"line\": {\"color\": \"rgba(128, 128, 0, 1.0)\", \"width\": 1}}, \"name\": \"Microsoft\", \"orientation\": \"v\", \"text\": \"\", \"x\": [\"2015-01-01\", \"2016-01-01\", \"2017-01-01\", \"2018-01-01\", \"2019-01-01\"], \"y\": [69.3, 75.2, 87.0, 104.9, 125.3], \"type\": \"bar\", \"uid\": \"16b20aba-b139-11e9-9f13-e094674e0619\"}, {\"marker\": {\"color\": \"rgba(251, 128, 114, 0.6)\", \"line\": {\"color\": \"rgba(251, 128, 114, 1.0)\", \"width\": 1}}, \"name\": \"Google\", \"orientation\": \"v\", \"text\": \"\", \"x\": [\"2015-01-01\", \"2016-01-01\", \"2017-01-01\", \"2018-01-01\", \"2019-01-01\"], \"y\": [65.6, 82.5, 101.8, 132.1, 167.7], \"type\": \"bar\", \"uid\": \"16b20abb-b139-11e9-8004-e094674e0619\"}, {\"marker\": {\"color\": \"rgba(128, 177, 211, 0.6)\", \"line\": {\"color\": \"rgba(128, 177, 211, 1.0)\", \"width\": 1}}, \"name\": \"Apple\", \"orientation\": \"v\", \"text\": \"\", \"x\": [\"2015-01-01\", \"2016-01-01\", \"2017-01-01\", \"2018-01-01\", \"2019-01-01\"], \"y\": [145.3, 154.1, 170.0, 182.8, 205.5], \"type\": \"bar\", \"uid\": \"16b20abc-b139-11e9-8e69-e094674e0619\"}, {\"marker\": {\"color\": \"rgba(128, 177, 211, 0.6)\", \"line\": {\"color\": \"rgba(128, 177, 211, 0.8999999999999999)\", \"width\": 1}}, \"name\": \"Canon\", \"orientation\": \"v\", \"text\": \"\", \"x\": [\"2015-01-01\", \"2016-01-01\", \"2017-01-01\", \"2018-01-01\", \"2019-01-01\"], \"y\": [7.3, 7.1, \"\", \"\", \"\"], \"type\": \"bar\", \"uid\": \"16b20abd-b139-11e9-8387-e094674e0619\"}, {\"marker\": {\"color\": \"rgba(255, 153, 51, 0.6)\", \"line\": {\"color\": \"rgba(255, 153, 51, 0.8999999999999999)\", \"width\": 1}}, \"name\": \"Hewlett-Packard\", \"orientation\": \"v\", \"text\": \"\", \"x\": [\"2015-01-01\", \"2016-01-01\", \"2017-01-01\", \"2018-01-01\", \"2019-01-01\"], \"y\": [14.7, 13.8, \"\", \"\", 8.1], \"type\": \"bar\", \"uid\": \"16b20abe-b139-11e9-9468-e094674e0619\"}, {\"marker\": {\"color\": \"rgba(55, 128, 191, 0.6)\", \"line\": {\"color\": \"rgba(55, 128, 191, 0.8999999999999999)\", \"width\": 1}}, \"name\": \"Samsung\", \"orientation\": \"v\", \"text\": \"\", \"x\": [\"2015-01-01\", \"2016-01-01\", \"2017-01-01\", \"2018-01-01\", \"2019-01-01\"], \"y\": [37.9, 36.1, 38.2, 47.6, 53.1], \"type\": \"bar\", \"uid\": \"16b20abf-b139-11e9-b1be-e094674e0619\"}, {\"marker\": {\"color\": \"rgba(50, 171, 96, 0.6)\", \"line\": {\"color\": \"rgba(50, 171, 96, 0.8999999999999999)\", \"width\": 1}}, \"name\": \"IBM\", \"orientation\": \"v\", \"text\": \"\", \"x\": [\"2015-01-01\", \"2016-01-01\", \"2017-01-01\", \"2018-01-01\", \"2019-01-01\"], \"y\": [49.8, 41.4, 33.3, 32.1, 31.5], \"type\": \"bar\", \"uid\": \"16b20ac0-b139-11e9-a31b-e094674e0619\"}, {\"marker\": {\"color\": \"rgba(128, 0, 128, 0.6)\", \"line\": {\"color\": \"rgba(128, 0, 128, 0.8999999999999999)\", \"width\": 1}}, \"name\": \"SAP\", \"orientation\": \"v\", \"text\": \"\", \"x\": [\"2015-01-01\", \"2016-01-01\", \"2017-01-01\", \"2018-01-01\", \"2019-01-01\"], \"y\": [19.6, 21.6, 23.8, 26.2, 28.7], \"type\": \"bar\", \"uid\": \"16b20ac1-b139-11e9-a56c-e094674e0619\"}, {\"marker\": {\"color\": \"rgba(219, 64, 82, 0.6)\", \"line\": {\"color\": \"rgba(219, 64, 82, 0.8999999999999999)\", \"width\": 1}}, \"name\": \"Panasonic\", \"orientation\": \"v\", \"text\": \"\", \"x\": [\"2015-01-01\", \"2016-01-01\", \"2017-01-01\", \"2018-01-01\", \"2019-01-01\"], \"y\": [\"\", \"\", 6.9, 7.8, \"\"], \"type\": \"bar\", \"uid\": \"16b232ba-b139-11e9-b49b-e094674e0619\"}, {\"marker\": {\"color\": \"rgba(0, 128, 128, 0.6)\", \"line\": {\"color\": \"rgba(0, 128, 128, 0.8999999999999999)\", \"width\": 1}}, \"name\": \"Adobe\", \"orientation\": \"v\", \"text\": \"\", \"x\": [\"2015-01-01\", \"2016-01-01\", \"2017-01-01\", \"2018-01-01\", \"2019-01-01\"], \"y\": [\"\", \"\", 7.4, 8.3, 10.5], \"type\": \"bar\", \"uid\": \"16b232bb-b139-11e9-984f-e094674e0619\"}, {\"marker\": {\"color\": \"rgba(255, 255, 51, 0.6)\", \"line\": {\"color\": \"rgba(255, 255, 51, 0.8999999999999999)\", \"width\": 1}}, \"name\": \"HP\", \"orientation\": \"v\", \"text\": \"\", \"x\": [\"2015-01-01\", \"2016-01-01\", \"2017-01-01\", \"2018-01-01\", \"2019-01-01\"], \"y\": [\"\", \"\", 13.2, 12.4, 12.5], \"type\": \"bar\", \"uid\": \"16b232bc-b139-11e9-b190-e094674e0619\"}, {\"marker\": {\"color\": \"rgba(128, 128, 0, 0.6)\", \"line\": {\"color\": \"rgba(128, 128, 0, 0.8999999999999999)\", \"width\": 1}}, \"name\": \"Huawei\", \"orientation\": \"v\", \"text\": \"\", \"x\": [\"2015-01-01\", \"2016-01-01\", \"2017-01-01\", \"2018-01-01\", \"2019-01-01\"], \"y\": [\"\", \"\", 7.3, 8.4, 8.0], \"type\": \"bar\", \"uid\": \"16b232bd-b139-11e9-a3d8-e094674e0619\"}, {\"marker\": {\"color\": \"rgba(251, 128, 114, 0.6)\", \"line\": {\"color\": \"rgba(251, 128, 114, 0.8999999999999999)\", \"width\": 1}}, \"name\": \"Netflix\", \"orientation\": \"v\", \"text\": \"\", \"x\": [\"2015-01-01\", \"2016-01-01\", \"2017-01-01\", \"2018-01-01\", \"2019-01-01\"], \"y\": [\"\", \"\", 8.5, 11.5, 15.5], \"type\": \"bar\", \"uid\": \"16b232be-b139-11e9-8b78-e094674e0619\"}, {\"marker\": {\"color\": \"rgba(251, 128, 114, 0.6)\", \"line\": {\"color\": \"rgba(251, 128, 114, 0.7999999999999998)\", \"width\": 1}}, \"name\": \"Dell\", \"orientation\": \"v\", \"text\": \"\", \"x\": [\"2015-01-01\", \"2016-01-01\", \"2017-01-01\", \"2018-01-01\", \"2019-01-01\"], \"y\": [\"\", \"\", \"\", 7.5, 8.2], \"type\": \"bar\", \"uid\": \"16b232bf-b139-11e9-932e-e094674e0619\"}, {\"marker\": {\"color\": \"rgba(128, 177, 211, 0.6)\", \"line\": {\"color\": \"rgba(128, 177, 211, 0.7999999999999998)\", \"width\": 1}}, \"name\": \"PayPal\", \"orientation\": \"v\", \"text\": \"\", \"x\": [\"2015-01-01\", \"2016-01-01\", \"2017-01-01\", \"2018-01-01\", \"2019-01-01\"], \"y\": [\"\", \"\", \"\", 7.5, 9.1], \"type\": \"bar\", \"uid\": \"16b232c0-b139-11e9-a2cb-e094674e0619\"}], {\"legend\": {\"bgcolor\": \"#F5F6F9\", \"font\": {\"color\": \"#4D5663\"}}, \"paper_bgcolor\": \"#F5F6F9\", \"plot_bgcolor\": \"#F5F6F9\", \"title\": \"Most Valuable Brands per Year\", \"titlefont\": {\"color\": \"#4D5663\"}, \"xaxis\": {\"gridcolor\": \"#E1E5ED\", \"showgrid\": true, \"tickfont\": {\"color\": \"#4D5663\"}, \"title\": \"\", \"titlefont\": {\"color\": \"#4D5663\"}, \"zerolinecolor\": \"#E1E5ED\"}, \"yaxis\": {\"gridcolor\": \"#E1E5ED\", \"showgrid\": true, \"tickfont\": {\"color\": \"#4D5663\"}, \"title\": \"\", \"titlefont\": {\"color\": \"#4D5663\"}, \"zerolinecolor\": \"#E1E5ED\"}}, {\"showLink\": true, \"linkText\": \"Export to plot.ly\"})});</script>"
      ],
      "text/vnd.plotly.v1+html": [
       "<div id=\"fc7fa1dd-abc6-419a-b01c-449661709ddd\" style=\"height: 525px; width: 100%;\" class=\"plotly-graph-div\"></div><script type=\"text/javascript\">require([\"plotly\"], function(Plotly) { window.PLOTLYENV=window.PLOTLYENV || {};window.PLOTLYENV.BASE_URL=\"https://plot.ly\";Plotly.newPlot(\"fc7fa1dd-abc6-419a-b01c-449661709ddd\", [{\"marker\": {\"color\": \"rgba(255, 153, 51, 0.6)\", \"line\": {\"color\": \"rgba(255, 153, 51, 1.0)\", \"width\": 1}}, \"name\": \"Oracle\", \"orientation\": \"v\", \"text\": \"\", \"x\": [\"2015-01-01\", \"2016-01-01\", \"2017-01-01\", \"2018-01-01\", \"2019-01-01\"], \"y\": [26.8, 28.0, 29.2, 30.8, 32.2], \"type\": \"bar\", \"uid\": \"16b1e3c8-b139-11e9-b3a6-e094674e0619\"}, {\"marker\": {\"color\": \"rgba(55, 128, 191, 0.6)\", \"line\": {\"color\": \"rgba(55, 128, 191, 1.0)\", \"width\": 1}}, \"name\": \"Amazon\", \"orientation\": \"v\", \"text\": \"\", \"x\": [\"2015-01-01\", \"2016-01-01\", \"2017-01-01\", \"2018-01-01\", \"2019-01-01\"], \"y\": [28.1, 35.2, 54.1, 70.9, 97.0], \"type\": \"bar\", \"uid\": \"16b1e3c9-b139-11e9-8456-e094674e0619\"}, {\"marker\": {\"color\": \"rgba(50, 171, 96, 0.6)\", \"line\": {\"color\": \"rgba(50, 171, 96, 1.0)\", \"width\": 1}}, \"name\": \"Ebay\", \"orientation\": \"v\", \"text\": \"\", \"x\": [\"2015-01-01\", \"2016-01-01\", \"2017-01-01\", \"2018-01-01\", \"2019-01-01\"], \"y\": [11.0, 11.2, 10.9, 10.3, 10.5], \"type\": \"bar\", \"uid\": \"16b1e3ca-b139-11e9-b8e8-e094674e0619\"}, {\"marker\": {\"color\": \"rgba(128, 0, 128, 0.6)\", \"line\": {\"color\": \"rgba(128, 0, 128, 1.0)\", \"width\": 1}}, \"name\": \"Cisco\", \"orientation\": \"v\", \"text\": \"\", \"x\": [\"2015-01-01\", \"2016-01-01\", \"2017-01-01\", \"2018-01-01\", \"2019-01-01\"], \"y\": [27.6, 28.4, 30.7, 32.4, 34.5], \"type\": \"bar\", \"uid\": \"16b20ab6-b139-11e9-9b16-e094674e0619\"}, {\"marker\": {\"color\": \"rgba(219, 64, 82, 0.6)\", \"line\": {\"color\": \"rgba(219, 64, 82, 1.0)\", \"width\": 1}}, \"name\": \"Intel\", \"orientation\": \"v\", \"text\": \"\", \"x\": [\"2015-01-01\", \"2016-01-01\", \"2017-01-01\", \"2018-01-01\", \"2019-01-01\"], \"y\": [25.8, 27.7, 31.4, 34.1, 38.8], \"type\": \"bar\", \"uid\": \"16b20ab7-b139-11e9-a57f-e094674e0619\"}, {\"marker\": {\"color\": \"rgba(0, 128, 128, 0.6)\", \"line\": {\"color\": \"rgba(0, 128, 128, 1.0)\", \"width\": 1}}, \"name\": \"Sony\", \"orientation\": \"v\", \"text\": \"\", \"x\": [\"2015-01-01\", \"2016-01-01\", \"2017-01-01\", \"2018-01-01\", \"2019-01-01\"], \"y\": [6.9, 7.6, 8.3, 10.2, 11.3], \"type\": \"bar\", \"uid\": \"16b20ab8-b139-11e9-81e7-e094674e0619\"}, {\"marker\": {\"color\": \"rgba(255, 255, 51, 0.6)\", \"line\": {\"color\": \"rgba(255, 255, 51, 1.0)\", \"width\": 1}}, \"name\": \"Facebook\", \"orientation\": \"v\", \"text\": \"\", \"x\": [\"2015-01-01\", \"2016-01-01\", \"2017-01-01\", \"2018-01-01\", \"2019-01-01\"], \"y\": [36.5, 52.6, 73.5, 94.8, 88.9], \"type\": \"bar\", \"uid\": \"16b20ab9-b139-11e9-a594-e094674e0619\"}, {\"marker\": {\"color\": \"rgba(128, 128, 0, 0.6)\", \"line\": {\"color\": \"rgba(128, 128, 0, 1.0)\", \"width\": 1}}, \"name\": \"Microsoft\", \"orientation\": \"v\", \"text\": \"\", \"x\": [\"2015-01-01\", \"2016-01-01\", \"2017-01-01\", \"2018-01-01\", \"2019-01-01\"], \"y\": [69.3, 75.2, 87.0, 104.9, 125.3], \"type\": \"bar\", \"uid\": \"16b20aba-b139-11e9-9f13-e094674e0619\"}, {\"marker\": {\"color\": \"rgba(251, 128, 114, 0.6)\", \"line\": {\"color\": \"rgba(251, 128, 114, 1.0)\", \"width\": 1}}, \"name\": \"Google\", \"orientation\": \"v\", \"text\": \"\", \"x\": [\"2015-01-01\", \"2016-01-01\", \"2017-01-01\", \"2018-01-01\", \"2019-01-01\"], \"y\": [65.6, 82.5, 101.8, 132.1, 167.7], \"type\": \"bar\", \"uid\": \"16b20abb-b139-11e9-8004-e094674e0619\"}, {\"marker\": {\"color\": \"rgba(128, 177, 211, 0.6)\", \"line\": {\"color\": \"rgba(128, 177, 211, 1.0)\", \"width\": 1}}, \"name\": \"Apple\", \"orientation\": \"v\", \"text\": \"\", \"x\": [\"2015-01-01\", \"2016-01-01\", \"2017-01-01\", \"2018-01-01\", \"2019-01-01\"], \"y\": [145.3, 154.1, 170.0, 182.8, 205.5], \"type\": \"bar\", \"uid\": \"16b20abc-b139-11e9-8e69-e094674e0619\"}, {\"marker\": {\"color\": \"rgba(128, 177, 211, 0.6)\", \"line\": {\"color\": \"rgba(128, 177, 211, 0.8999999999999999)\", \"width\": 1}}, \"name\": \"Canon\", \"orientation\": \"v\", \"text\": \"\", \"x\": [\"2015-01-01\", \"2016-01-01\", \"2017-01-01\", \"2018-01-01\", \"2019-01-01\"], \"y\": [7.3, 7.1, \"\", \"\", \"\"], \"type\": \"bar\", \"uid\": \"16b20abd-b139-11e9-8387-e094674e0619\"}, {\"marker\": {\"color\": \"rgba(255, 153, 51, 0.6)\", \"line\": {\"color\": \"rgba(255, 153, 51, 0.8999999999999999)\", \"width\": 1}}, \"name\": \"Hewlett-Packard\", \"orientation\": \"v\", \"text\": \"\", \"x\": [\"2015-01-01\", \"2016-01-01\", \"2017-01-01\", \"2018-01-01\", \"2019-01-01\"], \"y\": [14.7, 13.8, \"\", \"\", 8.1], \"type\": \"bar\", \"uid\": \"16b20abe-b139-11e9-9468-e094674e0619\"}, {\"marker\": {\"color\": \"rgba(55, 128, 191, 0.6)\", \"line\": {\"color\": \"rgba(55, 128, 191, 0.8999999999999999)\", \"width\": 1}}, \"name\": \"Samsung\", \"orientation\": \"v\", \"text\": \"\", \"x\": [\"2015-01-01\", \"2016-01-01\", \"2017-01-01\", \"2018-01-01\", \"2019-01-01\"], \"y\": [37.9, 36.1, 38.2, 47.6, 53.1], \"type\": \"bar\", \"uid\": \"16b20abf-b139-11e9-b1be-e094674e0619\"}, {\"marker\": {\"color\": \"rgba(50, 171, 96, 0.6)\", \"line\": {\"color\": \"rgba(50, 171, 96, 0.8999999999999999)\", \"width\": 1}}, \"name\": \"IBM\", \"orientation\": \"v\", \"text\": \"\", \"x\": [\"2015-01-01\", \"2016-01-01\", \"2017-01-01\", \"2018-01-01\", \"2019-01-01\"], \"y\": [49.8, 41.4, 33.3, 32.1, 31.5], \"type\": \"bar\", \"uid\": \"16b20ac0-b139-11e9-a31b-e094674e0619\"}, {\"marker\": {\"color\": \"rgba(128, 0, 128, 0.6)\", \"line\": {\"color\": \"rgba(128, 0, 128, 0.8999999999999999)\", \"width\": 1}}, \"name\": \"SAP\", \"orientation\": \"v\", \"text\": \"\", \"x\": [\"2015-01-01\", \"2016-01-01\", \"2017-01-01\", \"2018-01-01\", \"2019-01-01\"], \"y\": [19.6, 21.6, 23.8, 26.2, 28.7], \"type\": \"bar\", \"uid\": \"16b20ac1-b139-11e9-a56c-e094674e0619\"}, {\"marker\": {\"color\": \"rgba(219, 64, 82, 0.6)\", \"line\": {\"color\": \"rgba(219, 64, 82, 0.8999999999999999)\", \"width\": 1}}, \"name\": \"Panasonic\", \"orientation\": \"v\", \"text\": \"\", \"x\": [\"2015-01-01\", \"2016-01-01\", \"2017-01-01\", \"2018-01-01\", \"2019-01-01\"], \"y\": [\"\", \"\", 6.9, 7.8, \"\"], \"type\": \"bar\", \"uid\": \"16b232ba-b139-11e9-b49b-e094674e0619\"}, {\"marker\": {\"color\": \"rgba(0, 128, 128, 0.6)\", \"line\": {\"color\": \"rgba(0, 128, 128, 0.8999999999999999)\", \"width\": 1}}, \"name\": \"Adobe\", \"orientation\": \"v\", \"text\": \"\", \"x\": [\"2015-01-01\", \"2016-01-01\", \"2017-01-01\", \"2018-01-01\", \"2019-01-01\"], \"y\": [\"\", \"\", 7.4, 8.3, 10.5], \"type\": \"bar\", \"uid\": \"16b232bb-b139-11e9-984f-e094674e0619\"}, {\"marker\": {\"color\": \"rgba(255, 255, 51, 0.6)\", \"line\": {\"color\": \"rgba(255, 255, 51, 0.8999999999999999)\", \"width\": 1}}, \"name\": \"HP\", \"orientation\": \"v\", \"text\": \"\", \"x\": [\"2015-01-01\", \"2016-01-01\", \"2017-01-01\", \"2018-01-01\", \"2019-01-01\"], \"y\": [\"\", \"\", 13.2, 12.4, 12.5], \"type\": \"bar\", \"uid\": \"16b232bc-b139-11e9-b190-e094674e0619\"}, {\"marker\": {\"color\": \"rgba(128, 128, 0, 0.6)\", \"line\": {\"color\": \"rgba(128, 128, 0, 0.8999999999999999)\", \"width\": 1}}, \"name\": \"Huawei\", \"orientation\": \"v\", \"text\": \"\", \"x\": [\"2015-01-01\", \"2016-01-01\", \"2017-01-01\", \"2018-01-01\", \"2019-01-01\"], \"y\": [\"\", \"\", 7.3, 8.4, 8.0], \"type\": \"bar\", \"uid\": \"16b232bd-b139-11e9-a3d8-e094674e0619\"}, {\"marker\": {\"color\": \"rgba(251, 128, 114, 0.6)\", \"line\": {\"color\": \"rgba(251, 128, 114, 0.8999999999999999)\", \"width\": 1}}, \"name\": \"Netflix\", \"orientation\": \"v\", \"text\": \"\", \"x\": [\"2015-01-01\", \"2016-01-01\", \"2017-01-01\", \"2018-01-01\", \"2019-01-01\"], \"y\": [\"\", \"\", 8.5, 11.5, 15.5], \"type\": \"bar\", \"uid\": \"16b232be-b139-11e9-8b78-e094674e0619\"}, {\"marker\": {\"color\": \"rgba(251, 128, 114, 0.6)\", \"line\": {\"color\": \"rgba(251, 128, 114, 0.7999999999999998)\", \"width\": 1}}, \"name\": \"Dell\", \"orientation\": \"v\", \"text\": \"\", \"x\": [\"2015-01-01\", \"2016-01-01\", \"2017-01-01\", \"2018-01-01\", \"2019-01-01\"], \"y\": [\"\", \"\", \"\", 7.5, 8.2], \"type\": \"bar\", \"uid\": \"16b232bf-b139-11e9-932e-e094674e0619\"}, {\"marker\": {\"color\": \"rgba(128, 177, 211, 0.6)\", \"line\": {\"color\": \"rgba(128, 177, 211, 0.7999999999999998)\", \"width\": 1}}, \"name\": \"PayPal\", \"orientation\": \"v\", \"text\": \"\", \"x\": [\"2015-01-01\", \"2016-01-01\", \"2017-01-01\", \"2018-01-01\", \"2019-01-01\"], \"y\": [\"\", \"\", \"\", 7.5, 9.1], \"type\": \"bar\", \"uid\": \"16b232c0-b139-11e9-a2cb-e094674e0619\"}], {\"legend\": {\"bgcolor\": \"#F5F6F9\", \"font\": {\"color\": \"#4D5663\"}}, \"paper_bgcolor\": \"#F5F6F9\", \"plot_bgcolor\": \"#F5F6F9\", \"title\": \"Most Valuable Brands per Year\", \"titlefont\": {\"color\": \"#4D5663\"}, \"xaxis\": {\"gridcolor\": \"#E1E5ED\", \"showgrid\": true, \"tickfont\": {\"color\": \"#4D5663\"}, \"title\": \"\", \"titlefont\": {\"color\": \"#4D5663\"}, \"zerolinecolor\": \"#E1E5ED\"}, \"yaxis\": {\"gridcolor\": \"#E1E5ED\", \"showgrid\": true, \"tickfont\": {\"color\": \"#4D5663\"}, \"title\": \"\", \"titlefont\": {\"color\": \"#4D5663\"}, \"zerolinecolor\": \"#E1E5ED\"}}, {\"showLink\": true, \"linkText\": \"Export to plot.ly\"})});</script>"
      ]
     },
     "metadata": {},
     "output_type": "display_data"
    }
   ],
   "source": [
    "cf.go_offline()\n",
    "\n",
    "forbes_df.iplot(kind = \"bar\", title = \"Most Valuable Brands per Year\")"
   ]
  },
  {
   "cell_type": "markdown",
   "metadata": {},
   "source": [
    "3. Now I used the same API and the same parameters to have a table as the one I already used, but in this case I will show s scatter plot to compare the brand values with another indicator that shows how much a Brand spends on Advertising and determine if there's a correlation between these two indicators"
   ]
  },
  {
   "cell_type": "code",
   "execution_count": 140,
   "metadata": {},
   "outputs": [
    {
     "data": {
      "text/html": [
       "<div>\n",
       "<style scoped>\n",
       "    .dataframe tbody tr th:only-of-type {\n",
       "        vertical-align: middle;\n",
       "    }\n",
       "\n",
       "    .dataframe tbody tr th {\n",
       "        vertical-align: top;\n",
       "    }\n",
       "\n",
       "    .dataframe thead tr th {\n",
       "        text-align: left;\n",
       "    }\n",
       "</style>\n",
       "<table border=\"1\" class=\"dataframe\">\n",
       "  <thead>\n",
       "    <tr>\n",
       "      <th>Industry</th>\n",
       "      <th>Technology</th>\n",
       "    </tr>\n",
       "    <tr>\n",
       "      <th>Brand</th>\n",
       "      <th>Facebook</th>\n",
       "    </tr>\n",
       "    <tr>\n",
       "      <th>Indicator</th>\n",
       "      <th>Brand Value ($bil)</th>\n",
       "    </tr>\n",
       "    <tr>\n",
       "      <th>Frequency</th>\n",
       "      <th>A</th>\n",
       "    </tr>\n",
       "  </thead>\n",
       "  <tbody>\n",
       "    <tr>\n",
       "      <th>2015-01-01</th>\n",
       "      <td>36.5</td>\n",
       "    </tr>\n",
       "    <tr>\n",
       "      <th>2016-01-01</th>\n",
       "      <td>52.6</td>\n",
       "    </tr>\n",
       "    <tr>\n",
       "      <th>2017-01-01</th>\n",
       "      <td>73.5</td>\n",
       "    </tr>\n",
       "    <tr>\n",
       "      <th>2018-01-01</th>\n",
       "      <td>94.8</td>\n",
       "    </tr>\n",
       "    <tr>\n",
       "      <th>2019-01-01</th>\n",
       "      <td>88.9</td>\n",
       "    </tr>\n",
       "  </tbody>\n",
       "</table>\n",
       "</div>"
      ],
      "text/plain": [
       "Industry           Technology\n",
       "Brand                Facebook\n",
       "Indicator  Brand Value ($bil)\n",
       "Frequency                   A\n",
       "2015-01-01               36.5\n",
       "2016-01-01               52.6\n",
       "2017-01-01               73.5\n",
       "2018-01-01               94.8\n",
       "2019-01-01               88.9"
      ]
     },
     "execution_count": 140,
     "metadata": {},
     "output_type": "execute_result"
    }
   ],
   "source": [
    "facebook_brand_values = knoema.get('ynmtjnc',\n",
    "                      timerange='2015-2019',\n",
    "                      frequency='A',\n",
    "                      Industry='KN.B1',\n",
    "                      Brand='KN.A73', Indicator='KN.C1')\n",
    "facebook_brand_values"
   ]
  },
  {
   "cell_type": "code",
   "execution_count": 141,
   "metadata": {},
   "outputs": [
    {
     "data": {
      "text/plain": [
       "DatetimeIndex(['2015-01-01', '2016-01-01', '2017-01-01', '2018-01-01',\n",
       "               '2019-01-01'],\n",
       "              dtype='datetime64[ns]', name='Date', freq=None)"
      ]
     },
     "execution_count": 141,
     "metadata": {},
     "output_type": "execute_result"
    }
   ],
   "source": [
    "columnas = facebook_brand_values.columns\n",
    "columnas= [c[1] for c in columnas]\n",
    "facebook_brand_values.columns = columnas\n",
    "facebook_brand_values.index.name = \"Date\"\n",
    "facebook_brand_values.index"
   ]
  },
  {
   "cell_type": "code",
   "execution_count": 142,
   "metadata": {},
   "outputs": [
    {
     "data": {
      "text/html": [
       "<div>\n",
       "<style scoped>\n",
       "    .dataframe tbody tr th:only-of-type {\n",
       "        vertical-align: middle;\n",
       "    }\n",
       "\n",
       "    .dataframe tbody tr th {\n",
       "        vertical-align: top;\n",
       "    }\n",
       "\n",
       "    .dataframe thead tr th {\n",
       "        text-align: left;\n",
       "    }\n",
       "</style>\n",
       "<table border=\"1\" class=\"dataframe\">\n",
       "  <thead>\n",
       "    <tr>\n",
       "      <th>Industry</th>\n",
       "      <th>Technology</th>\n",
       "    </tr>\n",
       "    <tr>\n",
       "      <th>Brand</th>\n",
       "      <th>Facebook</th>\n",
       "    </tr>\n",
       "    <tr>\n",
       "      <th>Indicator</th>\n",
       "      <th>Company Advertising ($bil)</th>\n",
       "    </tr>\n",
       "    <tr>\n",
       "      <th>Frequency</th>\n",
       "      <th>A</th>\n",
       "    </tr>\n",
       "  </thead>\n",
       "  <tbody>\n",
       "    <tr>\n",
       "      <th>2015-01-01</th>\n",
       "      <td>0.135</td>\n",
       "    </tr>\n",
       "    <tr>\n",
       "      <th>2016-01-01</th>\n",
       "      <td>0.281</td>\n",
       "    </tr>\n",
       "    <tr>\n",
       "      <th>2017-01-01</th>\n",
       "      <td>0.310</td>\n",
       "    </tr>\n",
       "    <tr>\n",
       "      <th>2018-01-01</th>\n",
       "      <td>0.324</td>\n",
       "    </tr>\n",
       "    <tr>\n",
       "      <th>2019-01-01</th>\n",
       "      <td>1.100</td>\n",
       "    </tr>\n",
       "  </tbody>\n",
       "</table>\n",
       "</div>"
      ],
      "text/plain": [
       "Industry                   Technology\n",
       "Brand                        Facebook\n",
       "Indicator  Company Advertising ($bil)\n",
       "Frequency                           A\n",
       "2015-01-01                      0.135\n",
       "2016-01-01                      0.281\n",
       "2017-01-01                      0.310\n",
       "2018-01-01                      0.324\n",
       "2019-01-01                      1.100"
      ]
     },
     "execution_count": 142,
     "metadata": {},
     "output_type": "execute_result"
    }
   ],
   "source": [
    "#Getting the new indicator: Company Advertising\n",
    "facebook_adv_spending = knoema.get('ynmtjnc',\n",
    "                                   timerange='2015-2019',\n",
    "                                   frequency='A',\n",
    "                                   Industry='KN.B1',\n",
    "                                   Brand='KN.A73',\n",
    "                                   Indicator='KN.C5')\n",
    "\n",
    "facebook_adv_spending"
   ]
  },
  {
   "cell_type": "code",
   "execution_count": 143,
   "metadata": {},
   "outputs": [],
   "source": [
    "columnas = facebook_adv_spending.columns\n",
    "columnas = [c[1] for c in facebook_adv_spending]\n",
    "facebook_adv_spending.columns = columnas"
   ]
  },
  {
   "cell_type": "code",
   "execution_count": 144,
   "metadata": {},
   "outputs": [
    {
     "data": {
      "text/plain": [
       "DatetimeIndex(['2015-01-01', '2016-01-01', '2017-01-01', '2018-01-01',\n",
       "               '2019-01-01'],\n",
       "              dtype='datetime64[ns]', name='Date', freq=None)"
      ]
     },
     "execution_count": 144,
     "metadata": {},
     "output_type": "execute_result"
    }
   ],
   "source": [
    "facebook_adv_spending.index.name = \"Date\"\n",
    "facebook_adv_spending.index"
   ]
  },
  {
   "cell_type": "code",
   "execution_count": 145,
   "metadata": {},
   "outputs": [],
   "source": [
    "#Here I created a new table using the Date as the index to have the Brand Values and the Advertising Spending on the same table\n",
    "facebook_scatter = pd.merge(facebook_adv_spending, facebook_brand_values, how = \"inner\", on = \"Date\")\n",
    "\n",
    "facebook_scatter.columns = [\"company_advertising\", \"brand_value\"]"
   ]
  },
  {
   "cell_type": "markdown",
   "metadata": {},
   "source": [
    "4. Finally showing the relation between the two indicators"
   ]
  },
  {
   "cell_type": "code",
   "execution_count": 153,
   "metadata": {},
   "outputs": [
    {
     "data": {
      "text/plain": [
       "<matplotlib.collections.PathCollection at 0x247566f5f28>"
      ]
     },
     "execution_count": 153,
     "metadata": {},
     "output_type": "execute_result"
    },
    {
     "data": {
      "image/png": "[encoded data removed]",
      "text/plain": [
       "<Figure size 1080x720 with 1 Axes>"
      ]
     },
     "metadata": {},
     "output_type": "display_data"
    }
   ],
   "source": [
    "plt.figure(figsize=(15,10))\n",
    "plt.subplot(1, 2, 1)\n",
    "\n",
    "plt.title(\"Facebook Brand Value vs Company Advertising\")\n",
    "plt.xlabel(\"Company Advertising\")\n",
    "plt.ylabel(\"Brand Value\")\n",
    "plt.scatter(facebook_scatter[\"company_advertising\"], facebook_scatter[\"brand_value\"])"
   ]
  },
  {
   "cell_type": "markdown",
   "metadata": {},
   "source": [
    "5. Now I'm changing to a new DataFrame that is about the accidents reported on UK from 2005 to 2015"
   ]
  },
  {
   "cell_type": "code",
   "execution_count": 154,
   "metadata": {},
   "outputs": [],
   "source": [
    "#This is a function that is going to convert an integer from the column of Day of Week and is going to change it to the name\n",
    "#of the week that corresponds to it\n",
    "def change_day_of_week(col):\n",
    "    if col is 1:\n",
    "        return \"Sunday\"\n",
    "    elif col is 2:\n",
    "        return \"Monday\"\n",
    "    elif col is 3:\n",
    "        return \"Tuesday\"\n",
    "    elif col is 4:\n",
    "        return \"Wednesday\"\n",
    "    elif col is 5:\n",
    "        return \"Thursday\"\n",
    "    elif col is 6:\n",
    "        return \"Friday\"\n",
    "    else:\n",
    "        return \"Saturday\"\n",
    "    \n"
   ]
  },
  {
   "cell_type": "code",
   "execution_count": 155,
   "metadata": {},
   "outputs": [],
   "source": [
    "#Now I'm getting the DataFrame from a csv and applying the function to the column and creating a new column where \n",
    "#I store the names of the days of the week\n",
    "hist_df = pd.read_csv(\"Accidents0515.csv\")\n",
    "\n",
    "hist_df[\"Day_of_Week_1\"] = hist_df[\"Day_of_Week\"].apply(change_day_of_week)\n",
    "\n",
    "hist_df_pie = hist_df.groupby(\"Day_of_Week_1\")[\"Accident_Index\"].count()\n",
    "\n",
    "hist_df_pie = hist_df_pie.reset_index()\n"
   ]
  },
  {
   "cell_type": "markdown",
   "metadata": {},
   "source": [
    "6. Now I'm using a pie chart to show the ocurrencies of accidents per day of week to visualize which day of the week has the more accidents"
   ]
  },
  {
   "cell_type": "code",
   "execution_count": 166,
   "metadata": {},
   "outputs": [
    {
     "data": {
      "text/plain": [
       "Text(0.5, 1.0, 'Days of the Week with more accidents on UK\\n 2005-2015')"
      ]
     },
     "execution_count": 166,
     "metadata": {},
     "output_type": "execute_result"
    },
    {
     "data": {
      "image/png": "[encoded data removed]",
      "text/plain": [
       "<Figure size 1080x720 with 1 Axes>"
      ]
     },
     "metadata": {},
     "output_type": "display_data"
    },
    {
     "data": {
      "image/png": "[encoded data removed]",
      "text/plain": [
       "<Figure size 1080x720 with 1 Axes>"
      ]
     },
     "metadata": {},
     "output_type": "display_data"
    }
   ],
   "source": [
    "plt.subplot(1, 2, 2)\n",
    "\n",
    "plt.figure(figsize=(15,10))\n",
    "\n",
    "plt.pie(hist_df_pie[\"Accident_Index\"], labels = hist_df_pie[\"Day_of_Week_1\"], autopct = \"%1.1f%%\", shadow = True)\n",
    "\n",
    "plt.axis('equal')\n",
    "\n",
    "plt.title(\"Days of the Week with more accidents on UK\\n 2005-2015\")"
   ]
  },
  {
   "cell_type": "markdown",
   "metadata": {},
   "source": [
    "7. And finally I'm showing a boxplot graph to show the mean for the number of vehicles that were involved on an accident and grouped by day of week."
   ]
  },
  {
   "cell_type": "code",
   "execution_count": 173,
   "metadata": {},
   "outputs": [
    {
     "name": "stdout",
     "output_type": "stream",
     "text": [
      "Day_of_Week_1\n",
      "Friday       1.848390\n",
      "Monday       1.841126\n",
      "Saturday     1.782670\n",
      "Sunday       1.780567\n",
      "Thursday     1.849339\n",
      "Tuesday      1.850528\n",
      "Wednesday    1.851522\n",
      "Name: Number_of_Vehicles, dtype: float64\n"
     ]
    },
    {
     "data": {
      "image/png": "[encoded data removed]",
      "text/plain": [
       "<Figure size 1080x720 with 1 Axes>"
      ]
     },
     "metadata": {},
     "output_type": "display_data"
    }
   ],
   "source": [
    "graph_mean = sns.boxplot(x = \"Day_of_Week_1\", y = \"Number_of_Vehicles\", data = hist_df)\n",
    "sns.set(rc={'figure.figsize':(15,10)})\n",
    "graph_mean.set_title(\"Boxplot for Number of Vehicles in Accidents per Day of week\")\n",
    "\n",
    "average_accidents = hist_df.groupby(\"Day_of_Week_1\").Number_of_Vehicles.mean()\n",
    "print(average_accidents)"
   ]
  },
  {
   "cell_type": "code",
   "execution_count": null,
   "metadata": {},
   "outputs": [],
   "source": []
  }
 ],
 "metadata": {
  "kernelspec": {
   "display_name": "Python 3",
   "language": "python",
   "name": "python3"
  },
  "language_info": {
   "codemirror_mode": {
    "name": "ipython",
    "version": 3
   },
   "file_extension": ".py",
   "mimetype": "text/x-python",
   "name": "python",
   "nbconvert_exporter": "python",
   "pygments_lexer": "ipython3",
   "version": "3.7.3"
  }
 },
 "nbformat": 4,
 "nbformat_minor": 2
}
