{
 "cells": [
  {
   "cell_type": "code",
   "execution_count": 1,
   "metadata": {},
   "outputs": [],
   "source": [
    "import pandas as pd\n",
    "import numpy as np\n",
    "import os\n",
    "import matplotlib.pyplot as plt\n",
    "%matplotlib inline\n",
    "import seaborn as sns"
   ]
  },
  {
   "cell_type": "code",
   "execution_count": 2,
   "metadata": {},
   "outputs": [
    {
     "data": {
      "text/html": [
       "<div>\n",
       "<style scoped>\n",
       "    .dataframe tbody tr th:only-of-type {\n",
       "        vertical-align: middle;\n",
       "    }\n",
       "\n",
       "    .dataframe tbody tr th {\n",
       "        vertical-align: top;\n",
       "    }\n",
       "\n",
       "    .dataframe thead th {\n",
       "        text-align: right;\n",
       "    }\n",
       "</style>\n",
       "<table border=\"1\" class=\"dataframe\">\n",
       "  <thead>\n",
       "    <tr style=\"text-align: right;\">\n",
       "      <th></th>\n",
       "      <th>anio</th>\n",
       "      <th>clave_entidad</th>\n",
       "      <th>entidad</th>\n",
       "      <th>cultivo</th>\n",
       "      <th>produccion_ton</th>\n",
       "      <th>superficie_sembrada_ha</th>\n",
       "      <th>rendimiento</th>\n",
       "      <th>precio_ton</th>\n",
       "    </tr>\n",
       "  </thead>\n",
       "  <tbody>\n",
       "    <tr>\n",
       "      <th>0</th>\n",
       "      <td>2015</td>\n",
       "      <td>01</td>\n",
       "      <td>Aguascalientes</td>\n",
       "      <td>Maíz grano</td>\n",
       "      <td>60309.42</td>\n",
       "      <td>37209.50</td>\n",
       "      <td>1.620807</td>\n",
       "      <td>3371.589253</td>\n",
       "    </tr>\n",
       "    <tr>\n",
       "      <th>1</th>\n",
       "      <td>2015</td>\n",
       "      <td>01</td>\n",
       "      <td>Aguascalientes</td>\n",
       "      <td>Naranja</td>\n",
       "      <td>14.00</td>\n",
       "      <td>2.00</td>\n",
       "      <td>7.000000</td>\n",
       "      <td>2200.000000</td>\n",
       "    </tr>\n",
       "    <tr>\n",
       "      <th>2</th>\n",
       "      <td>2015</td>\n",
       "      <td>02</td>\n",
       "      <td>Baja California</td>\n",
       "      <td>Algodón hueso</td>\n",
       "      <td>93432.24</td>\n",
       "      <td>18957.00</td>\n",
       "      <td>4.928641</td>\n",
       "      <td>7350.590000</td>\n",
       "    </tr>\n",
       "    <tr>\n",
       "      <th>3</th>\n",
       "      <td>2015</td>\n",
       "      <td>02</td>\n",
       "      <td>Baja California</td>\n",
       "      <td>Maíz grano</td>\n",
       "      <td>1779.46</td>\n",
       "      <td>368.00</td>\n",
       "      <td>4.835489</td>\n",
       "      <td>3907.743804</td>\n",
       "    </tr>\n",
       "    <tr>\n",
       "      <th>4</th>\n",
       "      <td>2015</td>\n",
       "      <td>02</td>\n",
       "      <td>Baja California</td>\n",
       "      <td>Naranja</td>\n",
       "      <td>3260.35</td>\n",
       "      <td>265.50</td>\n",
       "      <td>12.280038</td>\n",
       "      <td>3481.529848</td>\n",
       "    </tr>\n",
       "    <tr>\n",
       "      <th>...</th>\n",
       "      <td>...</td>\n",
       "      <td>...</td>\n",
       "      <td>...</td>\n",
       "      <td>...</td>\n",
       "      <td>...</td>\n",
       "      <td>...</td>\n",
       "      <td>...</td>\n",
       "      <td>...</td>\n",
       "    </tr>\n",
       "    <tr>\n",
       "      <th>254</th>\n",
       "      <td>2018</td>\n",
       "      <td>30</td>\n",
       "      <td>Veracruz</td>\n",
       "      <td>Maíz grano</td>\n",
       "      <td>1234572.12</td>\n",
       "      <td>570418.00</td>\n",
       "      <td>2.164329</td>\n",
       "      <td>4050.934012</td>\n",
       "    </tr>\n",
       "    <tr>\n",
       "      <th>255</th>\n",
       "      <td>2018</td>\n",
       "      <td>30</td>\n",
       "      <td>Veracruz</td>\n",
       "      <td>Naranja</td>\n",
       "      <td>2508486.48</td>\n",
       "      <td>169531.00</td>\n",
       "      <td>14.796624</td>\n",
       "      <td>1876.276161</td>\n",
       "    </tr>\n",
       "    <tr>\n",
       "      <th>256</th>\n",
       "      <td>2018</td>\n",
       "      <td>31</td>\n",
       "      <td>Yucatán</td>\n",
       "      <td>Maíz grano</td>\n",
       "      <td>124858.07</td>\n",
       "      <td>114727.72</td>\n",
       "      <td>1.088299</td>\n",
       "      <td>4180.296029</td>\n",
       "    </tr>\n",
       "    <tr>\n",
       "      <th>257</th>\n",
       "      <td>2018</td>\n",
       "      <td>31</td>\n",
       "      <td>Yucatán</td>\n",
       "      <td>Naranja</td>\n",
       "      <td>148344.59</td>\n",
       "      <td>11661.86</td>\n",
       "      <td>12.720491</td>\n",
       "      <td>2499.291576</td>\n",
       "    </tr>\n",
       "    <tr>\n",
       "      <th>258</th>\n",
       "      <td>2018</td>\n",
       "      <td>32</td>\n",
       "      <td>Zacatecas</td>\n",
       "      <td>Maíz grano</td>\n",
       "      <td>402221.15</td>\n",
       "      <td>197242.00</td>\n",
       "      <td>2.039227</td>\n",
       "      <td>3983.264920</td>\n",
       "    </tr>\n",
       "  </tbody>\n",
       "</table>\n",
       "<p>259 rows × 8 columns</p>\n",
       "</div>"
      ],
      "text/plain": [
       "     anio clave_entidad          entidad        cultivo  produccion_ton  \\\n",
       "0    2015            01   Aguascalientes     Maíz grano        60309.42   \n",
       "1    2015            01   Aguascalientes        Naranja           14.00   \n",
       "2    2015            02  Baja California  Algodón hueso        93432.24   \n",
       "3    2015            02  Baja California     Maíz grano         1779.46   \n",
       "4    2015            02  Baja California        Naranja         3260.35   \n",
       "..    ...           ...              ...            ...             ...   \n",
       "254  2018            30         Veracruz     Maíz grano      1234572.12   \n",
       "255  2018            30         Veracruz        Naranja      2508486.48   \n",
       "256  2018            31          Yucatán     Maíz grano       124858.07   \n",
       "257  2018            31          Yucatán        Naranja       148344.59   \n",
       "258  2018            32        Zacatecas     Maíz grano       402221.15   \n",
       "\n",
       "     superficie_sembrada_ha  rendimiento   precio_ton  \n",
       "0                  37209.50     1.620807  3371.589253  \n",
       "1                      2.00     7.000000  2200.000000  \n",
       "2                  18957.00     4.928641  7350.590000  \n",
       "3                    368.00     4.835489  3907.743804  \n",
       "4                    265.50    12.280038  3481.529848  \n",
       "..                      ...          ...          ...  \n",
       "254               570418.00     2.164329  4050.934012  \n",
       "255               169531.00    14.796624  1876.276161  \n",
       "256               114727.72     1.088299  4180.296029  \n",
       "257                11661.86    12.720491  2499.291576  \n",
       "258               197242.00     2.039227  3983.264920  \n",
       "\n",
       "[259 rows x 8 columns]"
      ]
     },
     "execution_count": 2,
     "metadata": {},
     "output_type": "execute_result"
    }
   ],
   "source": [
    "#Cultivos\n",
    "\n",
    "file_names = [f for f in os.listdir('./data_agricola') if f.endswith ('.csv')]\n",
    "tables = [pd.read_csv(os.path.join('./data_agricola', f), encoding = \"ISO-8859-1\", low_memory=False) for f in file_names]\n",
    "data1_cul = pd.concat(tables, axis = 0)\n",
    "data2_cul = data1_cul.rename(columns={'Anio':'anio',\n",
    "                              'Idestado':'clave_entidad',\n",
    "                              'Nomestado':'entidad',\n",
    "                              'Idmunicipio':'clave_municipio',\n",
    "                              'Nommunicipio':'municipio',\n",
    "                              'Nomcultivo':'cultivo',\n",
    "                              'Sembrada':'superficie_sembrada_ha',\n",
    "                              'Volumenproduccion':'produccion_ton',\n",
    "                              'Valorproduccion':'valor_produccion'})\n",
    "data3_cul = data2_cul[['anio', 'clave_entidad', 'entidad', 'clave_municipio', 'municipio', 'cultivo', 'produccion_ton',\n",
    "                       'superficie_sembrada_ha', 'valor_produccion']]\n",
    "data4_cul = data3_cul.loc[(data3_cul.cultivo == 'Maíz grano') | (data3_cul.cultivo == 'Algodón hueso') | (data3_cul.cultivo == 'Naranja')]\n",
    "\n",
    "dataset1_cul = pd.DataFrame(data4_cul)\n",
    "dataset1_cul['anio'] = dataset1_cul['anio'].astype(str)\n",
    "dataset1_cul['clave_entidad'] = dataset1_cul['clave_entidad'].astype(str).str.zfill(2)\n",
    "dataset1_cul['clave_municipio'] = dataset1_cul['clave_municipio'].astype(str).str.zfill(3)\n",
    "dataset1_cul['clave_municipio'] = dataset1_cul['clave_entidad'] + dataset1_cul['clave_municipio']\n",
    "dataset2_cul = dataset1_cul.groupby(['anio', 'clave_entidad', 'entidad', 'cultivo'], as_index=False).sum()\n",
    "dataset2_cul['rendimiento'] = dataset2_cul['produccion_ton']/dataset2_cul['superficie_sembrada_ha']\n",
    "dataset2_cul['precio_ton'] = dataset2_cul['valor_produccion']/dataset2_cul['produccion_ton']\n",
    "\n",
    "dataset_cul = dataset2_cul[['anio', 'clave_entidad', 'entidad', 'cultivo', 'produccion_ton', 'superficie_sembrada_ha',\n",
    "                            'rendimiento','precio_ton']]\n",
    "dataset_cul"
   ]
  },
  {
   "cell_type": "code",
   "execution_count": 3,
   "metadata": {},
   "outputs": [
    {
     "data": {
      "text/html": [
       "<div>\n",
       "<style scoped>\n",
       "    .dataframe tbody tr th:only-of-type {\n",
       "        vertical-align: middle;\n",
       "    }\n",
       "\n",
       "    .dataframe tbody tr th {\n",
       "        vertical-align: top;\n",
       "    }\n",
       "\n",
       "    .dataframe thead th {\n",
       "        text-align: right;\n",
       "    }\n",
       "</style>\n",
       "<table border=\"1\" class=\"dataframe\">\n",
       "  <thead>\n",
       "    <tr style=\"text-align: right;\">\n",
       "      <th></th>\n",
       "      <th>anio</th>\n",
       "      <th>clave_entidad</th>\n",
       "      <th>entidad</th>\n",
       "      <th>poblacion</th>\n",
       "    </tr>\n",
       "  </thead>\n",
       "  <tbody>\n",
       "    <tr>\n",
       "      <th>0</th>\n",
       "      <td>2015</td>\n",
       "      <td>01</td>\n",
       "      <td>Aguascalientes</td>\n",
       "      <td>1331825</td>\n",
       "    </tr>\n",
       "    <tr>\n",
       "      <th>1</th>\n",
       "      <td>2015</td>\n",
       "      <td>02</td>\n",
       "      <td>Baja California</td>\n",
       "      <td>3357794</td>\n",
       "    </tr>\n",
       "    <tr>\n",
       "      <th>2</th>\n",
       "      <td>2015</td>\n",
       "      <td>03</td>\n",
       "      <td>Baja California Sur</td>\n",
       "      <td>719846</td>\n",
       "    </tr>\n",
       "    <tr>\n",
       "      <th>3</th>\n",
       "      <td>2015</td>\n",
       "      <td>04</td>\n",
       "      <td>Campeche</td>\n",
       "      <td>916832</td>\n",
       "    </tr>\n",
       "    <tr>\n",
       "      <th>4</th>\n",
       "      <td>2015</td>\n",
       "      <td>05</td>\n",
       "      <td>Coahuila</td>\n",
       "      <td>3000556</td>\n",
       "    </tr>\n",
       "    <tr>\n",
       "      <th>...</th>\n",
       "      <td>...</td>\n",
       "      <td>...</td>\n",
       "      <td>...</td>\n",
       "      <td>...</td>\n",
       "    </tr>\n",
       "    <tr>\n",
       "      <th>123</th>\n",
       "      <td>2018</td>\n",
       "      <td>28</td>\n",
       "      <td>Tamaulipas</td>\n",
       "      <td>3590486</td>\n",
       "    </tr>\n",
       "    <tr>\n",
       "      <th>124</th>\n",
       "      <td>2018</td>\n",
       "      <td>29</td>\n",
       "      <td>Tlaxcala</td>\n",
       "      <td>1329788</td>\n",
       "    </tr>\n",
       "    <tr>\n",
       "      <th>125</th>\n",
       "      <td>2018</td>\n",
       "      <td>30</td>\n",
       "      <td>Veracruz</td>\n",
       "      <td>8323640</td>\n",
       "    </tr>\n",
       "    <tr>\n",
       "      <th>126</th>\n",
       "      <td>2018</td>\n",
       "      <td>31</td>\n",
       "      <td>Yucatán</td>\n",
       "      <td>2208236</td>\n",
       "    </tr>\n",
       "    <tr>\n",
       "      <th>127</th>\n",
       "      <td>2018</td>\n",
       "      <td>32</td>\n",
       "      <td>Zacatecas</td>\n",
       "      <td>1642388</td>\n",
       "    </tr>\n",
       "  </tbody>\n",
       "</table>\n",
       "<p>128 rows × 4 columns</p>\n",
       "</div>"
      ],
      "text/plain": [
       "     anio clave_entidad              entidad  poblacion\n",
       "0    2015            01       Aguascalientes    1331825\n",
       "1    2015            02      Baja California    3357794\n",
       "2    2015            03  Baja California Sur     719846\n",
       "3    2015            04             Campeche     916832\n",
       "4    2015            05             Coahuila    3000556\n",
       "..    ...           ...                  ...        ...\n",
       "123  2018            28           Tamaulipas    3590486\n",
       "124  2018            29             Tlaxcala    1329788\n",
       "125  2018            30             Veracruz    8323640\n",
       "126  2018            31              Yucatán    2208236\n",
       "127  2018            32            Zacatecas    1642388\n",
       "\n",
       "[128 rows x 4 columns]"
      ]
     },
     "execution_count": 3,
     "metadata": {},
     "output_type": "execute_result"
    }
   ],
   "source": [
    "#Población\n",
    "\n",
    "data1_pob = pd.read_csv('poblacion_municipal_2015-2030.csv', encoding = \"ISO-8859-1\", low_memory=False)\n",
    "data2_pob = data1_pob.rename(columns={'Año':'anio',\n",
    "                              'Clave Entidad':'clave_entidad',\n",
    "                              'Entidad':'entidad',\n",
    "                              'Clave Municipio':'clave_municipio',\n",
    "                              'Municipio':'municipio',\n",
    "                              'Género':'genero',\n",
    "                              'Rango de edad':'rango_edad',\n",
    "                              'Población':'poblacion'})\n",
    "dataset1_pob = pd.DataFrame(data2_pob)\n",
    "dataset1_pob['anio'] = dataset1_pob['anio'].astype(str)\n",
    "dataset1_pob['clave_entidad'] = dataset1_pob['clave_entidad'].astype(str).str.zfill(2)\n",
    "dataset1_pob['clave_municipio'] = dataset1_pob['clave_municipio'].astype(str).str.zfill(3)\n",
    "dataset2_pob = dataset1_pob.loc[(dataset1_pob.anio == '2015') | (dataset1_pob.anio == '2016') | (dataset1_pob.anio == '2017') | (dataset1_pob.anio == '2018')]\n",
    "\n",
    "dataset_pob = dataset2_pob.groupby(['anio', 'clave_entidad', 'entidad'], as_index=False).sum()\n",
    "dataset_pob"
   ]
  },
  {
   "cell_type": "code",
   "execution_count": 4,
   "metadata": {},
   "outputs": [
    {
     "data": {
      "text/html": [
       "<div>\n",
       "<style scoped>\n",
       "    .dataframe tbody tr th:only-of-type {\n",
       "        vertical-align: middle;\n",
       "    }\n",
       "\n",
       "    .dataframe tbody tr th {\n",
       "        vertical-align: top;\n",
       "    }\n",
       "\n",
       "    .dataframe thead th {\n",
       "        text-align: right;\n",
       "    }\n",
       "</style>\n",
       "<table border=\"1\" class=\"dataframe\">\n",
       "  <thead>\n",
       "    <tr style=\"text-align: right;\">\n",
       "      <th></th>\n",
       "      <th>anio</th>\n",
       "      <th>clave_entidad</th>\n",
       "      <th>entidad</th>\n",
       "      <th>temperatura_promedio_anual</th>\n",
       "    </tr>\n",
       "  </thead>\n",
       "  <tbody>\n",
       "    <tr>\n",
       "      <th>24</th>\n",
       "      <td>2015</td>\n",
       "      <td>01</td>\n",
       "      <td>Aguascalientes</td>\n",
       "      <td>17.700000</td>\n",
       "    </tr>\n",
       "    <tr>\n",
       "      <th>25</th>\n",
       "      <td>2016</td>\n",
       "      <td>01</td>\n",
       "      <td>Aguascalientes</td>\n",
       "      <td>18.475000</td>\n",
       "    </tr>\n",
       "    <tr>\n",
       "      <th>26</th>\n",
       "      <td>2017</td>\n",
       "      <td>01</td>\n",
       "      <td>Aguascalientes</td>\n",
       "      <td>18.308333</td>\n",
       "    </tr>\n",
       "    <tr>\n",
       "      <th>33</th>\n",
       "      <td>2018</td>\n",
       "      <td>01</td>\n",
       "      <td>Aguascalientes</td>\n",
       "      <td>0.000000</td>\n",
       "    </tr>\n",
       "    <tr>\n",
       "      <th>58</th>\n",
       "      <td>2015</td>\n",
       "      <td>02</td>\n",
       "      <td>Baja California</td>\n",
       "      <td>20.900000</td>\n",
       "    </tr>\n",
       "    <tr>\n",
       "      <th>...</th>\n",
       "      <td>...</td>\n",
       "      <td>...</td>\n",
       "      <td>...</td>\n",
       "      <td>...</td>\n",
       "    </tr>\n",
       "    <tr>\n",
       "      <th>1087</th>\n",
       "      <td>2018</td>\n",
       "      <td>31</td>\n",
       "      <td>Yucatán</td>\n",
       "      <td>0.000000</td>\n",
       "    </tr>\n",
       "    <tr>\n",
       "      <th>1112</th>\n",
       "      <td>2015</td>\n",
       "      <td>32</td>\n",
       "      <td>Zacatecas</td>\n",
       "      <td>17.400000</td>\n",
       "    </tr>\n",
       "    <tr>\n",
       "      <th>1113</th>\n",
       "      <td>2016</td>\n",
       "      <td>32</td>\n",
       "      <td>Zacatecas</td>\n",
       "      <td>17.400000</td>\n",
       "    </tr>\n",
       "    <tr>\n",
       "      <th>1114</th>\n",
       "      <td>2017</td>\n",
       "      <td>32</td>\n",
       "      <td>Zacatecas</td>\n",
       "      <td>17.891667</td>\n",
       "    </tr>\n",
       "    <tr>\n",
       "      <th>1121</th>\n",
       "      <td>2018</td>\n",
       "      <td>32</td>\n",
       "      <td>Zacatecas</td>\n",
       "      <td>0.000000</td>\n",
       "    </tr>\n",
       "  </tbody>\n",
       "</table>\n",
       "<p>132 rows × 4 columns</p>\n",
       "</div>"
      ],
      "text/plain": [
       "      anio clave_entidad          entidad  temperatura_promedio_anual\n",
       "24    2015            01   Aguascalientes                   17.700000\n",
       "25    2016            01   Aguascalientes                   18.475000\n",
       "26    2017            01   Aguascalientes                   18.308333\n",
       "33    2018            01   Aguascalientes                    0.000000\n",
       "58    2015            02  Baja California                   20.900000\n",
       "...    ...           ...              ...                         ...\n",
       "1087  2018            31          Yucatán                    0.000000\n",
       "1112  2015            32        Zacatecas                   17.400000\n",
       "1113  2016            32        Zacatecas                   17.400000\n",
       "1114  2017            32        Zacatecas                   17.891667\n",
       "1121  2018            32        Zacatecas                    0.000000\n",
       "\n",
       "[132 rows x 4 columns]"
      ]
     },
     "execution_count": 4,
     "metadata": {},
     "output_type": "execute_result"
    }
   ],
   "source": [
    "#Temperatura\n",
    "\n",
    "data1_temp = pd.read_csv('temperatura_promedio_1985-2018.csv', encoding = \"ISO-8859-1\", low_memory=False)\n",
    "data2_temp = data1_temp.rename(columns={'Año':'anio',\n",
    "                             'Clave Entidad':'clave_entidad',\n",
    "                             'Entidad':'entidad',\n",
    "                             'Anual':'temperatura_promedio_anual'})\n",
    "data3_temp = data2_temp[['anio', 'clave_entidad', 'entidad', 'temperatura_promedio_anual']]\n",
    "dataset1_temp = pd.DataFrame(data3_temp)\n",
    "dataset1_temp['anio'] = dataset1_temp['anio'].astype(str)\n",
    "dataset1_temp['clave_entidad'] = dataset1_temp['clave_entidad'].fillna(0)\n",
    "dataset1_temp['clave_entidad'] = dataset1_temp['clave_entidad'].astype(int)\n",
    "dataset1_temp['clave_entidad'] = dataset1_temp['clave_entidad'].astype(str).str.zfill(2)\n",
    "dataset1_temp['temperatura_promedio_anual'] = dataset1_temp['temperatura_promedio_anual'].fillna(0)\n",
    "\n",
    "dataset_temp = dataset1_temp.loc[(dataset1_temp.anio == '2015') | (dataset1_temp.anio == '2016') | (dataset1_temp.anio == '2017') | (dataset1_temp.anio == '2018')]\n",
    "dataset_temp"
   ]
  },
  {
   "cell_type": "code",
   "execution_count": 5,
   "metadata": {},
   "outputs": [
    {
     "data": {
      "text/html": [
       "<div>\n",
       "<style scoped>\n",
       "    .dataframe tbody tr th:only-of-type {\n",
       "        vertical-align: middle;\n",
       "    }\n",
       "\n",
       "    .dataframe tbody tr th {\n",
       "        vertical-align: top;\n",
       "    }\n",
       "\n",
       "    .dataframe thead th {\n",
       "        text-align: right;\n",
       "    }\n",
       "</style>\n",
       "<table border=\"1\" class=\"dataframe\">\n",
       "  <thead>\n",
       "    <tr style=\"text-align: right;\">\n",
       "      <th></th>\n",
       "      <th>anio</th>\n",
       "      <th>clave_entidad</th>\n",
       "      <th>entidad</th>\n",
       "      <th>cultivo</th>\n",
       "      <th>produccion_ton</th>\n",
       "      <th>superficie_sembrada_ha</th>\n",
       "      <th>rendimiento</th>\n",
       "      <th>precio_ton</th>\n",
       "      <th>poblacion</th>\n",
       "      <th>temperatura_promedio_anual</th>\n",
       "    </tr>\n",
       "  </thead>\n",
       "  <tbody>\n",
       "    <tr>\n",
       "      <th>0</th>\n",
       "      <td>2015</td>\n",
       "      <td>01</td>\n",
       "      <td>Aguascalientes</td>\n",
       "      <td>Maíz grano</td>\n",
       "      <td>60309.42</td>\n",
       "      <td>37209.50</td>\n",
       "      <td>1.620807</td>\n",
       "      <td>3371.589253</td>\n",
       "      <td>1331825</td>\n",
       "      <td>17.7</td>\n",
       "    </tr>\n",
       "    <tr>\n",
       "      <th>1</th>\n",
       "      <td>2015</td>\n",
       "      <td>01</td>\n",
       "      <td>Aguascalientes</td>\n",
       "      <td>Naranja</td>\n",
       "      <td>14.00</td>\n",
       "      <td>2.00</td>\n",
       "      <td>7.000000</td>\n",
       "      <td>2200.000000</td>\n",
       "      <td>1331825</td>\n",
       "      <td>17.7</td>\n",
       "    </tr>\n",
       "    <tr>\n",
       "      <th>2</th>\n",
       "      <td>2015</td>\n",
       "      <td>02</td>\n",
       "      <td>Baja California</td>\n",
       "      <td>Algodón hueso</td>\n",
       "      <td>93432.24</td>\n",
       "      <td>18957.00</td>\n",
       "      <td>4.928641</td>\n",
       "      <td>7350.590000</td>\n",
       "      <td>3357794</td>\n",
       "      <td>20.9</td>\n",
       "    </tr>\n",
       "    <tr>\n",
       "      <th>3</th>\n",
       "      <td>2015</td>\n",
       "      <td>02</td>\n",
       "      <td>Baja California</td>\n",
       "      <td>Maíz grano</td>\n",
       "      <td>1779.46</td>\n",
       "      <td>368.00</td>\n",
       "      <td>4.835489</td>\n",
       "      <td>3907.743804</td>\n",
       "      <td>3357794</td>\n",
       "      <td>20.9</td>\n",
       "    </tr>\n",
       "    <tr>\n",
       "      <th>4</th>\n",
       "      <td>2015</td>\n",
       "      <td>02</td>\n",
       "      <td>Baja California</td>\n",
       "      <td>Naranja</td>\n",
       "      <td>3260.35</td>\n",
       "      <td>265.50</td>\n",
       "      <td>12.280038</td>\n",
       "      <td>3481.529848</td>\n",
       "      <td>3357794</td>\n",
       "      <td>20.9</td>\n",
       "    </tr>\n",
       "    <tr>\n",
       "      <th>...</th>\n",
       "      <td>...</td>\n",
       "      <td>...</td>\n",
       "      <td>...</td>\n",
       "      <td>...</td>\n",
       "      <td>...</td>\n",
       "      <td>...</td>\n",
       "      <td>...</td>\n",
       "      <td>...</td>\n",
       "      <td>...</td>\n",
       "      <td>...</td>\n",
       "    </tr>\n",
       "    <tr>\n",
       "      <th>254</th>\n",
       "      <td>2018</td>\n",
       "      <td>30</td>\n",
       "      <td>Veracruz</td>\n",
       "      <td>Maíz grano</td>\n",
       "      <td>1234572.12</td>\n",
       "      <td>570418.00</td>\n",
       "      <td>2.164329</td>\n",
       "      <td>4050.934012</td>\n",
       "      <td>8323640</td>\n",
       "      <td>0.0</td>\n",
       "    </tr>\n",
       "    <tr>\n",
       "      <th>255</th>\n",
       "      <td>2018</td>\n",
       "      <td>30</td>\n",
       "      <td>Veracruz</td>\n",
       "      <td>Naranja</td>\n",
       "      <td>2508486.48</td>\n",
       "      <td>169531.00</td>\n",
       "      <td>14.796624</td>\n",
       "      <td>1876.276161</td>\n",
       "      <td>8323640</td>\n",
       "      <td>0.0</td>\n",
       "    </tr>\n",
       "    <tr>\n",
       "      <th>256</th>\n",
       "      <td>2018</td>\n",
       "      <td>31</td>\n",
       "      <td>Yucatán</td>\n",
       "      <td>Maíz grano</td>\n",
       "      <td>124858.07</td>\n",
       "      <td>114727.72</td>\n",
       "      <td>1.088299</td>\n",
       "      <td>4180.296029</td>\n",
       "      <td>2208236</td>\n",
       "      <td>0.0</td>\n",
       "    </tr>\n",
       "    <tr>\n",
       "      <th>257</th>\n",
       "      <td>2018</td>\n",
       "      <td>31</td>\n",
       "      <td>Yucatán</td>\n",
       "      <td>Naranja</td>\n",
       "      <td>148344.59</td>\n",
       "      <td>11661.86</td>\n",
       "      <td>12.720491</td>\n",
       "      <td>2499.291576</td>\n",
       "      <td>2208236</td>\n",
       "      <td>0.0</td>\n",
       "    </tr>\n",
       "    <tr>\n",
       "      <th>258</th>\n",
       "      <td>2018</td>\n",
       "      <td>32</td>\n",
       "      <td>Zacatecas</td>\n",
       "      <td>Maíz grano</td>\n",
       "      <td>402221.15</td>\n",
       "      <td>197242.00</td>\n",
       "      <td>2.039227</td>\n",
       "      <td>3983.264920</td>\n",
       "      <td>1642388</td>\n",
       "      <td>0.0</td>\n",
       "    </tr>\n",
       "  </tbody>\n",
       "</table>\n",
       "<p>259 rows × 10 columns</p>\n",
       "</div>"
      ],
      "text/plain": [
       "     anio clave_entidad          entidad        cultivo  produccion_ton  \\\n",
       "0    2015            01   Aguascalientes     Maíz grano        60309.42   \n",
       "1    2015            01   Aguascalientes        Naranja           14.00   \n",
       "2    2015            02  Baja California  Algodón hueso        93432.24   \n",
       "3    2015            02  Baja California     Maíz grano         1779.46   \n",
       "4    2015            02  Baja California        Naranja         3260.35   \n",
       "..    ...           ...              ...            ...             ...   \n",
       "254  2018            30         Veracruz     Maíz grano      1234572.12   \n",
       "255  2018            30         Veracruz        Naranja      2508486.48   \n",
       "256  2018            31          Yucatán     Maíz grano       124858.07   \n",
       "257  2018            31          Yucatán        Naranja       148344.59   \n",
       "258  2018            32        Zacatecas     Maíz grano       402221.15   \n",
       "\n",
       "     superficie_sembrada_ha  rendimiento   precio_ton  poblacion  \\\n",
       "0                  37209.50     1.620807  3371.589253    1331825   \n",
       "1                      2.00     7.000000  2200.000000    1331825   \n",
       "2                  18957.00     4.928641  7350.590000    3357794   \n",
       "3                    368.00     4.835489  3907.743804    3357794   \n",
       "4                    265.50    12.280038  3481.529848    3357794   \n",
       "..                      ...          ...          ...        ...   \n",
       "254               570418.00     2.164329  4050.934012    8323640   \n",
       "255               169531.00    14.796624  1876.276161    8323640   \n",
       "256               114727.72     1.088299  4180.296029    2208236   \n",
       "257                11661.86    12.720491  2499.291576    2208236   \n",
       "258               197242.00     2.039227  3983.264920    1642388   \n",
       "\n",
       "     temperatura_promedio_anual  \n",
       "0                          17.7  \n",
       "1                          17.7  \n",
       "2                          20.9  \n",
       "3                          20.9  \n",
       "4                          20.9  \n",
       "..                          ...  \n",
       "254                         0.0  \n",
       "255                         0.0  \n",
       "256                         0.0  \n",
       "257                         0.0  \n",
       "258                         0.0  \n",
       "\n",
       "[259 rows x 10 columns]"
      ]
     },
     "execution_count": 5,
     "metadata": {},
     "output_type": "execute_result"
    }
   ],
   "source": [
    "#Unir datasets\n",
    "\n",
    "merge1_1 = pd.merge(dataset_cul, dataset_pob, left_on=('anio', 'clave_entidad'), right_on=('anio', 'clave_entidad'))\n",
    "merge1_2 = merge1_1.rename(columns={'entidad_x':'entidad'})\n",
    "merge1 = merge1_2[['anio', 'clave_entidad', 'entidad', 'cultivo', 'produccion_ton', 'superficie_sembrada_ha', 'rendimiento', 'precio_ton', 'poblacion']]\n",
    "\n",
    "merge2_1 = pd.merge(merge1, dataset_temp, left_on=('anio', 'clave_entidad'), right_on=('anio', 'clave_entidad'))\n",
    "merge2_2 = merge2_1.rename(columns={'entidad_x':'entidad'})\n",
    "merge = merge2_2[['anio', 'clave_entidad', 'entidad', 'cultivo', 'produccion_ton', 'superficie_sembrada_ha', 'rendimiento', 'precio_ton', 'poblacion', 'temperatura_promedio_anual']]\n",
    "\n",
    "data = merge\n",
    "data"
   ]
  },
  {
   "cell_type": "code",
   "execution_count": null,
   "metadata": {},
   "outputs": [],
   "source": []
  },
  {
   "cell_type": "code",
   "execution_count": null,
   "metadata": {},
   "outputs": [],
   "source": [
    "#Correlación Producción-Población"
   ]
  },
  {
   "cell_type": "code",
   "execution_count": 10,
   "metadata": {},
   "outputs": [
    {
     "data": {
      "text/plain": [
       "0.30848837754820413"
      ]
     },
     "execution_count": 10,
     "metadata": {},
     "output_type": "execute_result"
    }
   ],
   "source": [
    "data.produccion_ton.corr(data.poblacion)"
   ]
  },
  {
   "cell_type": "code",
   "execution_count": 12,
   "metadata": {},
   "outputs": [
    {
     "data": {
      "text/plain": [
       "0.3225458596415263"
      ]
     },
     "execution_count": 12,
     "metadata": {},
     "output_type": "execute_result"
    }
   ],
   "source": [
    "data.loc[(data.anio == '2015')].produccion_ton.corr(data.poblacion)"
   ]
  },
  {
   "cell_type": "code",
   "execution_count": 13,
   "metadata": {},
   "outputs": [
    {
     "data": {
      "text/plain": [
       "0.3086216488584595"
      ]
     },
     "execution_count": 13,
     "metadata": {},
     "output_type": "execute_result"
    }
   ],
   "source": [
    "data.loc[(data.anio == '2016')].produccion_ton.corr(data.poblacion)"
   ]
  },
  {
   "cell_type": "code",
   "execution_count": 14,
   "metadata": {},
   "outputs": [
    {
     "data": {
      "text/plain": [
       "0.3062109694442557"
      ]
     },
     "execution_count": 14,
     "metadata": {},
     "output_type": "execute_result"
    }
   ],
   "source": [
    "data.loc[(data.anio == '2017')].produccion_ton.corr(data.poblacion)"
   ]
  },
  {
   "cell_type": "code",
   "execution_count": 15,
   "metadata": {},
   "outputs": [
    {
     "data": {
      "text/plain": [
       "0.29837173403683603"
      ]
     },
     "execution_count": 15,
     "metadata": {},
     "output_type": "execute_result"
    }
   ],
   "source": [
    "data.loc[(data.anio == '2018')].produccion_ton.corr(data.poblacion)"
   ]
  },
  {
   "cell_type": "code",
   "execution_count": null,
   "metadata": {},
   "outputs": [],
   "source": [
    "#Correlación Producción-Temperatura"
   ]
  },
  {
   "cell_type": "code",
   "execution_count": 7,
   "metadata": {},
   "outputs": [
    {
     "data": {
      "text/plain": [
       "-0.017104083727403428"
      ]
     },
     "execution_count": 7,
     "metadata": {},
     "output_type": "execute_result"
    }
   ],
   "source": [
    "data.produccion_ton.corr(data.temperatura_promedio_anual)"
   ]
  },
  {
   "cell_type": "code",
   "execution_count": 17,
   "metadata": {},
   "outputs": [
    {
     "data": {
      "text/plain": [
       "-0.03604459230534466"
      ]
     },
     "execution_count": 17,
     "metadata": {},
     "output_type": "execute_result"
    }
   ],
   "source": [
    "data.loc[(data.anio == '2015')].produccion_ton.corr(data.temperatura_promedio_anual)"
   ]
  },
  {
   "cell_type": "code",
   "execution_count": 18,
   "metadata": {},
   "outputs": [
    {
     "data": {
      "text/plain": [
       "-0.020163730302084994"
      ]
     },
     "execution_count": 18,
     "metadata": {},
     "output_type": "execute_result"
    }
   ],
   "source": [
    "data.loc[(data.anio == '2016')].produccion_ton.corr(data.temperatura_promedio_anual)"
   ]
  },
  {
   "cell_type": "code",
   "execution_count": 19,
   "metadata": {},
   "outputs": [
    {
     "data": {
      "text/plain": [
       "-0.04004482173680197"
      ]
     },
     "execution_count": 19,
     "metadata": {},
     "output_type": "execute_result"
    }
   ],
   "source": [
    "data.loc[(data.anio == '2017')].produccion_ton.corr(data.temperatura_promedio_anual)"
   ]
  },
  {
   "cell_type": "code",
   "execution_count": 20,
   "metadata": {},
   "outputs": [
    {
     "data": {
      "text/plain": [
       "nan"
      ]
     },
     "execution_count": 20,
     "metadata": {},
     "output_type": "execute_result"
    }
   ],
   "source": [
    "data.loc[(data.anio == '2018')].produccion_ton.corr(data.temperatura_promedio_anual)"
   ]
  },
  {
   "cell_type": "code",
   "execution_count": null,
   "metadata": {},
   "outputs": [],
   "source": []
  },
  {
   "cell_type": "code",
   "execution_count": 27,
   "metadata": {},
   "outputs": [
    {
     "data": {
      "text/plain": [
       "<matplotlib.legend.Legend at 0x2ddb74ffc88>"
      ]
     },
     "execution_count": 27,
     "metadata": {},
     "output_type": "execute_result"
    },
    {
     "data": {
      "image/png": "[encoded data removed]",
      "text/plain": [
       "<Figure size 432x288 with 1 Axes>"
      ]
     },
     "metadata": {
      "needs_background": "light"
     },
     "output_type": "display_data"
    }
   ],
   "source": [
    "#Correlación Producción-Población\n",
    "sns.scatterplot(x='produccion_ton', y='poblacion', hue='cultivo', data=data).legend(loc=1, ncol=1, bbox_to_anchor=(1.4, 0.9))"
   ]
  },
  {
   "cell_type": "code",
   "execution_count": 26,
   "metadata": {},
   "outputs": [
    {
     "data": {
      "text/plain": [
       "<matplotlib.legend.Legend at 0x2ddb7a01e48>"
      ]
     },
     "execution_count": 26,
     "metadata": {},
     "output_type": "execute_result"
    },
    {
     "data": {
      "image/png": "[encoded data removed]",
      "text/plain": [
       "<Figure size 432x288 with 1 Axes>"
      ]
     },
     "metadata": {
      "needs_background": "light"
     },
     "output_type": "display_data"
    }
   ],
   "source": [
    "#Correlación Producción-Población 2018\n",
    "sns.scatterplot(x='produccion_ton', y='poblacion', hue='cultivo', data=data.loc[(data.anio == '2018')]).legend(loc=1, ncol=1, bbox_to_anchor=(1.4, 0.9))"
   ]
  },
  {
   "cell_type": "code",
   "execution_count": 24,
   "metadata": {},
   "outputs": [
    {
     "data": {
      "text/plain": [
       "<matplotlib.legend.Legend at 0x2ddb1afc400>"
      ]
     },
     "execution_count": 24,
     "metadata": {},
     "output_type": "execute_result"
    },
    {
     "data": {
      "image/png": "[encoded data removed]",
      "text/plain": [
       "<Figure size 432x288 with 1 Axes>"
      ]
     },
     "metadata": {
      "needs_background": "light"
     },
     "output_type": "display_data"
    }
   ],
   "source": [
    "#Correlación Producción-Temperatura\n",
    "sns.scatterplot(x='produccion_ton', y='temperatura_promedio_anual', hue='cultivo', data=data).legend(loc=1, ncol=1, bbox_to_anchor=(1.4, 0.9))"
   ]
  },
  {
   "cell_type": "code",
   "execution_count": 29,
   "metadata": {},
   "outputs": [
    {
     "data": {
      "text/plain": [
       "<matplotlib.legend.Legend at 0x2ddb71358d0>"
      ]
     },
     "execution_count": 29,
     "metadata": {},
     "output_type": "execute_result"
    },
    {
     "data": {
      "image/png": "[encoded data removed]",
      "text/plain": [
       "<Figure size 432x288 with 1 Axes>"
      ]
     },
     "metadata": {
      "needs_background": "light"
     },
     "output_type": "display_data"
    }
   ],
   "source": [
    "#Correlación Producción-Temperatura 2017\n",
    "sns.scatterplot(x='produccion_ton', y='temperatura_promedio_anual', hue='cultivo', data=data.loc[(data.anio == '2017')]).legend(loc=1, ncol=1, bbox_to_anchor=(1.4, 0.9))"
   ]
  },
  {
   "cell_type": "code",
   "execution_count": null,
   "metadata": {},
   "outputs": [],
   "source": []
  }
 ],
 "metadata": {
  "language_info": {
   "codemirror_mode": {
    "name": "ipython",
    "version": 3
   },
   "file_extension": ".py",
   "mimetype": "text/x-python",
   "name": "python",
   "nbconvert_exporter": "python",
   "pygments_lexer": "ipython3",
   "version": "3.7.3"
  }
 },
 "nbformat": 4,
 "nbformat_minor": 2
}
